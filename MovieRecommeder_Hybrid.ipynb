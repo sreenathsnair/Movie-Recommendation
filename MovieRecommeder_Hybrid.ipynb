{
 "cells": [
  {
   "cell_type": "markdown",
   "metadata": {},
   "source": [
    "## MOVIE RECOMMENDER SYSTEM - HYBRID RECOMMENDATION\n",
    "\n",
    "#### SREENATH S\n",
    "\n",
    "**NOTE: It is assumed that all the required input files are present in the same folder where this notebook is copied to.**"
   ]
  },
  {
   "cell_type": "markdown",
   "metadata": {},
   "source": [
    "This notebook is part of the project Movie Recommendation System. Basic functionality of this notebook is to perform the Hybrid recommendation. \n",
    "\n",
    "1. Create Collaborative Filtering model.<br>\n",
    "2. Create Content Based Filtering model.<br>\n",
    "3. Create a hybrid recommender with collaborative and content ased models. <br>\n",
    "5. Hybrid model support the get_item_recommendations() API as follows:<br>\n",
    "   a. Get the topn recommendation from collaborative filtering model.<br>\n",
    "   b. Get the topn recommendation from content based filtering model.<br>\n",
    "   c. Take a union of both the recommendations.<br>\n",
    "   d. Compute the hybrid recommendation score as: <br>\n",
    "         hybrid recommendation score =\n",
    "         content based similarity score * content rec weightage + collaborative similaity score * coll. rec weightage\n",
    "\n",
    "**Notebook from the walkthrough session is used as base version, changes are made as required on top of the initial version**"
   ]
  },
  {
   "cell_type": "markdown",
   "metadata": {},
   "source": [
    "Import all the packages as needed."
   ]
  },
  {
   "cell_type": "code",
   "execution_count": 1,
   "metadata": {},
   "outputs": [],
   "source": [
    "import import_ipynb\n",
    "import pandas as pd\n",
    "import matplotlib.pyplot as plt\n",
    "from configs import MODEL_HYBRID, NUM_LATENT_FACTORS"
   ]
  },
  {
   "cell_type": "markdown",
   "metadata": {},
   "source": [
    "Loading other modules which are created as part of Movie Recommendation system. Other modules of interest are:\n",
    "1. MovieRecommender_TrainTestDataGenerator\n",
    "2. MovieRecommeder_evaluations\n",
    "3. MovieRecommender_Content_based_filtering\n",
    "4. MovieRecommeder_Collaborative_filtering\n",
    "\n",
    "Please note that disabled print functionality for this cell, otherwise it will be showing print statements from these modules.\n",
    "\n",
    "**Note that the below cell may take 10-20 min for execution its importing all other modules**"
   ]
  },
  {
   "cell_type": "code",
   "execution_count": 2,
   "metadata": {},
   "outputs": [],
   "source": [
    "%%capture\n",
    "import MovieRecommender_TrainTestDataGenerator as DataGen\n",
    "import MovieRecommeder_evaluations as ModelEval\n",
    "import MovieRecommeder_Collaborative_filtering as CollaborativeModel\n",
    "import MovieRecommender_Content_based_filtering as ContentBasedModel "
   ]
  },
  {
   "cell_type": "markdown",
   "metadata": {},
   "source": [
    "Lets define hybrid recommendation model"
   ]
  },
  {
   "cell_type": "code",
   "execution_count": 3,
   "metadata": {
    "scrolled": false
   },
   "outputs": [],
   "source": [
    "class HybridRecommender:\n",
    "    \n",
    "    # initialize all the data as required\n",
    "    # Input needde are:\n",
    "    #       Object of Content Based Recommendation model\n",
    "    #       Object of Collaborative Recommendation model\n",
    "    #       Weightage for content based model\n",
    "    #       Weightage for collaborative model\n",
    "    def __init__(self, content_model, collab_model, items_df, content_model_weight=1.0, collab_model_weight=1.0):\n",
    "        \n",
    "        self.content_model = content_model\n",
    "        self.collab_model = collab_model\n",
    "        self.content_model_weight = content_model_weight\n",
    "        self.collab_model_weight = collab_model_weight\n",
    "        self.items_df = items_df\n",
    "    \n",
    "    # Method: get_item_recommendations - This method returns hydrid recommedation for the given user.\n",
    "    # Description: This method performs the following:\n",
    "    #           1. Get the topn recommendation from collaborative model\n",
    "    #           2. Get the topn recommendation from content based model\n",
    "    #           3. Combine both recommendation by performing an outer join( union of both recommendation)\n",
    "    #           4. Compute the hybrid recommendation score by multiplying weightage factor for corresponding recommendation model\n",
    "    #           5. Sort the topn recommendation\n",
    "    #           6. Merge it with movie metadata to retrieve the movie_title details\n",
    "    def get_item_recommendations(self, user_id, items_to_ignore=[], topn=10):\n",
    "        # Get the top-2000 Collaborative filtering recommendations\n",
    "        collab_recom_df = self.collab_model.get_item_recommendations(user_id, items_to_ignore=items_to_ignore, topn=2000)\n",
    "        collab_recom_df = collab_recom_df.rename(columns={'sim_score': 'sim_score_collab'})\n",
    "\n",
    "        # Get the top-2000 Content-based filtering recommendations\n",
    "        content_recom_df = self.content_model.get_item_recommendations(user_id, items_to_ignore=items_to_ignore, topn=2000)\n",
    "        content_recom_df = content_recom_df.rename(columns={'sim_score': 'sim_score_content'})\n",
    "        \n",
    "        # Merge both recommendations\n",
    "        recom_df = content_recom_df.merge(collab_recom_df, how = 'outer', left_on = 'imdbId', right_on = 'imdbId')\n",
    "        # fill na with 0s\n",
    "        recom_df = recom_df.fillna(0.0)\n",
    "        \n",
    "        # Get the hybrid recommendation score\n",
    "        recom_df['hybrid_rec_relevance_score'] = (recom_df['sim_score_content'] * self.content_model_weight) + (recom_df['sim_score_collab'] * self.collab_model_weight)\n",
    "        \n",
    "        # Sort recommendations by hybrid score\n",
    "        recommendations_df = recom_df.sort_values('hybrid_rec_relevance_score', ascending=False)\n",
    "        recommendations_df = recommendations_df.head(topn)\n",
    "\n",
    "        # Merge it with movie dataset on imdbId and return the dataframre\n",
    "        movie_dataset = self.items_df[['imdbId', 'title']]\n",
    "        recommendations_df = pd.merge(left=recommendations_df, right=movie_dataset, left_on='imdbId', right_on='imdbId')\n",
    "        return recommendations_df"
   ]
  },
  {
   "cell_type": "markdown",
   "metadata": {},
   "source": [
    "Get the Movie dataset"
   ]
  },
  {
   "cell_type": "code",
   "execution_count": 4,
   "metadata": {},
   "outputs": [],
   "source": [
    "movie_meta_data = DataGen.get_movie_metadata()"
   ]
  },
  {
   "cell_type": "code",
   "execution_count": 5,
   "metadata": {},
   "outputs": [
    {
     "data": {
      "text/plain": [
       "(8989, 9)"
      ]
     },
     "execution_count": 5,
     "metadata": {},
     "output_type": "execute_result"
    }
   ],
   "source": [
    "movie_meta_data.shape"
   ]
  },
  {
   "cell_type": "markdown",
   "metadata": {},
   "source": [
    "Create Collaborative Filterin Model"
   ]
  },
  {
   "cell_type": "code",
   "execution_count": 6,
   "metadata": {},
   "outputs": [
    {
     "name": "stdout",
     "output_type": "stream",
     "text": [
      "(8500, 671)\n"
     ]
    }
   ],
   "source": [
    "user_matrix, sigma, item_matrix = CollaborativeModel.perform_matrix_factorization(NUM_LATENT_FACTORS)\n",
    "all_user_predicted_ratings_norm = CollaborativeModel.get_predicted_user_ratings(user_matrix, sigma, item_matrix)\n",
    "svd_preds_df=CollaborativeModel.get_ratings_df(all_user_predicted_ratings_norm)\n",
    "print(svd_preds_df.shape)\n",
    "collab_recomm_model = CollaborativeModel.CollabFiltering(svd_preds_df, movie_meta_data)"
   ]
  },
  {
   "cell_type": "markdown",
   "metadata": {},
   "source": [
    "Create Content Based Filtering Model"
   ]
  },
  {
   "cell_type": "code",
   "execution_count": 7,
   "metadata": {},
   "outputs": [],
   "source": [
    "item_ids = movie_meta_data['imdbId'].tolist()\n",
    "content_based_recommender_model = ContentBasedModel.ContentFiltering(item_ids, movie_meta_data)"
   ]
  },
  {
   "cell_type": "markdown",
   "metadata": {},
   "source": [
    "Create Hybrid Recommendation Model, with collaborative recommendation weightage 10 and content weightage 1. We are giving more weightage to collaborative filtering as we have seen collaborative filtering was getting more recall compared to content based recommendation. "
   ]
  },
  {
   "cell_type": "code",
   "execution_count": 8,
   "metadata": {},
   "outputs": [],
   "source": [
    "hybrid_recommender_model = HybridRecommender(content_based_recommender_model, \n",
    "                                             collab_recomm_model, \n",
    "                                             movie_meta_data,\n",
    "                                             content_model_weight=1.0, \n",
    "                                             collab_model_weight=100.0)"
   ]
  },
  {
   "cell_type": "markdown",
   "metadata": {},
   "source": [
    "Let us evaluate Hybrid Recommendation Model"
   ]
  },
  {
   "cell_type": "code",
   "execution_count": 9,
   "metadata": {},
   "outputs": [
    {
     "name": "stdout",
     "output_type": "stream",
     "text": [
      "Number of users processed :  667\n",
      "overall metrics:\n",
      " {'model_type': 'hybrid_recommender', 'recallscore@5': 0.6099712624473702, 'recallscore@10': 0.7225823698456192}\n"
     ]
    },
    {
     "data": {
      "text/html": [
       "<div>\n",
       "<style scoped>\n",
       "    .dataframe tbody tr th:only-of-type {\n",
       "        vertical-align: middle;\n",
       "    }\n",
       "\n",
       "    .dataframe tbody tr th {\n",
       "        vertical-align: top;\n",
       "    }\n",
       "\n",
       "    .dataframe thead th {\n",
       "        text-align: right;\n",
       "    }\n",
       "</style>\n",
       "<table border=\"1\" class=\"dataframe\">\n",
       "  <thead>\n",
       "    <tr style=\"text-align: right;\">\n",
       "      <th></th>\n",
       "      <th>hitrate@5_count</th>\n",
       "      <th>hitrate@10_count</th>\n",
       "      <th>interacted_count</th>\n",
       "      <th>recallscore@5</th>\n",
       "      <th>recallscore@10</th>\n",
       "      <th>userId</th>\n",
       "    </tr>\n",
       "  </thead>\n",
       "  <tbody>\n",
       "    <tr>\n",
       "      <th>61</th>\n",
       "      <td>81</td>\n",
       "      <td>103</td>\n",
       "      <td>372</td>\n",
       "      <td>0.217742</td>\n",
       "      <td>0.276882</td>\n",
       "      <td>547</td>\n",
       "    </tr>\n",
       "    <tr>\n",
       "      <th>62</th>\n",
       "      <td>58</td>\n",
       "      <td>89</td>\n",
       "      <td>266</td>\n",
       "      <td>0.218045</td>\n",
       "      <td>0.334586</td>\n",
       "      <td>624</td>\n",
       "    </tr>\n",
       "    <tr>\n",
       "      <th>12</th>\n",
       "      <td>74</td>\n",
       "      <td>111</td>\n",
       "      <td>264</td>\n",
       "      <td>0.280303</td>\n",
       "      <td>0.420455</td>\n",
       "      <td>73</td>\n",
       "    </tr>\n",
       "    <tr>\n",
       "      <th>17</th>\n",
       "      <td>79</td>\n",
       "      <td>118</td>\n",
       "      <td>258</td>\n",
       "      <td>0.306202</td>\n",
       "      <td>0.457364</td>\n",
       "      <td>564</td>\n",
       "    </tr>\n",
       "    <tr>\n",
       "      <th>66</th>\n",
       "      <td>114</td>\n",
       "      <td>141</td>\n",
       "      <td>249</td>\n",
       "      <td>0.457831</td>\n",
       "      <td>0.566265</td>\n",
       "      <td>15</td>\n",
       "    </tr>\n",
       "    <tr>\n",
       "      <th>41</th>\n",
       "      <td>82</td>\n",
       "      <td>110</td>\n",
       "      <td>214</td>\n",
       "      <td>0.383178</td>\n",
       "      <td>0.514019</td>\n",
       "      <td>468</td>\n",
       "    </tr>\n",
       "    <tr>\n",
       "      <th>2</th>\n",
       "      <td>81</td>\n",
       "      <td>104</td>\n",
       "      <td>185</td>\n",
       "      <td>0.437838</td>\n",
       "      <td>0.562162</td>\n",
       "      <td>452</td>\n",
       "    </tr>\n",
       "    <tr>\n",
       "      <th>50</th>\n",
       "      <td>69</td>\n",
       "      <td>91</td>\n",
       "      <td>169</td>\n",
       "      <td>0.408284</td>\n",
       "      <td>0.538462</td>\n",
       "      <td>30</td>\n",
       "    </tr>\n",
       "    <tr>\n",
       "      <th>23</th>\n",
       "      <td>87</td>\n",
       "      <td>103</td>\n",
       "      <td>156</td>\n",
       "      <td>0.557692</td>\n",
       "      <td>0.660256</td>\n",
       "      <td>311</td>\n",
       "    </tr>\n",
       "    <tr>\n",
       "      <th>79</th>\n",
       "      <td>68</td>\n",
       "      <td>85</td>\n",
       "      <td>145</td>\n",
       "      <td>0.468966</td>\n",
       "      <td>0.586207</td>\n",
       "      <td>213</td>\n",
       "    </tr>\n",
       "  </tbody>\n",
       "</table>\n",
       "</div>"
      ],
      "text/plain": [
       "    hitrate@5_count  hitrate@10_count  interacted_count  recallscore@5  \\\n",
       "61               81               103               372       0.217742   \n",
       "62               58                89               266       0.218045   \n",
       "12               74               111               264       0.280303   \n",
       "17               79               118               258       0.306202   \n",
       "66              114               141               249       0.457831   \n",
       "41               82               110               214       0.383178   \n",
       "2                81               104               185       0.437838   \n",
       "50               69                91               169       0.408284   \n",
       "23               87               103               156       0.557692   \n",
       "79               68                85               145       0.468966   \n",
       "\n",
       "    recallscore@10  userId  \n",
       "61        0.276882     547  \n",
       "62        0.334586     624  \n",
       "12        0.420455      73  \n",
       "17        0.457364     564  \n",
       "66        0.566265      15  \n",
       "41        0.514019     468  \n",
       "2         0.562162     452  \n",
       "50        0.538462      30  \n",
       "23        0.660256     311  \n",
       "79        0.586207     213  "
      ]
     },
     "execution_count": 9,
     "metadata": {},
     "output_type": "execute_result"
    }
   ],
   "source": [
    "hybrid_overall_metrics, hybrid_eval_results_df = ModelEval.model_evaluator.evaluate_model(hybrid_recommender_model,MODEL_HYBRID)\n",
    "print('overall metrics:\\n', hybrid_overall_metrics)\n",
    "hybrid_eval_results_df.head(10)"
   ]
  },
  {
   "cell_type": "markdown",
   "metadata": {},
   "source": [
    "Let us create a data frame with the evaluation details of different recommendation models"
   ]
  },
  {
   "cell_type": "code",
   "execution_count": 10,
   "metadata": {},
   "outputs": [
    {
     "data": {
      "text/html": [
       "<div>\n",
       "<style scoped>\n",
       "    .dataframe tbody tr th:only-of-type {\n",
       "        vertical-align: middle;\n",
       "    }\n",
       "\n",
       "    .dataframe tbody tr th {\n",
       "        vertical-align: top;\n",
       "    }\n",
       "\n",
       "    .dataframe thead th {\n",
       "        text-align: right;\n",
       "    }\n",
       "</style>\n",
       "<table border=\"1\" class=\"dataframe\">\n",
       "  <thead>\n",
       "    <tr style=\"text-align: right;\">\n",
       "      <th></th>\n",
       "      <th>recallscore@5</th>\n",
       "      <th>recallscore@10</th>\n",
       "    </tr>\n",
       "    <tr>\n",
       "      <th>model_type</th>\n",
       "      <th></th>\n",
       "      <th></th>\n",
       "    </tr>\n",
       "  </thead>\n",
       "  <tbody>\n",
       "    <tr>\n",
       "      <th>content_based</th>\n",
       "      <td>0.144222</td>\n",
       "      <td>0.235915</td>\n",
       "    </tr>\n",
       "    <tr>\n",
       "      <th>collaborative_filtering</th>\n",
       "      <td>0.609838</td>\n",
       "      <td>0.721313</td>\n",
       "    </tr>\n",
       "    <tr>\n",
       "      <th>hybrid_recommender</th>\n",
       "      <td>0.609971</td>\n",
       "      <td>0.722582</td>\n",
       "    </tr>\n",
       "  </tbody>\n",
       "</table>\n",
       "</div>"
      ],
      "text/plain": [
       "                         recallscore@5  recallscore@10\n",
       "model_type                                            \n",
       "content_based                 0.144222        0.235915\n",
       "collaborative_filtering       0.609838        0.721313\n",
       "hybrid_recommender            0.609971        0.722582"
      ]
     },
     "execution_count": 10,
     "metadata": {},
     "output_type": "execute_result"
    }
   ],
   "source": [
    "all_models_metrics_df = pd.DataFrame([ContentBasedModel.content_overall_metrics, CollaborativeModel.collab_overall_metrics, hybrid_overall_metrics])\n",
    "all_models_metrics_df = all_models_metrics_df.set_index('model_type')\n",
    "all_models_metrics_df"
   ]
  },
  {
   "cell_type": "markdown",
   "metadata": {},
   "source": [
    "Let us plot the Recall Matrices for each Model Type"
   ]
  },
  {
   "cell_type": "code",
   "execution_count": 11,
   "metadata": {},
   "outputs": [
    {
     "data": {
      "image/png": "[encoded data removed]",
      "text/plain": [
       "<Figure size 1080x576 with 1 Axes>"
      ]
     },
     "metadata": {
      "needs_background": "light"
     },
     "output_type": "display_data"
    }
   ],
   "source": [
    "ax = all_models_metrics_df.plot(kind='bar', figsize=(15,8))\n",
    "kx = -0.05\n",
    "ky = 0.02\n",
    "ax.set_ylabel('recall')\n",
    "for p in ax.patches:\n",
    "    ax.text(p.get_xy()[0]+kx+p.get_width()/2, p.get_height()+ky, \"%.3f\" % p.get_height(),fontsize=12, color='black')"
   ]
  },
  {
   "cell_type": "code",
   "execution_count": 12,
   "metadata": {},
   "outputs": [
    {
     "data": {
      "text/html": [
       "<div>\n",
       "<style scoped>\n",
       "    .dataframe tbody tr th:only-of-type {\n",
       "        vertical-align: middle;\n",
       "    }\n",
       "\n",
       "    .dataframe tbody tr th {\n",
       "        vertical-align: top;\n",
       "    }\n",
       "\n",
       "    .dataframe thead th {\n",
       "        text-align: right;\n",
       "    }\n",
       "</style>\n",
       "<table border=\"1\" class=\"dataframe\">\n",
       "  <thead>\n",
       "    <tr style=\"text-align: right;\">\n",
       "      <th>model_type</th>\n",
       "      <th>content_based</th>\n",
       "      <th>collaborative_filtering</th>\n",
       "      <th>hybrid_recommender</th>\n",
       "    </tr>\n",
       "  </thead>\n",
       "  <tbody>\n",
       "    <tr>\n",
       "      <th>recallscore@5</th>\n",
       "      <td>0.144222</td>\n",
       "      <td>0.609838</td>\n",
       "      <td>0.609971</td>\n",
       "    </tr>\n",
       "    <tr>\n",
       "      <th>recallscore@10</th>\n",
       "      <td>0.235915</td>\n",
       "      <td>0.721313</td>\n",
       "      <td>0.722582</td>\n",
       "    </tr>\n",
       "  </tbody>\n",
       "</table>\n",
       "</div>"
      ],
      "text/plain": [
       "model_type      content_based  collaborative_filtering  hybrid_recommender\n",
       "recallscore@5        0.144222                 0.609838            0.609971\n",
       "recallscore@10       0.235915                 0.721313            0.722582"
      ]
     },
     "execution_count": 12,
     "metadata": {},
     "output_type": "execute_result"
    }
   ],
   "source": [
    "all_models_metrics_df_transpose = all_models_metrics_df.transpose()\n",
    "all_models_metrics_df_transpose"
   ]
  },
  {
   "cell_type": "code",
   "execution_count": 13,
   "metadata": {},
   "outputs": [
    {
     "data": {
      "image/png": "[encoded data removed]",
      "text/plain": [
       "<Figure size 1080x576 with 1 Axes>"
      ]
     },
     "metadata": {
      "needs_background": "light"
     },
     "output_type": "display_data"
    }
   ],
   "source": [
    "ax = all_models_metrics_df_transpose.plot(kind='bar', figsize=(15,8))\n",
    "kx = -0.05\n",
    "ky = 0.02\n",
    "ax.set_ylabel('recall')\n",
    "for p in ax.patches:\n",
    "    ax.text(p.get_xy()[0]+kx+p.get_width()/2, p.get_height()+ky, \"%.3f\" % p.get_height(),fontsize=12, color='black')"
   ]
  },
  {
   "cell_type": "markdown",
   "metadata": {},
   "source": [
    "We can see the combined model has slight improvement over individual recommedation model"
   ]
  },
  {
   "cell_type": "markdown",
   "metadata": {},
   "source": [
    "We will be evaluating the recommendation by Hybrid Recommendation Model. Here we will be evaluating the Hybrid Recommender model for user with id 311. We have evaluated the output from the Collaborative filtering model for same user."
   ]
  },
  {
   "cell_type": "code",
   "execution_count": 14,
   "metadata": {},
   "outputs": [],
   "source": [
    "# METHOD      : get_user_recommendation\n",
    "# INPUTS      : user_id - Id of the user,  topn - number of recommendations needed\n",
    "# DESCRIPTION : Get the training data. Filter the list of movies wateched by the given user, as part of train data.\n",
    "#               Invoke hybrid recommender system with given user id and list of movies to be omitted from recommendation\n",
    "#               Return the recommended dataset."
   ]
  },
  {
   "cell_type": "code",
   "execution_count": 15,
   "metadata": {},
   "outputs": [],
   "source": [
    "def get_user_recommendation(user_id, topn = 20):\n",
    "    user_ratings_train_df = DataGen.train_test_user_behaviour()[0]\n",
    "    user_specific_interaction_df =user_ratings_train_df[user_ratings_train_df.userId == user_id]\n",
    "    list_of_interacted_items = list(user_specific_interaction_df.imdbId.unique())\n",
    "    recomm_df = hybrid_recommender_model.get_item_recommendations(user_id, list_of_interacted_items, topn=20)\n",
    "    return recomm_df[['imdbId', 'title', 'hybrid_rec_relevance_score']]"
   ]
  },
  {
   "cell_type": "code",
   "execution_count": 16,
   "metadata": {
    "scrolled": true
   },
   "outputs": [
    {
     "data": {
      "text/html": [
       "<div>\n",
       "<style scoped>\n",
       "    .dataframe tbody tr th:only-of-type {\n",
       "        vertical-align: middle;\n",
       "    }\n",
       "\n",
       "    .dataframe tbody tr th {\n",
       "        vertical-align: top;\n",
       "    }\n",
       "\n",
       "    .dataframe thead th {\n",
       "        text-align: right;\n",
       "    }\n",
       "</style>\n",
       "<table border=\"1\" class=\"dataframe\">\n",
       "  <thead>\n",
       "    <tr style=\"text-align: right;\">\n",
       "      <th></th>\n",
       "      <th>imdbId</th>\n",
       "      <th>title</th>\n",
       "      <th>hybrid_rec_relevance_score</th>\n",
       "    </tr>\n",
       "  </thead>\n",
       "  <tbody>\n",
       "    <tr>\n",
       "      <th>0</th>\n",
       "      <td>118571</td>\n",
       "      <td>Air Force One</td>\n",
       "      <td>63.903970</td>\n",
       "    </tr>\n",
       "    <tr>\n",
       "      <th>1</th>\n",
       "      <td>116282</td>\n",
       "      <td>Fargo</td>\n",
       "      <td>59.205544</td>\n",
       "    </tr>\n",
       "    <tr>\n",
       "      <th>2</th>\n",
       "      <td>119654</td>\n",
       "      <td>Men in Black</td>\n",
       "      <td>58.860714</td>\n",
       "    </tr>\n",
       "    <tr>\n",
       "      <th>3</th>\n",
       "      <td>31381</td>\n",
       "      <td>Gone with the Wind</td>\n",
       "      <td>56.458443</td>\n",
       "    </tr>\n",
       "    <tr>\n",
       "      <th>4</th>\n",
       "      <td>107290</td>\n",
       "      <td>Jurassic Park</td>\n",
       "      <td>54.975519</td>\n",
       "    </tr>\n",
       "    <tr>\n",
       "      <th>5</th>\n",
       "      <td>108160</td>\n",
       "      <td>Sleepless in Seattle</td>\n",
       "      <td>54.455988</td>\n",
       "    </tr>\n",
       "    <tr>\n",
       "      <th>6</th>\n",
       "      <td>114388</td>\n",
       "      <td>Sense and Sensibility</td>\n",
       "      <td>53.547847</td>\n",
       "    </tr>\n",
       "    <tr>\n",
       "      <th>7</th>\n",
       "      <td>109830</td>\n",
       "      <td>Forrest Gump</td>\n",
       "      <td>53.378898</td>\n",
       "    </tr>\n",
       "    <tr>\n",
       "      <th>8</th>\n",
       "      <td>71562</td>\n",
       "      <td>The Godfather: Part II</td>\n",
       "      <td>52.571905</td>\n",
       "    </tr>\n",
       "    <tr>\n",
       "      <th>9</th>\n",
       "      <td>68646</td>\n",
       "      <td>The Godfather</td>\n",
       "      <td>51.860769</td>\n",
       "    </tr>\n",
       "    <tr>\n",
       "      <th>10</th>\n",
       "      <td>105435</td>\n",
       "      <td>Sneakers</td>\n",
       "      <td>51.019550</td>\n",
       "    </tr>\n",
       "    <tr>\n",
       "      <th>11</th>\n",
       "      <td>32904</td>\n",
       "      <td>The Philadelphia Story</td>\n",
       "      <td>50.714121</td>\n",
       "    </tr>\n",
       "    <tr>\n",
       "      <th>12</th>\n",
       "      <td>97165</td>\n",
       "      <td>Dead Poets Society</td>\n",
       "      <td>50.081944</td>\n",
       "    </tr>\n",
       "    <tr>\n",
       "      <th>13</th>\n",
       "      <td>120689</td>\n",
       "      <td>The Green Mile</td>\n",
       "      <td>49.232090</td>\n",
       "    </tr>\n",
       "    <tr>\n",
       "      <th>14</th>\n",
       "      <td>125439</td>\n",
       "      <td>Notting Hill</td>\n",
       "      <td>49.193891</td>\n",
       "    </tr>\n",
       "    <tr>\n",
       "      <th>15</th>\n",
       "      <td>317740</td>\n",
       "      <td>The Italian Job</td>\n",
       "      <td>48.830170</td>\n",
       "    </tr>\n",
       "    <tr>\n",
       "      <th>16</th>\n",
       "      <td>92890</td>\n",
       "      <td>Dirty Dancing</td>\n",
       "      <td>48.207022</td>\n",
       "    </tr>\n",
       "    <tr>\n",
       "      <th>17</th>\n",
       "      <td>117218</td>\n",
       "      <td>The Nutty Professor</td>\n",
       "      <td>48.080581</td>\n",
       "    </tr>\n",
       "    <tr>\n",
       "      <th>18</th>\n",
       "      <td>53285</td>\n",
       "      <td>Sleeping Beauty</td>\n",
       "      <td>47.927182</td>\n",
       "    </tr>\n",
       "    <tr>\n",
       "      <th>19</th>\n",
       "      <td>110367</td>\n",
       "      <td>Little Women</td>\n",
       "      <td>47.808105</td>\n",
       "    </tr>\n",
       "  </tbody>\n",
       "</table>\n",
       "</div>"
      ],
      "text/plain": [
       "    imdbId                   title  hybrid_rec_relevance_score\n",
       "0   118571           Air Force One                   63.903970\n",
       "1   116282                   Fargo                   59.205544\n",
       "2   119654            Men in Black                   58.860714\n",
       "3    31381      Gone with the Wind                   56.458443\n",
       "4   107290           Jurassic Park                   54.975519\n",
       "5   108160    Sleepless in Seattle                   54.455988\n",
       "6   114388   Sense and Sensibility                   53.547847\n",
       "7   109830            Forrest Gump                   53.378898\n",
       "8    71562  The Godfather: Part II                   52.571905\n",
       "9    68646           The Godfather                   51.860769\n",
       "10  105435                Sneakers                   51.019550\n",
       "11   32904  The Philadelphia Story                   50.714121\n",
       "12   97165      Dead Poets Society                   50.081944\n",
       "13  120689          The Green Mile                   49.232090\n",
       "14  125439            Notting Hill                   49.193891\n",
       "15  317740         The Italian Job                   48.830170\n",
       "16   92890           Dirty Dancing                   48.207022\n",
       "17  117218     The Nutty Professor                   48.080581\n",
       "18   53285         Sleeping Beauty                   47.927182\n",
       "19  110367            Little Women                   47.808105"
      ]
     },
     "execution_count": 16,
     "metadata": {},
     "output_type": "execute_result"
    }
   ],
   "source": [
    "user_id = 311\n",
    "recommendations = get_user_recommendation(user_id, topn=20)\n",
    "recommendations"
   ]
  },
  {
   "cell_type": "markdown",
   "metadata": {},
   "source": [
    "Now we will filter the movies which are watched by same user from the test dataset. \n",
    "Get the movie details by merging the movie metadata dataset. "
   ]
  },
  {
   "cell_type": "code",
   "execution_count": 17,
   "metadata": {},
   "outputs": [],
   "source": [
    "user_ratings_test_df = DataGen.train_test_user_behaviour()[1]\n",
    "user_specific_interaction_test_df = user_ratings_test_df[user_ratings_test_df.userId == user_id]\n",
    "movie_dataset = movie_meta_data[['imdbId', 'title']]\n",
    "user_specific_interaction_test_df = pd.merge(left=user_specific_interaction_test_df, right=movie_dataset, left_on='imdbId', right_on='imdbId')"
   ]
  },
  {
   "cell_type": "markdown",
   "metadata": {},
   "source": [
    "Let us see how many of the recommeded movies are in the training dataset for the user."
   ]
  },
  {
   "cell_type": "code",
   "execution_count": 18,
   "metadata": {},
   "outputs": [
    {
     "data": {
      "text/html": [
       "<div>\n",
       "<style scoped>\n",
       "    .dataframe tbody tr th:only-of-type {\n",
       "        vertical-align: middle;\n",
       "    }\n",
       "\n",
       "    .dataframe tbody tr th {\n",
       "        vertical-align: top;\n",
       "    }\n",
       "\n",
       "    .dataframe thead th {\n",
       "        text-align: right;\n",
       "    }\n",
       "</style>\n",
       "<table border=\"1\" class=\"dataframe\">\n",
       "  <thead>\n",
       "    <tr style=\"text-align: right;\">\n",
       "      <th></th>\n",
       "      <th>userId</th>\n",
       "      <th>imdbId</th>\n",
       "      <th>rating</th>\n",
       "      <th>title_x</th>\n",
       "      <th>title_y</th>\n",
       "      <th>hybrid_rec_relevance_score</th>\n",
       "    </tr>\n",
       "  </thead>\n",
       "  <tbody>\n",
       "    <tr>\n",
       "      <th>0</th>\n",
       "      <td>311</td>\n",
       "      <td>32904</td>\n",
       "      <td>2.0</td>\n",
       "      <td>The Philadelphia Story</td>\n",
       "      <td>The Philadelphia Story</td>\n",
       "      <td>50.714121</td>\n",
       "    </tr>\n",
       "    <tr>\n",
       "      <th>1</th>\n",
       "      <td>311</td>\n",
       "      <td>118571</td>\n",
       "      <td>4.0</td>\n",
       "      <td>Air Force One</td>\n",
       "      <td>Air Force One</td>\n",
       "      <td>63.903970</td>\n",
       "    </tr>\n",
       "    <tr>\n",
       "      <th>2</th>\n",
       "      <td>311</td>\n",
       "      <td>107290</td>\n",
       "      <td>4.5</td>\n",
       "      <td>Jurassic Park</td>\n",
       "      <td>Jurassic Park</td>\n",
       "      <td>54.975519</td>\n",
       "    </tr>\n",
       "    <tr>\n",
       "      <th>3</th>\n",
       "      <td>311</td>\n",
       "      <td>114388</td>\n",
       "      <td>2.0</td>\n",
       "      <td>Sense and Sensibility</td>\n",
       "      <td>Sense and Sensibility</td>\n",
       "      <td>53.547847</td>\n",
       "    </tr>\n",
       "    <tr>\n",
       "      <th>4</th>\n",
       "      <td>311</td>\n",
       "      <td>110367</td>\n",
       "      <td>3.0</td>\n",
       "      <td>Little Women</td>\n",
       "      <td>Little Women</td>\n",
       "      <td>47.808105</td>\n",
       "    </tr>\n",
       "    <tr>\n",
       "      <th>5</th>\n",
       "      <td>311</td>\n",
       "      <td>105435</td>\n",
       "      <td>4.0</td>\n",
       "      <td>Sneakers</td>\n",
       "      <td>Sneakers</td>\n",
       "      <td>51.019550</td>\n",
       "    </tr>\n",
       "    <tr>\n",
       "      <th>6</th>\n",
       "      <td>311</td>\n",
       "      <td>125439</td>\n",
       "      <td>5.0</td>\n",
       "      <td>Notting Hill</td>\n",
       "      <td>Notting Hill</td>\n",
       "      <td>49.193891</td>\n",
       "    </tr>\n",
       "    <tr>\n",
       "      <th>7</th>\n",
       "      <td>311</td>\n",
       "      <td>109830</td>\n",
       "      <td>5.0</td>\n",
       "      <td>Forrest Gump</td>\n",
       "      <td>Forrest Gump</td>\n",
       "      <td>53.378898</td>\n",
       "    </tr>\n",
       "    <tr>\n",
       "      <th>8</th>\n",
       "      <td>311</td>\n",
       "      <td>108160</td>\n",
       "      <td>4.0</td>\n",
       "      <td>Sleepless in Seattle</td>\n",
       "      <td>Sleepless in Seattle</td>\n",
       "      <td>54.455988</td>\n",
       "    </tr>\n",
       "    <tr>\n",
       "      <th>9</th>\n",
       "      <td>311</td>\n",
       "      <td>119654</td>\n",
       "      <td>3.0</td>\n",
       "      <td>Men in Black</td>\n",
       "      <td>Men in Black</td>\n",
       "      <td>58.860714</td>\n",
       "    </tr>\n",
       "    <tr>\n",
       "      <th>10</th>\n",
       "      <td>311</td>\n",
       "      <td>97165</td>\n",
       "      <td>1.5</td>\n",
       "      <td>Dead Poets Society</td>\n",
       "      <td>Dead Poets Society</td>\n",
       "      <td>50.081944</td>\n",
       "    </tr>\n",
       "    <tr>\n",
       "      <th>11</th>\n",
       "      <td>311</td>\n",
       "      <td>92890</td>\n",
       "      <td>5.0</td>\n",
       "      <td>Dirty Dancing</td>\n",
       "      <td>Dirty Dancing</td>\n",
       "      <td>48.207022</td>\n",
       "    </tr>\n",
       "    <tr>\n",
       "      <th>12</th>\n",
       "      <td>311</td>\n",
       "      <td>317740</td>\n",
       "      <td>4.5</td>\n",
       "      <td>The Italian Job</td>\n",
       "      <td>The Italian Job</td>\n",
       "      <td>48.830170</td>\n",
       "    </tr>\n",
       "    <tr>\n",
       "      <th>13</th>\n",
       "      <td>311</td>\n",
       "      <td>31381</td>\n",
       "      <td>5.0</td>\n",
       "      <td>Gone with the Wind</td>\n",
       "      <td>Gone with the Wind</td>\n",
       "      <td>56.458443</td>\n",
       "    </tr>\n",
       "    <tr>\n",
       "      <th>14</th>\n",
       "      <td>311</td>\n",
       "      <td>116282</td>\n",
       "      <td>4.0</td>\n",
       "      <td>Fargo</td>\n",
       "      <td>Fargo</td>\n",
       "      <td>59.205544</td>\n",
       "    </tr>\n",
       "    <tr>\n",
       "      <th>15</th>\n",
       "      <td>311</td>\n",
       "      <td>117218</td>\n",
       "      <td>2.0</td>\n",
       "      <td>The Nutty Professor</td>\n",
       "      <td>The Nutty Professor</td>\n",
       "      <td>48.080581</td>\n",
       "    </tr>\n",
       "    <tr>\n",
       "      <th>16</th>\n",
       "      <td>311</td>\n",
       "      <td>53285</td>\n",
       "      <td>3.0</td>\n",
       "      <td>Sleeping Beauty</td>\n",
       "      <td>Sleeping Beauty</td>\n",
       "      <td>47.927182</td>\n",
       "    </tr>\n",
       "  </tbody>\n",
       "</table>\n",
       "</div>"
      ],
      "text/plain": [
       "    userId  imdbId  rating                 title_x                 title_y  \\\n",
       "0      311   32904     2.0  The Philadelphia Story  The Philadelphia Story   \n",
       "1      311  118571     4.0           Air Force One           Air Force One   \n",
       "2      311  107290     4.5           Jurassic Park           Jurassic Park   \n",
       "3      311  114388     2.0   Sense and Sensibility   Sense and Sensibility   \n",
       "4      311  110367     3.0            Little Women            Little Women   \n",
       "5      311  105435     4.0                Sneakers                Sneakers   \n",
       "6      311  125439     5.0            Notting Hill            Notting Hill   \n",
       "7      311  109830     5.0            Forrest Gump            Forrest Gump   \n",
       "8      311  108160     4.0    Sleepless in Seattle    Sleepless in Seattle   \n",
       "9      311  119654     3.0            Men in Black            Men in Black   \n",
       "10     311   97165     1.5      Dead Poets Society      Dead Poets Society   \n",
       "11     311   92890     5.0           Dirty Dancing           Dirty Dancing   \n",
       "12     311  317740     4.5         The Italian Job         The Italian Job   \n",
       "13     311   31381     5.0      Gone with the Wind      Gone with the Wind   \n",
       "14     311  116282     4.0                   Fargo                   Fargo   \n",
       "15     311  117218     2.0     The Nutty Professor     The Nutty Professor   \n",
       "16     311   53285     3.0         Sleeping Beauty         Sleeping Beauty   \n",
       "\n",
       "    hybrid_rec_relevance_score  \n",
       "0                    50.714121  \n",
       "1                    63.903970  \n",
       "2                    54.975519  \n",
       "3                    53.547847  \n",
       "4                    47.808105  \n",
       "5                    51.019550  \n",
       "6                    49.193891  \n",
       "7                    53.378898  \n",
       "8                    54.455988  \n",
       "9                    58.860714  \n",
       "10                   50.081944  \n",
       "11                   48.207022  \n",
       "12                   48.830170  \n",
       "13                   56.458443  \n",
       "14                   59.205544  \n",
       "15                   48.080581  \n",
       "16                   47.927182  "
      ]
     },
     "execution_count": 18,
     "metadata": {},
     "output_type": "execute_result"
    }
   ],
   "source": [
    "merged_pred_df = pd.merge(left=user_specific_interaction_test_df, right=recommendations, left_on='imdbId', right_on='imdbId')\n",
    "merged_pred_df"
   ]
  },
  {
   "cell_type": "markdown",
   "metadata": {},
   "source": [
    "We can see that there are 17 out of 20 recommended movies are part of the training dataset. Wheras collaborative filtering model had only 16."
   ]
  },
  {
   "cell_type": "code",
   "execution_count": null,
   "metadata": {},
   "outputs": [],
   "source": []
  }
 ],
 "metadata": {
  "kernelspec": {
   "display_name": "Python 3",
   "language": "python",
   "name": "python3"
  },
  "language_info": {
   "codemirror_mode": {
    "name": "ipython",
    "version": 3
   },
   "file_extension": ".py",
   "mimetype": "text/x-python",
   "name": "python",
   "nbconvert_exporter": "python",
   "pygments_lexer": "ipython3",
   "version": "3.7.1"
  }
 },
 "nbformat": 4,
 "nbformat_minor": 4
}
