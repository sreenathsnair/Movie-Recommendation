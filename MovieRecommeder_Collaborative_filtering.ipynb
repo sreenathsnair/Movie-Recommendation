{
 "cells": [
  {
   "cell_type": "markdown",
   "metadata": {},
   "source": [
    "## MOVIE RECOMMENDER SYSTEM - COLLABORATIVE FILTERING\n",
    "\n",
    "#### SREENATH S\n",
    "\n",
    "**NOTE: It is assumed that all the required input files are present in the same folder where this notebook is copied to.**"
   ]
  },
  {
   "cell_type": "markdown",
   "metadata": {},
   "source": [
    "This notebook is part of the project Movie Recommendation System. Basic functionality of this notebook is to perform the collaborative filtering. \n",
    "\n",
    "1. Get user rating dataset, both trainset and testset\n",
    "2. Get movie metadata dataset.\n",
    "3. Create a user-item ratings matrix from the train dataset.\n",
    "4. Perform Singular Value Decomposition(SVD) on the rating matrix. Note that the number of latent factors are configurable through config file. Store the resultant user_matrix, sigma, and item_matrix\n",
    "5. Construct the prediction matrix as follows: predicted_rating = (user_matrix) x (sigma) x (item_matrix)\n",
    "6. Convert the prediction matrix to a Dataframe with userId as columns and imdbId as index.\n",
    "7. Provided a class CollabFiltering which predicts the list of recommendation for a given user based on similarity score.\n",
    "\n",
    "**Notebook from the walkthrough session is used as base version, changes are made as required on top of the initial version**"
   ]
  },
  {
   "cell_type": "markdown",
   "metadata": {},
   "source": [
    "Load the required packages.\n",
    "\n",
    "Also load the required data from configs."
   ]
  },
  {
   "cell_type": "code",
   "execution_count": 1,
   "metadata": {},
   "outputs": [],
   "source": [
    "import import_ipynb\n",
    "import numpy as np\n",
    "import pandas as pd\n",
    "from scipy.sparse import csr_matrix\n",
    "from scipy.sparse.linalg import svds\n",
    "from configs import NUM_LATENT_FACTORS,MODEL_COLLAB"
   ]
  },
  {
   "cell_type": "markdown",
   "metadata": {},
   "source": [
    "Loading other modules which are created as part of Movie Recommendation system. Other modules of interest are:\n",
    "1. MovieRecommender_TrainTestDataGenerator\n",
    "2. MovieRecommeder_evaluations\n",
    "\n",
    "Please note that disabled print functionality for this cell, otherwise it will be showing print statements from these modules."
   ]
  },
  {
   "cell_type": "code",
   "execution_count": 2,
   "metadata": {},
   "outputs": [],
   "source": [
    "%%capture\n",
    "import MovieRecommender_TrainTestDataGenerator as RecDataGenerator\n",
    "import MovieRecommeder_evaluations as evaluations "
   ]
  },
  {
   "cell_type": "markdown",
   "metadata": {},
   "source": [
    "Retrieve the train and test dataset from MovieRecommender_TrainTestDataGenerator module"
   ]
  },
  {
   "cell_type": "code",
   "execution_count": 3,
   "metadata": {},
   "outputs": [],
   "source": [
    "user_ratings_train_df, user_ratings_test_df = RecDataGenerator.train_test_user_behaviour()"
   ]
  },
  {
   "cell_type": "markdown",
   "metadata": {},
   "source": [
    "Printing it for making sure data loaded successfully"
   ]
  },
  {
   "cell_type": "code",
   "execution_count": 4,
   "metadata": {},
   "outputs": [
    {
     "data": {
      "text/html": [
       "<div>\n",
       "<style scoped>\n",
       "    .dataframe tbody tr th:only-of-type {\n",
       "        vertical-align: middle;\n",
       "    }\n",
       "\n",
       "    .dataframe tbody tr th {\n",
       "        vertical-align: top;\n",
       "    }\n",
       "\n",
       "    .dataframe thead th {\n",
       "        text-align: right;\n",
       "    }\n",
       "</style>\n",
       "<table border=\"1\" class=\"dataframe\">\n",
       "  <thead>\n",
       "    <tr style=\"text-align: right;\">\n",
       "      <th></th>\n",
       "      <th>userId</th>\n",
       "      <th>imdbId</th>\n",
       "      <th>rating</th>\n",
       "    </tr>\n",
       "  </thead>\n",
       "  <tbody>\n",
       "    <tr>\n",
       "      <th>2457</th>\n",
       "      <td>73</td>\n",
       "      <td>112864</td>\n",
       "      <td>3.5</td>\n",
       "    </tr>\n",
       "    <tr>\n",
       "      <th>49661</th>\n",
       "      <td>472</td>\n",
       "      <td>120906</td>\n",
       "      <td>5.0</td>\n",
       "    </tr>\n",
       "    <tr>\n",
       "      <th>48470</th>\n",
       "      <td>584</td>\n",
       "      <td>119116</td>\n",
       "      <td>3.5</td>\n",
       "    </tr>\n",
       "    <tr>\n",
       "      <th>33782</th>\n",
       "      <td>18</td>\n",
       "      <td>117913</td>\n",
       "      <td>4.0</td>\n",
       "    </tr>\n",
       "    <tr>\n",
       "      <th>80144</th>\n",
       "      <td>614</td>\n",
       "      <td>80549</td>\n",
       "      <td>2.0</td>\n",
       "    </tr>\n",
       "  </tbody>\n",
       "</table>\n",
       "</div>"
      ],
      "text/plain": [
       "       userId  imdbId  rating\n",
       "2457       73  112864     3.5\n",
       "49661     472  120906     5.0\n",
       "48470     584  119116     3.5\n",
       "33782      18  117913     4.0\n",
       "80144     614   80549     2.0"
      ]
     },
     "execution_count": 4,
     "metadata": {},
     "output_type": "execute_result"
    }
   ],
   "source": [
    "user_ratings_train_df.head()"
   ]
  },
  {
   "cell_type": "markdown",
   "metadata": {},
   "source": [
    "Retrieve the movie_metadata dataset from MovieRecommender_TrainTestDataGenerator"
   ]
  },
  {
   "cell_type": "code",
   "execution_count": 5,
   "metadata": {},
   "outputs": [
    {
     "data": {
      "text/plain": [
       "(8989, 9)"
      ]
     },
     "execution_count": 5,
     "metadata": {},
     "output_type": "execute_result"
    }
   ],
   "source": [
    "movie_meta_data = RecDataGenerator.get_movie_metadata()\n",
    "movie_meta_data.shape"
   ]
  },
  {
   "cell_type": "code",
   "execution_count": 6,
   "metadata": {},
   "outputs": [
    {
     "data": {
      "text/html": [
       "<div>\n",
       "<style scoped>\n",
       "    .dataframe tbody tr th:only-of-type {\n",
       "        vertical-align: middle;\n",
       "    }\n",
       "\n",
       "    .dataframe tbody tr th {\n",
       "        vertical-align: top;\n",
       "    }\n",
       "\n",
       "    .dataframe thead th {\n",
       "        text-align: right;\n",
       "    }\n",
       "</style>\n",
       "<table border=\"1\" class=\"dataframe\">\n",
       "  <thead>\n",
       "    <tr style=\"text-align: right;\">\n",
       "      <th></th>\n",
       "      <th>original_language</th>\n",
       "      <th>original_title</th>\n",
       "      <th>title</th>\n",
       "      <th>overview</th>\n",
       "      <th>movie_genre</th>\n",
       "      <th>movie_production</th>\n",
       "      <th>movie_keywords</th>\n",
       "      <th>spoken_language</th>\n",
       "      <th>imdbId</th>\n",
       "    </tr>\n",
       "  </thead>\n",
       "  <tbody>\n",
       "    <tr>\n",
       "      <th>0</th>\n",
       "      <td>en</td>\n",
       "      <td>Toy Story</td>\n",
       "      <td>Toy Story</td>\n",
       "      <td>Led by Woody, Andy's toys live happily in his ...</td>\n",
       "      <td>Animation Comedy Family</td>\n",
       "      <td>Pixar Animation Studios</td>\n",
       "      <td>jealousy toy boy friendship friends rivalry bo...</td>\n",
       "      <td>en</td>\n",
       "      <td>114709</td>\n",
       "    </tr>\n",
       "    <tr>\n",
       "      <th>1</th>\n",
       "      <td>en</td>\n",
       "      <td>Jumanji</td>\n",
       "      <td>Jumanji</td>\n",
       "      <td>When siblings Judy and Peter discover an encha...</td>\n",
       "      <td>Adventure Fantasy Family</td>\n",
       "      <td>TriStar Pictures,Teitler Film,Interscope Commu...</td>\n",
       "      <td>board game disappearance based on children's b...</td>\n",
       "      <td>en fr</td>\n",
       "      <td>113497</td>\n",
       "    </tr>\n",
       "    <tr>\n",
       "      <th>2</th>\n",
       "      <td>en</td>\n",
       "      <td>Grumpier Old Men</td>\n",
       "      <td>Grumpier Old Men</td>\n",
       "      <td>A family wedding reignites the ancient feud be...</td>\n",
       "      <td>Romance Comedy</td>\n",
       "      <td>Warner Bros.,Lancaster Gate</td>\n",
       "      <td>fishing best friend duringcreditsstinger old men</td>\n",
       "      <td>en</td>\n",
       "      <td>113228</td>\n",
       "    </tr>\n",
       "    <tr>\n",
       "      <th>3</th>\n",
       "      <td>en</td>\n",
       "      <td>Waiting to Exhale</td>\n",
       "      <td>Waiting to Exhale</td>\n",
       "      <td>Cheated on, mistreated and stepped on, the wom...</td>\n",
       "      <td>Comedy Drama Romance</td>\n",
       "      <td>Twentieth Century Fox Film Corporation</td>\n",
       "      <td>based on novel interracial relationship single...</td>\n",
       "      <td>en</td>\n",
       "      <td>114885</td>\n",
       "    </tr>\n",
       "    <tr>\n",
       "      <th>4</th>\n",
       "      <td>en</td>\n",
       "      <td>Father of the Bride Part II</td>\n",
       "      <td>Father of the Bride Part II</td>\n",
       "      <td>Just when George Banks has recovered from his ...</td>\n",
       "      <td>Comedy</td>\n",
       "      <td>Sandollar Productions,Touchstone Pictures</td>\n",
       "      <td>baby midlife crisis confidence aging daughter ...</td>\n",
       "      <td>en</td>\n",
       "      <td>113041</td>\n",
       "    </tr>\n",
       "  </tbody>\n",
       "</table>\n",
       "</div>"
      ],
      "text/plain": [
       "  original_language               original_title                        title  \\\n",
       "0                en                    Toy Story                    Toy Story   \n",
       "1                en                      Jumanji                      Jumanji   \n",
       "2                en             Grumpier Old Men             Grumpier Old Men   \n",
       "3                en            Waiting to Exhale            Waiting to Exhale   \n",
       "4                en  Father of the Bride Part II  Father of the Bride Part II   \n",
       "\n",
       "                                            overview  \\\n",
       "0  Led by Woody, Andy's toys live happily in his ...   \n",
       "1  When siblings Judy and Peter discover an encha...   \n",
       "2  A family wedding reignites the ancient feud be...   \n",
       "3  Cheated on, mistreated and stepped on, the wom...   \n",
       "4  Just when George Banks has recovered from his ...   \n",
       "\n",
       "                movie_genre  \\\n",
       "0   Animation Comedy Family   \n",
       "1  Adventure Fantasy Family   \n",
       "2            Romance Comedy   \n",
       "3      Comedy Drama Romance   \n",
       "4                    Comedy   \n",
       "\n",
       "                                    movie_production  \\\n",
       "0                            Pixar Animation Studios   \n",
       "1  TriStar Pictures,Teitler Film,Interscope Commu...   \n",
       "2                        Warner Bros.,Lancaster Gate   \n",
       "3             Twentieth Century Fox Film Corporation   \n",
       "4          Sandollar Productions,Touchstone Pictures   \n",
       "\n",
       "                                      movie_keywords spoken_language  imdbId  \n",
       "0  jealousy toy boy friendship friends rivalry bo...              en  114709  \n",
       "1  board game disappearance based on children's b...           en fr  113497  \n",
       "2   fishing best friend duringcreditsstinger old men              en  113228  \n",
       "3  based on novel interracial relationship single...              en  114885  \n",
       "4  baby midlife crisis confidence aging daughter ...              en  113041  "
      ]
     },
     "execution_count": 6,
     "metadata": {},
     "output_type": "execute_result"
    }
   ],
   "source": [
    "movie_meta_data.head()"
   ]
  },
  {
   "cell_type": "markdown",
   "metadata": {},
   "source": [
    "One of the main step of collaborative filtering is to create a user intraction matrix. here we will create a user-movie interaction matrix. Index of this DF will be userIds and columns will be movieId(imdbIds). Also the values will be the ratings. All the non interacted user-movie combo will be filled with a value of 0"
   ]
  },
  {
   "cell_type": "code",
   "execution_count": 7,
   "metadata": {},
   "outputs": [
    {
     "data": {
      "text/html": [
       "<div>\n",
       "<style scoped>\n",
       "    .dataframe tbody tr th:only-of-type {\n",
       "        vertical-align: middle;\n",
       "    }\n",
       "\n",
       "    .dataframe tbody tr th {\n",
       "        vertical-align: top;\n",
       "    }\n",
       "\n",
       "    .dataframe thead th {\n",
       "        text-align: right;\n",
       "    }\n",
       "</style>\n",
       "<table border=\"1\" class=\"dataframe\">\n",
       "  <thead>\n",
       "    <tr style=\"text-align: right;\">\n",
       "      <th>imdbId</th>\n",
       "      <th>417</th>\n",
       "      <th>4972</th>\n",
       "      <th>6333</th>\n",
       "      <th>8133</th>\n",
       "      <th>9018</th>\n",
       "      <th>9932</th>\n",
       "      <th>10323</th>\n",
       "      <th>11237</th>\n",
       "      <th>11439</th>\n",
       "      <th>11984</th>\n",
       "      <th>...</th>\n",
       "      <th>4537842</th>\n",
       "      <th>4831420</th>\n",
       "      <th>5022702</th>\n",
       "      <th>5161502</th>\n",
       "      <th>5165344</th>\n",
       "      <th>5278868</th>\n",
       "      <th>5480340</th>\n",
       "      <th>5595168</th>\n",
       "      <th>5613056</th>\n",
       "      <th>5794766</th>\n",
       "    </tr>\n",
       "    <tr>\n",
       "      <th>userId</th>\n",
       "      <th></th>\n",
       "      <th></th>\n",
       "      <th></th>\n",
       "      <th></th>\n",
       "      <th></th>\n",
       "      <th></th>\n",
       "      <th></th>\n",
       "      <th></th>\n",
       "      <th></th>\n",
       "      <th></th>\n",
       "      <th></th>\n",
       "      <th></th>\n",
       "      <th></th>\n",
       "      <th></th>\n",
       "      <th></th>\n",
       "      <th></th>\n",
       "      <th></th>\n",
       "      <th></th>\n",
       "      <th></th>\n",
       "      <th></th>\n",
       "      <th></th>\n",
       "    </tr>\n",
       "  </thead>\n",
       "  <tbody>\n",
       "    <tr>\n",
       "      <th>1</th>\n",
       "      <td>0.0</td>\n",
       "      <td>0.0</td>\n",
       "      <td>0.0</td>\n",
       "      <td>0.0</td>\n",
       "      <td>0.0</td>\n",
       "      <td>0.0</td>\n",
       "      <td>0.0</td>\n",
       "      <td>0.0</td>\n",
       "      <td>0.0</td>\n",
       "      <td>0.0</td>\n",
       "      <td>...</td>\n",
       "      <td>0.0</td>\n",
       "      <td>0.0</td>\n",
       "      <td>0.0</td>\n",
       "      <td>0.0</td>\n",
       "      <td>0.0</td>\n",
       "      <td>0.0</td>\n",
       "      <td>0.0</td>\n",
       "      <td>0.0</td>\n",
       "      <td>0.0</td>\n",
       "      <td>0.0</td>\n",
       "    </tr>\n",
       "    <tr>\n",
       "      <th>2</th>\n",
       "      <td>0.0</td>\n",
       "      <td>0.0</td>\n",
       "      <td>0.0</td>\n",
       "      <td>0.0</td>\n",
       "      <td>0.0</td>\n",
       "      <td>0.0</td>\n",
       "      <td>0.0</td>\n",
       "      <td>0.0</td>\n",
       "      <td>0.0</td>\n",
       "      <td>0.0</td>\n",
       "      <td>...</td>\n",
       "      <td>0.0</td>\n",
       "      <td>0.0</td>\n",
       "      <td>0.0</td>\n",
       "      <td>0.0</td>\n",
       "      <td>0.0</td>\n",
       "      <td>0.0</td>\n",
       "      <td>0.0</td>\n",
       "      <td>0.0</td>\n",
       "      <td>0.0</td>\n",
       "      <td>0.0</td>\n",
       "    </tr>\n",
       "    <tr>\n",
       "      <th>3</th>\n",
       "      <td>0.0</td>\n",
       "      <td>0.0</td>\n",
       "      <td>0.0</td>\n",
       "      <td>0.0</td>\n",
       "      <td>0.0</td>\n",
       "      <td>0.0</td>\n",
       "      <td>0.0</td>\n",
       "      <td>0.0</td>\n",
       "      <td>0.0</td>\n",
       "      <td>0.0</td>\n",
       "      <td>...</td>\n",
       "      <td>0.0</td>\n",
       "      <td>0.0</td>\n",
       "      <td>0.0</td>\n",
       "      <td>0.0</td>\n",
       "      <td>0.0</td>\n",
       "      <td>0.0</td>\n",
       "      <td>0.0</td>\n",
       "      <td>0.0</td>\n",
       "      <td>0.0</td>\n",
       "      <td>0.0</td>\n",
       "    </tr>\n",
       "    <tr>\n",
       "      <th>4</th>\n",
       "      <td>0.0</td>\n",
       "      <td>0.0</td>\n",
       "      <td>0.0</td>\n",
       "      <td>0.0</td>\n",
       "      <td>0.0</td>\n",
       "      <td>0.0</td>\n",
       "      <td>0.0</td>\n",
       "      <td>0.0</td>\n",
       "      <td>0.0</td>\n",
       "      <td>0.0</td>\n",
       "      <td>...</td>\n",
       "      <td>0.0</td>\n",
       "      <td>0.0</td>\n",
       "      <td>0.0</td>\n",
       "      <td>0.0</td>\n",
       "      <td>0.0</td>\n",
       "      <td>0.0</td>\n",
       "      <td>0.0</td>\n",
       "      <td>0.0</td>\n",
       "      <td>0.0</td>\n",
       "      <td>0.0</td>\n",
       "    </tr>\n",
       "    <tr>\n",
       "      <th>5</th>\n",
       "      <td>0.0</td>\n",
       "      <td>0.0</td>\n",
       "      <td>0.0</td>\n",
       "      <td>0.0</td>\n",
       "      <td>0.0</td>\n",
       "      <td>0.0</td>\n",
       "      <td>0.0</td>\n",
       "      <td>0.0</td>\n",
       "      <td>0.0</td>\n",
       "      <td>0.0</td>\n",
       "      <td>...</td>\n",
       "      <td>0.0</td>\n",
       "      <td>0.0</td>\n",
       "      <td>0.0</td>\n",
       "      <td>0.0</td>\n",
       "      <td>0.0</td>\n",
       "      <td>0.0</td>\n",
       "      <td>0.0</td>\n",
       "      <td>0.0</td>\n",
       "      <td>0.0</td>\n",
       "      <td>0.0</td>\n",
       "    </tr>\n",
       "  </tbody>\n",
       "</table>\n",
       "<p>5 rows × 8500 columns</p>\n",
       "</div>"
      ],
      "text/plain": [
       "imdbId  417      4972     6333     8133     9018     9932     10323    \\\n",
       "userId                                                                  \n",
       "1           0.0      0.0      0.0      0.0      0.0      0.0      0.0   \n",
       "2           0.0      0.0      0.0      0.0      0.0      0.0      0.0   \n",
       "3           0.0      0.0      0.0      0.0      0.0      0.0      0.0   \n",
       "4           0.0      0.0      0.0      0.0      0.0      0.0      0.0   \n",
       "5           0.0      0.0      0.0      0.0      0.0      0.0      0.0   \n",
       "\n",
       "imdbId  11237    11439    11984    ...  4537842  4831420  5022702  5161502  \\\n",
       "userId                             ...                                       \n",
       "1           0.0      0.0      0.0  ...      0.0      0.0      0.0      0.0   \n",
       "2           0.0      0.0      0.0  ...      0.0      0.0      0.0      0.0   \n",
       "3           0.0      0.0      0.0  ...      0.0      0.0      0.0      0.0   \n",
       "4           0.0      0.0      0.0  ...      0.0      0.0      0.0      0.0   \n",
       "5           0.0      0.0      0.0  ...      0.0      0.0      0.0      0.0   \n",
       "\n",
       "imdbId  5165344  5278868  5480340  5595168  5613056  5794766  \n",
       "userId                                                        \n",
       "1           0.0      0.0      0.0      0.0      0.0      0.0  \n",
       "2           0.0      0.0      0.0      0.0      0.0      0.0  \n",
       "3           0.0      0.0      0.0      0.0      0.0      0.0  \n",
       "4           0.0      0.0      0.0      0.0      0.0      0.0  \n",
       "5           0.0      0.0      0.0      0.0      0.0      0.0  \n",
       "\n",
       "[5 rows x 8500 columns]"
      ]
     },
     "execution_count": 7,
     "metadata": {},
     "output_type": "execute_result"
    }
   ],
   "source": [
    "# generate a sparse pivot table with users in rows and items in columns\n",
    "users_items_matrix_df = user_ratings_train_df.pivot(index='userId', columns='imdbId', values='rating').fillna(0)\n",
    "users_items_matrix_df.head(5)"
   ]
  },
  {
   "cell_type": "markdown",
   "metadata": {},
   "source": [
    "To perform SVD we need to convert it to a numpy matrix."
   ]
  },
  {
   "cell_type": "code",
   "execution_count": 8,
   "metadata": {
    "scrolled": true
   },
   "outputs": [
    {
     "data": {
      "text/plain": [
       "array([[0., 0., 0., ..., 0., 0., 0.]])"
      ]
     },
     "execution_count": 8,
     "metadata": {},
     "output_type": "execute_result"
    }
   ],
   "source": [
    "users_items_pivot_matrix = users_items_matrix_df.values\n",
    "users_items_pivot_matrix[:1]"
   ]
  },
  {
   "cell_type": "markdown",
   "metadata": {},
   "source": [
    "Confirm the shape of the dataset after and before conversion"
   ]
  },
  {
   "cell_type": "code",
   "execution_count": 9,
   "metadata": {},
   "outputs": [
    {
     "data": {
      "text/plain": [
       "(671, 8500)"
      ]
     },
     "execution_count": 9,
     "metadata": {},
     "output_type": "execute_result"
    }
   ],
   "source": [
    "users_items_matrix_df.shape"
   ]
  },
  {
   "cell_type": "code",
   "execution_count": 10,
   "metadata": {},
   "outputs": [
    {
     "data": {
      "text/plain": [
       "(671, 8500)"
      ]
     },
     "execution_count": 10,
     "metadata": {},
     "output_type": "execute_result"
    }
   ],
   "source": [
    "users_items_matrix_df.shape"
   ]
  },
  {
   "cell_type": "markdown",
   "metadata": {},
   "source": [
    "Create the sparse data matrix"
   ]
  },
  {
   "cell_type": "code",
   "execution_count": 11,
   "metadata": {},
   "outputs": [
    {
     "name": "stdout",
     "output_type": "stream",
     "text": [
      "users_ids:\n",
      " [1, 2, 3, 4, 5, 6, 7, 8, 9, 10]\n"
     ]
    }
   ],
   "source": [
    "users_ids = list(users_items_matrix_df.index)\n",
    "print(\"users_ids:\\n\",users_ids[:10])"
   ]
  },
  {
   "cell_type": "code",
   "execution_count": 12,
   "metadata": {},
   "outputs": [],
   "source": [
    "users_items_pivot_csr_matrix = csr_matrix(users_items_matrix_df)"
   ]
  },
  {
   "cell_type": "markdown",
   "metadata": {},
   "source": [
    "#### Performing matrix factorization on the original user item matrix\n"
   ]
  },
  {
   "cell_type": "code",
   "execution_count": 13,
   "metadata": {},
   "outputs": [],
   "source": [
    "# Method     : perform_matrix_factorization\n",
    "# Input      : num_latent_features by default its assigned with NUM_LATENT_FACTORS value given in configs module\n",
    "# Description: This method will convert the given user interaction matrix to three matrix which are of smaller dimension.\n",
    "#              user_matrix, sigma, item_matrix. Output sigma will be an array, we need to convert it to diagonal matrix."
   ]
  },
  {
   "cell_type": "code",
   "execution_count": 14,
   "metadata": {},
   "outputs": [],
   "source": [
    "def perform_matrix_factorization(num_latent_features = NUM_LATENT_FACTORS):\n",
    "    #Perform SVD on the user interaction matrix.\n",
    "    user_matrix, sigma, item_matrix = svds(users_items_pivot_csr_matrix, k = num_latent_features)\n",
    "    #Convert the sigma to diagonal matrix\n",
    "    sigma = sigma = np.diag(sigma)\n",
    "    return user_matrix, sigma, item_matrix"
   ]
  },
  {
   "cell_type": "code",
   "execution_count": 15,
   "metadata": {},
   "outputs": [],
   "source": [
    "user_matrix, sigma, item_matrix = perform_matrix_factorization()"
   ]
  },
  {
   "cell_type": "markdown",
   "metadata": {},
   "source": [
    "Let us confirm the dimensions of user matrix and item matrix\n",
    "\n",
    "User matrix dimension should be equal to (NUMBER OF USERS X NUM LATENT FACTORS)\n",
    "Item matrix dimension should be equal to (NUM LATENT FACTORS X NUMBER OF MOVIES)"
   ]
  },
  {
   "cell_type": "code",
   "execution_count": 16,
   "metadata": {},
   "outputs": [
    {
     "data": {
      "text/plain": [
       "(671, 15)"
      ]
     },
     "execution_count": 16,
     "metadata": {},
     "output_type": "execute_result"
    }
   ],
   "source": [
    "user_matrix.shape"
   ]
  },
  {
   "cell_type": "code",
   "execution_count": 17,
   "metadata": {},
   "outputs": [
    {
     "data": {
      "text/plain": [
       "(15, 8500)"
      ]
     },
     "execution_count": 17,
     "metadata": {},
     "output_type": "execute_result"
    }
   ],
   "source": [
    "item_matrix.shape"
   ]
  },
  {
   "cell_type": "markdown",
   "metadata": {},
   "source": [
    "Let us confirm the shape of sigma it should be a diagonal matrix with shape (NUM LATENT FACTORS X NUM LATENT FACTORS)"
   ]
  },
  {
   "cell_type": "code",
   "execution_count": 18,
   "metadata": {},
   "outputs": [
    {
     "data": {
      "text/plain": [
       "(15, 15)"
      ]
     },
     "execution_count": 18,
     "metadata": {},
     "output_type": "execute_result"
    }
   ],
   "source": [
    "sigma.shape"
   ]
  },
  {
   "cell_type": "markdown",
   "metadata": {},
   "source": [
    "#### CREATE PREDICTION MATRIX FROM THE SVD OUTPUT"
   ]
  },
  {
   "cell_type": "markdown",
   "metadata": {},
   "source": [
    "In collaborative filtering we will use \"user matrix\",  sigma, and \"item matrix\" to recreate the predicted rating as follows:\n",
    "    \n",
    "    predicted_rating = (user_matrix) x (sigma) x (item_matrix)\n",
    "\n",
    "Note that here the multiplication is matrix multiplication instead of sclar"
   ]
  },
  {
   "cell_type": "code",
   "execution_count": 19,
   "metadata": {},
   "outputs": [],
   "source": [
    "def get_predicted_user_ratings(user_matrix, sigma, item_matrix):\n",
    "    weighted_user_mat = np.dot(user_matrix, sigma)\n",
    "    all_user_predicted_ratings = np.dot(weighted_user_mat, item_matrix)\n",
    "    all_user_predicted_ratings_norm = (all_user_predicted_ratings - all_user_predicted_ratings.min()) / (all_user_predicted_ratings.max() - all_user_predicted_ratings.min())\n",
    "    return all_user_predicted_ratings_norm"
   ]
  },
  {
   "cell_type": "markdown",
   "metadata": {},
   "source": [
    "Let us create the predicted matrix using above method"
   ]
  },
  {
   "cell_type": "code",
   "execution_count": 20,
   "metadata": {},
   "outputs": [
    {
     "data": {
      "text/plain": [
       "array([[0.27865233, 0.27825798, 0.27816195, ..., 0.27837707, 0.27731775,\n",
       "        0.27719756],\n",
       "       [0.28074198, 0.27934785, 0.27870051, ..., 0.27671085, 0.27810318,\n",
       "        0.27693948],\n",
       "       [0.27715329, 0.27796166, 0.27692869, ..., 0.27385508, 0.27579406,\n",
       "        0.27670744],\n",
       "       [0.27849427, 0.27751615, 0.27825199, ..., 0.28139348, 0.27920849,\n",
       "        0.27645293],\n",
       "       [0.28292936, 0.28185069, 0.2801127 , ..., 0.27767576, 0.27617735,\n",
       "        0.27673008]])"
      ]
     },
     "execution_count": 20,
     "metadata": {},
     "output_type": "execute_result"
    }
   ],
   "source": [
    "all_user_predicted_ratings_norm = get_predicted_user_ratings(user_matrix, sigma, item_matrix)\n",
    "all_user_predicted_ratings_norm[:5]"
   ]
  },
  {
   "cell_type": "markdown",
   "metadata": {},
   "source": [
    "Exploring the predicted matrix for its shape, max and min value "
   ]
  },
  {
   "cell_type": "code",
   "execution_count": 21,
   "metadata": {},
   "outputs": [
    {
     "data": {
      "text/plain": [
       "(671, 8500)"
      ]
     },
     "execution_count": 21,
     "metadata": {},
     "output_type": "execute_result"
    }
   ],
   "source": [
    "all_user_predicted_ratings_norm.shape"
   ]
  },
  {
   "cell_type": "code",
   "execution_count": 22,
   "metadata": {},
   "outputs": [
    {
     "data": {
      "text/plain": [
       "1.0"
      ]
     },
     "execution_count": 22,
     "metadata": {},
     "output_type": "execute_result"
    }
   ],
   "source": [
    "all_user_predicted_ratings_norm.max()"
   ]
  },
  {
   "cell_type": "code",
   "execution_count": 23,
   "metadata": {},
   "outputs": [
    {
     "data": {
      "text/plain": [
       "0.0"
      ]
     },
     "execution_count": 23,
     "metadata": {},
     "output_type": "execute_result"
    }
   ],
   "source": [
    "all_user_predicted_ratings_norm.min()"
   ]
  },
  {
   "cell_type": "markdown",
   "metadata": {},
   "source": [
    "#### Converting the reconstructed matrix back to a Pandas dataframe"
   ]
  },
  {
   "cell_type": "markdown",
   "metadata": {},
   "source": [
    "Next step is to convert the prediction matrix back to Dataframe. Here the columns are corresponding to userId, and index in imdbId "
   ]
  },
  {
   "cell_type": "code",
   "execution_count": 24,
   "metadata": {
    "scrolled": true
   },
   "outputs": [
    {
     "data": {
      "text/html": [
       "<div>\n",
       "<style scoped>\n",
       "    .dataframe tbody tr th:only-of-type {\n",
       "        vertical-align: middle;\n",
       "    }\n",
       "\n",
       "    .dataframe tbody tr th {\n",
       "        vertical-align: top;\n",
       "    }\n",
       "\n",
       "    .dataframe thead th {\n",
       "        text-align: right;\n",
       "    }\n",
       "</style>\n",
       "<table border=\"1\" class=\"dataframe\">\n",
       "  <thead>\n",
       "    <tr style=\"text-align: right;\">\n",
       "      <th></th>\n",
       "      <th>1</th>\n",
       "      <th>2</th>\n",
       "      <th>3</th>\n",
       "      <th>4</th>\n",
       "      <th>5</th>\n",
       "      <th>6</th>\n",
       "      <th>7</th>\n",
       "      <th>8</th>\n",
       "      <th>9</th>\n",
       "      <th>10</th>\n",
       "      <th>...</th>\n",
       "      <th>662</th>\n",
       "      <th>663</th>\n",
       "      <th>664</th>\n",
       "      <th>665</th>\n",
       "      <th>666</th>\n",
       "      <th>667</th>\n",
       "      <th>668</th>\n",
       "      <th>669</th>\n",
       "      <th>670</th>\n",
       "      <th>671</th>\n",
       "    </tr>\n",
       "    <tr>\n",
       "      <th>imdbId</th>\n",
       "      <th></th>\n",
       "      <th></th>\n",
       "      <th></th>\n",
       "      <th></th>\n",
       "      <th></th>\n",
       "      <th></th>\n",
       "      <th></th>\n",
       "      <th></th>\n",
       "      <th></th>\n",
       "      <th></th>\n",
       "      <th></th>\n",
       "      <th></th>\n",
       "      <th></th>\n",
       "      <th></th>\n",
       "      <th></th>\n",
       "      <th></th>\n",
       "      <th></th>\n",
       "      <th></th>\n",
       "      <th></th>\n",
       "      <th></th>\n",
       "      <th></th>\n",
       "    </tr>\n",
       "  </thead>\n",
       "  <tbody>\n",
       "    <tr>\n",
       "      <th>417</th>\n",
       "      <td>0.278652</td>\n",
       "      <td>0.280742</td>\n",
       "      <td>0.277153</td>\n",
       "      <td>0.278494</td>\n",
       "      <td>0.282929</td>\n",
       "      <td>0.277539</td>\n",
       "      <td>0.270660</td>\n",
       "      <td>0.271179</td>\n",
       "      <td>0.273094</td>\n",
       "      <td>0.274852</td>\n",
       "      <td>...</td>\n",
       "      <td>0.282600</td>\n",
       "      <td>0.276458</td>\n",
       "      <td>0.292035</td>\n",
       "      <td>0.281113</td>\n",
       "      <td>0.279737</td>\n",
       "      <td>0.273546</td>\n",
       "      <td>0.275611</td>\n",
       "      <td>0.277805</td>\n",
       "      <td>0.274823</td>\n",
       "      <td>0.267997</td>\n",
       "    </tr>\n",
       "    <tr>\n",
       "      <th>4972</th>\n",
       "      <td>0.278258</td>\n",
       "      <td>0.279348</td>\n",
       "      <td>0.277962</td>\n",
       "      <td>0.277516</td>\n",
       "      <td>0.281851</td>\n",
       "      <td>0.278764</td>\n",
       "      <td>0.272430</td>\n",
       "      <td>0.272359</td>\n",
       "      <td>0.273667</td>\n",
       "      <td>0.274626</td>\n",
       "      <td>...</td>\n",
       "      <td>0.281531</td>\n",
       "      <td>0.276302</td>\n",
       "      <td>0.286211</td>\n",
       "      <td>0.282612</td>\n",
       "      <td>0.279648</td>\n",
       "      <td>0.274827</td>\n",
       "      <td>0.276195</td>\n",
       "      <td>0.277478</td>\n",
       "      <td>0.274765</td>\n",
       "      <td>0.271138</td>\n",
       "    </tr>\n",
       "    <tr>\n",
       "      <th>6333</th>\n",
       "      <td>0.278162</td>\n",
       "      <td>0.278701</td>\n",
       "      <td>0.276929</td>\n",
       "      <td>0.278252</td>\n",
       "      <td>0.280113</td>\n",
       "      <td>0.278535</td>\n",
       "      <td>0.274218</td>\n",
       "      <td>0.271874</td>\n",
       "      <td>0.273998</td>\n",
       "      <td>0.275418</td>\n",
       "      <td>...</td>\n",
       "      <td>0.280276</td>\n",
       "      <td>0.276396</td>\n",
       "      <td>0.284084</td>\n",
       "      <td>0.280152</td>\n",
       "      <td>0.279068</td>\n",
       "      <td>0.275229</td>\n",
       "      <td>0.275671</td>\n",
       "      <td>0.277467</td>\n",
       "      <td>0.274495</td>\n",
       "      <td>0.271539</td>\n",
       "    </tr>\n",
       "    <tr>\n",
       "      <th>8133</th>\n",
       "      <td>0.278289</td>\n",
       "      <td>0.279994</td>\n",
       "      <td>0.277809</td>\n",
       "      <td>0.275420</td>\n",
       "      <td>0.282326</td>\n",
       "      <td>0.279071</td>\n",
       "      <td>0.272062</td>\n",
       "      <td>0.272340</td>\n",
       "      <td>0.273236</td>\n",
       "      <td>0.273937</td>\n",
       "      <td>...</td>\n",
       "      <td>0.282088</td>\n",
       "      <td>0.276199</td>\n",
       "      <td>0.285707</td>\n",
       "      <td>0.280927</td>\n",
       "      <td>0.280021</td>\n",
       "      <td>0.275426</td>\n",
       "      <td>0.276206</td>\n",
       "      <td>0.277110</td>\n",
       "      <td>0.274569</td>\n",
       "      <td>0.271112</td>\n",
       "    </tr>\n",
       "    <tr>\n",
       "      <th>9018</th>\n",
       "      <td>0.278404</td>\n",
       "      <td>0.278676</td>\n",
       "      <td>0.277228</td>\n",
       "      <td>0.279246</td>\n",
       "      <td>0.281185</td>\n",
       "      <td>0.278944</td>\n",
       "      <td>0.273553</td>\n",
       "      <td>0.271308</td>\n",
       "      <td>0.273453</td>\n",
       "      <td>0.275140</td>\n",
       "      <td>...</td>\n",
       "      <td>0.280922</td>\n",
       "      <td>0.276300</td>\n",
       "      <td>0.285720</td>\n",
       "      <td>0.281897</td>\n",
       "      <td>0.279319</td>\n",
       "      <td>0.274371</td>\n",
       "      <td>0.275553</td>\n",
       "      <td>0.277693</td>\n",
       "      <td>0.274068</td>\n",
       "      <td>0.270857</td>\n",
       "    </tr>\n",
       "    <tr>\n",
       "      <th>9932</th>\n",
       "      <td>0.278021</td>\n",
       "      <td>0.278483</td>\n",
       "      <td>0.276964</td>\n",
       "      <td>0.278098</td>\n",
       "      <td>0.279693</td>\n",
       "      <td>0.278341</td>\n",
       "      <td>0.274641</td>\n",
       "      <td>0.272632</td>\n",
       "      <td>0.274452</td>\n",
       "      <td>0.275670</td>\n",
       "      <td>...</td>\n",
       "      <td>0.279833</td>\n",
       "      <td>0.276507</td>\n",
       "      <td>0.283097</td>\n",
       "      <td>0.279727</td>\n",
       "      <td>0.278798</td>\n",
       "      <td>0.275507</td>\n",
       "      <td>0.275886</td>\n",
       "      <td>0.277425</td>\n",
       "      <td>0.274878</td>\n",
       "      <td>0.272344</td>\n",
       "    </tr>\n",
       "    <tr>\n",
       "      <th>10323</th>\n",
       "      <td>0.280206</td>\n",
       "      <td>0.279051</td>\n",
       "      <td>0.281048</td>\n",
       "      <td>0.271607</td>\n",
       "      <td>0.287924</td>\n",
       "      <td>0.283640</td>\n",
       "      <td>0.266173</td>\n",
       "      <td>0.281446</td>\n",
       "      <td>0.271250</td>\n",
       "      <td>0.271082</td>\n",
       "      <td>...</td>\n",
       "      <td>0.281765</td>\n",
       "      <td>0.274064</td>\n",
       "      <td>0.300174</td>\n",
       "      <td>0.272110</td>\n",
       "      <td>0.279805</td>\n",
       "      <td>0.273133</td>\n",
       "      <td>0.281016</td>\n",
       "      <td>0.276798</td>\n",
       "      <td>0.276816</td>\n",
       "      <td>0.273185</td>\n",
       "    </tr>\n",
       "    <tr>\n",
       "      <th>11237</th>\n",
       "      <td>0.277167</td>\n",
       "      <td>0.277208</td>\n",
       "      <td>0.277263</td>\n",
       "      <td>0.277406</td>\n",
       "      <td>0.277190</td>\n",
       "      <td>0.277214</td>\n",
       "      <td>0.277389</td>\n",
       "      <td>0.277419</td>\n",
       "      <td>0.277203</td>\n",
       "      <td>0.277260</td>\n",
       "      <td>...</td>\n",
       "      <td>0.277198</td>\n",
       "      <td>0.277204</td>\n",
       "      <td>0.277242</td>\n",
       "      <td>0.277117</td>\n",
       "      <td>0.277180</td>\n",
       "      <td>0.277190</td>\n",
       "      <td>0.277206</td>\n",
       "      <td>0.277183</td>\n",
       "      <td>0.277232</td>\n",
       "      <td>0.277403</td>\n",
       "    </tr>\n",
       "    <tr>\n",
       "      <th>11439</th>\n",
       "      <td>0.277074</td>\n",
       "      <td>0.277630</td>\n",
       "      <td>0.277690</td>\n",
       "      <td>0.278072</td>\n",
       "      <td>0.277371</td>\n",
       "      <td>0.277263</td>\n",
       "      <td>0.278341</td>\n",
       "      <td>0.278162</td>\n",
       "      <td>0.277448</td>\n",
       "      <td>0.277556</td>\n",
       "      <td>...</td>\n",
       "      <td>0.277623</td>\n",
       "      <td>0.277415</td>\n",
       "      <td>0.277674</td>\n",
       "      <td>0.277525</td>\n",
       "      <td>0.277330</td>\n",
       "      <td>0.277442</td>\n",
       "      <td>0.277262</td>\n",
       "      <td>0.277256</td>\n",
       "      <td>0.277516</td>\n",
       "      <td>0.278387</td>\n",
       "    </tr>\n",
       "    <tr>\n",
       "      <th>11984</th>\n",
       "      <td>0.278303</td>\n",
       "      <td>0.278918</td>\n",
       "      <td>0.276893</td>\n",
       "      <td>0.278406</td>\n",
       "      <td>0.280532</td>\n",
       "      <td>0.278729</td>\n",
       "      <td>0.273796</td>\n",
       "      <td>0.271117</td>\n",
       "      <td>0.273544</td>\n",
       "      <td>0.275167</td>\n",
       "      <td>...</td>\n",
       "      <td>0.280719</td>\n",
       "      <td>0.276284</td>\n",
       "      <td>0.285071</td>\n",
       "      <td>0.280577</td>\n",
       "      <td>0.279338</td>\n",
       "      <td>0.274951</td>\n",
       "      <td>0.275456</td>\n",
       "      <td>0.277508</td>\n",
       "      <td>0.274112</td>\n",
       "      <td>0.270733</td>\n",
       "    </tr>\n",
       "  </tbody>\n",
       "</table>\n",
       "<p>10 rows × 671 columns</p>\n",
       "</div>"
      ],
      "text/plain": [
       "             1         2         3         4         5         6         7    \\\n",
       "imdbId                                                                         \n",
       "417     0.278652  0.280742  0.277153  0.278494  0.282929  0.277539  0.270660   \n",
       "4972    0.278258  0.279348  0.277962  0.277516  0.281851  0.278764  0.272430   \n",
       "6333    0.278162  0.278701  0.276929  0.278252  0.280113  0.278535  0.274218   \n",
       "8133    0.278289  0.279994  0.277809  0.275420  0.282326  0.279071  0.272062   \n",
       "9018    0.278404  0.278676  0.277228  0.279246  0.281185  0.278944  0.273553   \n",
       "9932    0.278021  0.278483  0.276964  0.278098  0.279693  0.278341  0.274641   \n",
       "10323   0.280206  0.279051  0.281048  0.271607  0.287924  0.283640  0.266173   \n",
       "11237   0.277167  0.277208  0.277263  0.277406  0.277190  0.277214  0.277389   \n",
       "11439   0.277074  0.277630  0.277690  0.278072  0.277371  0.277263  0.278341   \n",
       "11984   0.278303  0.278918  0.276893  0.278406  0.280532  0.278729  0.273796   \n",
       "\n",
       "             8         9         10   ...       662       663       664  \\\n",
       "imdbId                                ...                                 \n",
       "417     0.271179  0.273094  0.274852  ...  0.282600  0.276458  0.292035   \n",
       "4972    0.272359  0.273667  0.274626  ...  0.281531  0.276302  0.286211   \n",
       "6333    0.271874  0.273998  0.275418  ...  0.280276  0.276396  0.284084   \n",
       "8133    0.272340  0.273236  0.273937  ...  0.282088  0.276199  0.285707   \n",
       "9018    0.271308  0.273453  0.275140  ...  0.280922  0.276300  0.285720   \n",
       "9932    0.272632  0.274452  0.275670  ...  0.279833  0.276507  0.283097   \n",
       "10323   0.281446  0.271250  0.271082  ...  0.281765  0.274064  0.300174   \n",
       "11237   0.277419  0.277203  0.277260  ...  0.277198  0.277204  0.277242   \n",
       "11439   0.278162  0.277448  0.277556  ...  0.277623  0.277415  0.277674   \n",
       "11984   0.271117  0.273544  0.275167  ...  0.280719  0.276284  0.285071   \n",
       "\n",
       "             665       666       667       668       669       670       671  \n",
       "imdbId                                                                        \n",
       "417     0.281113  0.279737  0.273546  0.275611  0.277805  0.274823  0.267997  \n",
       "4972    0.282612  0.279648  0.274827  0.276195  0.277478  0.274765  0.271138  \n",
       "6333    0.280152  0.279068  0.275229  0.275671  0.277467  0.274495  0.271539  \n",
       "8133    0.280927  0.280021  0.275426  0.276206  0.277110  0.274569  0.271112  \n",
       "9018    0.281897  0.279319  0.274371  0.275553  0.277693  0.274068  0.270857  \n",
       "9932    0.279727  0.278798  0.275507  0.275886  0.277425  0.274878  0.272344  \n",
       "10323   0.272110  0.279805  0.273133  0.281016  0.276798  0.276816  0.273185  \n",
       "11237   0.277117  0.277180  0.277190  0.277206  0.277183  0.277232  0.277403  \n",
       "11439   0.277525  0.277330  0.277442  0.277262  0.277256  0.277516  0.278387  \n",
       "11984   0.280577  0.279338  0.274951  0.275456  0.277508  0.274112  0.270733  \n",
       "\n",
       "[10 rows x 671 columns]"
      ]
     },
     "execution_count": 24,
     "metadata": {},
     "output_type": "execute_result"
    }
   ],
   "source": [
    "cf_preds_df = pd.DataFrame(all_user_predicted_ratings_norm, columns = users_items_matrix_df.columns, index=users_ids).transpose()\n",
    "cf_preds_df.head(10)"
   ]
  },
  {
   "cell_type": "code",
   "execution_count": 25,
   "metadata": {},
   "outputs": [
    {
     "data": {
      "text/plain": [
       "(8500, 671)"
      ]
     },
     "execution_count": 25,
     "metadata": {},
     "output_type": "execute_result"
    }
   ],
   "source": [
    "cf_preds_df.shape"
   ]
  },
  {
   "cell_type": "code",
   "execution_count": 26,
   "metadata": {},
   "outputs": [],
   "source": [
    "# Method     : get_ratings_df\n",
    "# Input      : Predicted rating matrix\n",
    "# Description: This method will convert input predicted rating matrix to a DF. Columns will be userId and index will be imdbId"
   ]
  },
  {
   "cell_type": "code",
   "execution_count": 27,
   "metadata": {},
   "outputs": [],
   "source": [
    "def get_ratings_df(all_user_predicted_ratings_norm):\n",
    "    \n",
    "    #Converting the reconstructed matrix back to a Pandas dataframe\n",
    "    \n",
    "    cf_preds_df = pd.DataFrame(all_user_predicted_ratings_norm, columns = users_items_matrix_df.columns, index=users_ids).transpose()\n",
    "    cf_preds_df.head(1)\n",
    "    return cf_preds_df\n",
    "    "
   ]
  },
  {
   "cell_type": "markdown",
   "metadata": {},
   "source": [
    "### COLLABORATIVE FILTERING MODEL\n",
    "\n",
    "**CLASS: CollabFiltering** <br>\n",
    "This class implements collaorative filtering model and API to retrieve collborative filtering recommendations.<br>\n",
    "**Class constructor:**__init__ method requires two inputs:<br>\n",
    "       svd_matrix_df: predicted ratings DF and <br>\n",
    "       items_df: movie metadata DF<br>\n",
    "           \n",
    "**Method:** get_item_recommendations()<br>\n",
    "**Input :** \n",
    "user_id - Id of the user for whom we need to perform recommedation<br>\n",
    "items_to_ignore - List of items to be excluded as part of the recommended list(this will be list of movies user has already interacted as part of train set)<br>\n",
    "       \n",
    "**Description:** \n",
    "Get the predicted ratings for the given user.<br>\n",
    "Exlcude the items to be ifnored from this list.<br>\n",
    "Sort the user ratings in descending order<br>\n",
    "Take the topn items as recommedation.<br>\n",
    "Merge the recommedation with movie metadata to get the Movie Title<br>\n",
    "Recommend the list to user<br>\n",
    "       "
   ]
  },
  {
   "cell_type": "code",
   "execution_count": 28,
   "metadata": {},
   "outputs": [],
   "source": [
    "class CollabFiltering:\n",
    "    \n",
    "    \n",
    "    def __init__(self, svd_matrix_df, items_df):\n",
    "        self.svd_matrix_df = svd_matrix_df\n",
    "        self.items_df = items_df\n",
    "\n",
    "    def get_item_recommendations(self, user_id, items_to_ignore=[], topn=10):\n",
    "        # Filter the predicted ratings for specified user and sort it based on the predicted ratings\n",
    "        predicted_user_ratings = self.svd_matrix_df[user_id].sort_values(ascending=False).reset_index() \n",
    "        sorted_user_predictions = predicted_user_ratings.rename(columns={user_id: 'sim_score'})\n",
    "\n",
    "        # Remove the items to be ignored from the sorted predictions for the user.\n",
    "        recommendations_df = sorted_user_predictions[~sorted_user_predictions['imdbId'].isin(items_to_ignore)]\n",
    "        recommendations_df = recommendations_df.sort_values('sim_score', ascending = False)\n",
    "        # Retrieve topn recommendations\n",
    "        recommendations_df = recommendations_df.head(topn)\n",
    "        movie_dataset = self.items_df[['imdbId', 'title']]\n",
    "        # Merge the topn recommendation with movie dataset to retrieve the title of the movie\n",
    "        recommendations_df = pd.merge(left=recommendations_df, right=movie_dataset, left_on='imdbId', right_on='imdbId')\n",
    "        return recommendations_df"
   ]
  },
  {
   "cell_type": "markdown",
   "metadata": {},
   "source": [
    "Perform matrix factorization with number of latent factors as 15.<br>\n",
    "Create a predicted rating matrix and use it for creating the collaborative filtering model"
   ]
  },
  {
   "cell_type": "code",
   "execution_count": 29,
   "metadata": {},
   "outputs": [],
   "source": [
    "user_matrix, sigma, item_matrix = perform_matrix_factorization(NUM_LATENT_FACTORS)\n",
    "all_user_predicted_ratings_norm = get_predicted_user_ratings(user_matrix, sigma, item_matrix)\n",
    "svd_preds_df=get_ratings_df(all_user_predicted_ratings_norm)    \n",
    "recommender_cf = CollabFiltering(svd_preds_df, movie_meta_data)"
   ]
  },
  {
   "cell_type": "markdown",
   "metadata": {},
   "source": [
    "Invoke the evaluation module with the collaborative recommedation model created above. The efficiency of the recommendation will be mentioned in recall and hit rate. "
   ]
  },
  {
   "cell_type": "code",
   "execution_count": 30,
   "metadata": {},
   "outputs": [
    {
     "name": "stdout",
     "output_type": "stream",
     "text": [
      "Number of users processed :  667\n",
      "overall metrics:\n",
      " {'model_type': 'collaborative_filtering', 'recallscore@5': 0.6098375994118826, 'recallscore@10': 0.7213125710084876}\n"
     ]
    }
   ],
   "source": [
    "collab_overall_metrics, collab_eval_results_df = evaluations.model_evaluator.evaluate_model(recommender_cf,MODEL_COLLAB)\n",
    "print('overall metrics:\\n', collab_overall_metrics)"
   ]
  },
  {
   "cell_type": "markdown",
   "metadata": {},
   "source": [
    "As we can see above the recall@5 = 0.61 and recall@10 = 0.72 which is pretty good."
   ]
  },
  {
   "cell_type": "code",
   "execution_count": 31,
   "metadata": {},
   "outputs": [
    {
     "data": {
      "text/html": [
       "<div>\n",
       "<style scoped>\n",
       "    .dataframe tbody tr th:only-of-type {\n",
       "        vertical-align: middle;\n",
       "    }\n",
       "\n",
       "    .dataframe tbody tr th {\n",
       "        vertical-align: top;\n",
       "    }\n",
       "\n",
       "    .dataframe thead th {\n",
       "        text-align: right;\n",
       "    }\n",
       "</style>\n",
       "<table border=\"1\" class=\"dataframe\">\n",
       "  <thead>\n",
       "    <tr style=\"text-align: right;\">\n",
       "      <th></th>\n",
       "      <th>hitrate@5_count</th>\n",
       "      <th>hitrate@10_count</th>\n",
       "      <th>interacted_count</th>\n",
       "      <th>recallscore@5</th>\n",
       "      <th>recallscore@10</th>\n",
       "      <th>userId</th>\n",
       "    </tr>\n",
       "  </thead>\n",
       "  <tbody>\n",
       "    <tr>\n",
       "      <th>61</th>\n",
       "      <td>78</td>\n",
       "      <td>105</td>\n",
       "      <td>372</td>\n",
       "      <td>0.209677</td>\n",
       "      <td>0.282258</td>\n",
       "      <td>547</td>\n",
       "    </tr>\n",
       "    <tr>\n",
       "      <th>62</th>\n",
       "      <td>57</td>\n",
       "      <td>88</td>\n",
       "      <td>266</td>\n",
       "      <td>0.214286</td>\n",
       "      <td>0.330827</td>\n",
       "      <td>624</td>\n",
       "    </tr>\n",
       "    <tr>\n",
       "      <th>12</th>\n",
       "      <td>76</td>\n",
       "      <td>108</td>\n",
       "      <td>264</td>\n",
       "      <td>0.287879</td>\n",
       "      <td>0.409091</td>\n",
       "      <td>73</td>\n",
       "    </tr>\n",
       "    <tr>\n",
       "      <th>17</th>\n",
       "      <td>81</td>\n",
       "      <td>116</td>\n",
       "      <td>258</td>\n",
       "      <td>0.313953</td>\n",
       "      <td>0.449612</td>\n",
       "      <td>564</td>\n",
       "    </tr>\n",
       "    <tr>\n",
       "      <th>66</th>\n",
       "      <td>116</td>\n",
       "      <td>141</td>\n",
       "      <td>249</td>\n",
       "      <td>0.465863</td>\n",
       "      <td>0.566265</td>\n",
       "      <td>15</td>\n",
       "    </tr>\n",
       "    <tr>\n",
       "      <th>41</th>\n",
       "      <td>84</td>\n",
       "      <td>110</td>\n",
       "      <td>214</td>\n",
       "      <td>0.392523</td>\n",
       "      <td>0.514019</td>\n",
       "      <td>468</td>\n",
       "    </tr>\n",
       "    <tr>\n",
       "      <th>2</th>\n",
       "      <td>83</td>\n",
       "      <td>104</td>\n",
       "      <td>185</td>\n",
       "      <td>0.448649</td>\n",
       "      <td>0.562162</td>\n",
       "      <td>452</td>\n",
       "    </tr>\n",
       "    <tr>\n",
       "      <th>50</th>\n",
       "      <td>70</td>\n",
       "      <td>89</td>\n",
       "      <td>169</td>\n",
       "      <td>0.414201</td>\n",
       "      <td>0.526627</td>\n",
       "      <td>30</td>\n",
       "    </tr>\n",
       "    <tr>\n",
       "      <th>23</th>\n",
       "      <td>86</td>\n",
       "      <td>103</td>\n",
       "      <td>156</td>\n",
       "      <td>0.551282</td>\n",
       "      <td>0.660256</td>\n",
       "      <td>311</td>\n",
       "    </tr>\n",
       "    <tr>\n",
       "      <th>79</th>\n",
       "      <td>68</td>\n",
       "      <td>86</td>\n",
       "      <td>145</td>\n",
       "      <td>0.468966</td>\n",
       "      <td>0.593103</td>\n",
       "      <td>213</td>\n",
       "    </tr>\n",
       "  </tbody>\n",
       "</table>\n",
       "</div>"
      ],
      "text/plain": [
       "    hitrate@5_count  hitrate@10_count  interacted_count  recallscore@5  \\\n",
       "61               78               105               372       0.209677   \n",
       "62               57                88               266       0.214286   \n",
       "12               76               108               264       0.287879   \n",
       "17               81               116               258       0.313953   \n",
       "66              116               141               249       0.465863   \n",
       "41               84               110               214       0.392523   \n",
       "2                83               104               185       0.448649   \n",
       "50               70                89               169       0.414201   \n",
       "23               86               103               156       0.551282   \n",
       "79               68                86               145       0.468966   \n",
       "\n",
       "    recallscore@10  userId  \n",
       "61        0.282258     547  \n",
       "62        0.330827     624  \n",
       "12        0.409091      73  \n",
       "17        0.449612     564  \n",
       "66        0.566265      15  \n",
       "41        0.514019     468  \n",
       "2         0.562162     452  \n",
       "50        0.526627      30  \n",
       "23        0.660256     311  \n",
       "79        0.593103     213  "
      ]
     },
     "execution_count": 31,
     "metadata": {},
     "output_type": "execute_result"
    }
   ],
   "source": [
    "#let us print the result dataframe\n",
    "collab_eval_results_df.head(10)"
   ]
  },
  {
   "cell_type": "markdown",
   "metadata": {},
   "source": [
    "**LET US PERFORM A MANUAL EVALUATION TO CHECK HOW GOOD ARE THESE RECOMMENDATIONS**"
   ]
  },
  {
   "cell_type": "markdown",
   "metadata": {},
   "source": [
    "We will take a random user with id '311'. Lets see the user's interaction details as part of the training dataset. "
   ]
  },
  {
   "cell_type": "code",
   "execution_count": 32,
   "metadata": {},
   "outputs": [
    {
     "data": {
      "text/html": [
       "<div>\n",
       "<style scoped>\n",
       "    .dataframe tbody tr th:only-of-type {\n",
       "        vertical-align: middle;\n",
       "    }\n",
       "\n",
       "    .dataframe tbody tr th {\n",
       "        vertical-align: top;\n",
       "    }\n",
       "\n",
       "    .dataframe thead th {\n",
       "        text-align: right;\n",
       "    }\n",
       "</style>\n",
       "<table border=\"1\" class=\"dataframe\">\n",
       "  <thead>\n",
       "    <tr style=\"text-align: right;\">\n",
       "      <th></th>\n",
       "      <th>userId</th>\n",
       "      <th>imdbId</th>\n",
       "      <th>rating</th>\n",
       "    </tr>\n",
       "  </thead>\n",
       "  <tbody>\n",
       "    <tr>\n",
       "      <th>94903</th>\n",
       "      <td>311</td>\n",
       "      <td>50490</td>\n",
       "      <td>4.5</td>\n",
       "    </tr>\n",
       "    <tr>\n",
       "      <th>89075</th>\n",
       "      <td>311</td>\n",
       "      <td>36872</td>\n",
       "      <td>4.0</td>\n",
       "    </tr>\n",
       "    <tr>\n",
       "      <th>92965</th>\n",
       "      <td>311</td>\n",
       "      <td>109198</td>\n",
       "      <td>3.0</td>\n",
       "    </tr>\n",
       "    <tr>\n",
       "      <th>95977</th>\n",
       "      <td>311</td>\n",
       "      <td>92605</td>\n",
       "      <td>3.0</td>\n",
       "    </tr>\n",
       "    <tr>\n",
       "      <th>10367</th>\n",
       "      <td>311</td>\n",
       "      <td>101921</td>\n",
       "      <td>3.0</td>\n",
       "    </tr>\n",
       "    <tr>\n",
       "      <th>...</th>\n",
       "      <td>...</td>\n",
       "      <td>...</td>\n",
       "      <td>...</td>\n",
       "    </tr>\n",
       "    <tr>\n",
       "      <th>70791</th>\n",
       "      <td>311</td>\n",
       "      <td>112579</td>\n",
       "      <td>4.0</td>\n",
       "    </tr>\n",
       "    <tr>\n",
       "      <th>83986</th>\n",
       "      <td>311</td>\n",
       "      <td>105477</td>\n",
       "      <td>1.5</td>\n",
       "    </tr>\n",
       "    <tr>\n",
       "      <th>95517</th>\n",
       "      <td>311</td>\n",
       "      <td>50972</td>\n",
       "      <td>3.5</td>\n",
       "    </tr>\n",
       "    <tr>\n",
       "      <th>96050</th>\n",
       "      <td>311</td>\n",
       "      <td>59183</td>\n",
       "      <td>3.0</td>\n",
       "    </tr>\n",
       "    <tr>\n",
       "      <th>14853</th>\n",
       "      <td>311</td>\n",
       "      <td>52357</td>\n",
       "      <td>2.0</td>\n",
       "    </tr>\n",
       "  </tbody>\n",
       "</table>\n",
       "<p>862 rows × 3 columns</p>\n",
       "</div>"
      ],
      "text/plain": [
       "       userId  imdbId  rating\n",
       "94903     311   50490     4.5\n",
       "89075     311   36872     4.0\n",
       "92965     311  109198     3.0\n",
       "95977     311   92605     3.0\n",
       "10367     311  101921     3.0\n",
       "...       ...     ...     ...\n",
       "70791     311  112579     4.0\n",
       "83986     311  105477     1.5\n",
       "95517     311   50972     3.5\n",
       "96050     311   59183     3.0\n",
       "14853     311   52357     2.0\n",
       "\n",
       "[862 rows x 3 columns]"
      ]
     },
     "execution_count": 32,
     "metadata": {},
     "output_type": "execute_result"
    }
   ],
   "source": [
    "user_id = 311\n",
    "user_specific_interaction_df = user_ratings_train_df[user_ratings_train_df.userId == user_id]\n",
    "user_specific_interaction_df"
   ]
  },
  {
   "cell_type": "code",
   "execution_count": 33,
   "metadata": {},
   "outputs": [
    {
     "data": {
      "text/plain": [
       "862"
      ]
     },
     "execution_count": 33,
     "metadata": {},
     "output_type": "execute_result"
    }
   ],
   "source": [
    "user_specific_interaction_df.imdbId.nunique()"
   ]
  },
  {
   "cell_type": "markdown",
   "metadata": {},
   "source": [
    "This indicates the user has rated almost 862 movies as part of training dataset. Which is quite a good number for collaborative filtering. As the interactions increases the model will be able to predict more confidently as it can lean the latent feature for this user more accurately."
   ]
  },
  {
   "cell_type": "markdown",
   "metadata": {},
   "source": [
    "To get the recommendation for the user we need to input the list of movies to be ignored from prediction. It is nothing but those movies user has interacted as part of the training adatset. let's retrieve those list of movies user already interacted as part of the training adatset and pass it as the items to be ignored"
   ]
  },
  {
   "cell_type": "code",
   "execution_count": 34,
   "metadata": {},
   "outputs": [],
   "source": [
    "list_of_interacted_items = list(user_specific_interaction_df.imdbId.unique())"
   ]
  },
  {
   "cell_type": "markdown",
   "metadata": {},
   "source": [
    "Invoke the model to get top 20 recommendations for this user"
   ]
  },
  {
   "cell_type": "code",
   "execution_count": 35,
   "metadata": {},
   "outputs": [
    {
     "data": {
      "text/html": [
       "<div>\n",
       "<style scoped>\n",
       "    .dataframe tbody tr th:only-of-type {\n",
       "        vertical-align: middle;\n",
       "    }\n",
       "\n",
       "    .dataframe tbody tr th {\n",
       "        vertical-align: top;\n",
       "    }\n",
       "\n",
       "    .dataframe thead th {\n",
       "        text-align: right;\n",
       "    }\n",
       "</style>\n",
       "<table border=\"1\" class=\"dataframe\">\n",
       "  <thead>\n",
       "    <tr style=\"text-align: right;\">\n",
       "      <th></th>\n",
       "      <th>imdbId</th>\n",
       "      <th>sim_score</th>\n",
       "      <th>title</th>\n",
       "    </tr>\n",
       "  </thead>\n",
       "  <tbody>\n",
       "    <tr>\n",
       "      <th>0</th>\n",
       "      <td>118571</td>\n",
       "      <td>0.637364</td>\n",
       "      <td>Air Force One</td>\n",
       "    </tr>\n",
       "    <tr>\n",
       "      <th>1</th>\n",
       "      <td>116282</td>\n",
       "      <td>0.590484</td>\n",
       "      <td>Fargo</td>\n",
       "    </tr>\n",
       "    <tr>\n",
       "      <th>2</th>\n",
       "      <td>119654</td>\n",
       "      <td>0.587150</td>\n",
       "      <td>Men in Black</td>\n",
       "    </tr>\n",
       "    <tr>\n",
       "      <th>3</th>\n",
       "      <td>31381</td>\n",
       "      <td>0.562397</td>\n",
       "      <td>Gone with the Wind</td>\n",
       "    </tr>\n",
       "    <tr>\n",
       "      <th>4</th>\n",
       "      <td>107290</td>\n",
       "      <td>0.549755</td>\n",
       "      <td>Jurassic Park</td>\n",
       "    </tr>\n",
       "    <tr>\n",
       "      <th>5</th>\n",
       "      <td>108160</td>\n",
       "      <td>0.542198</td>\n",
       "      <td>Sleepless in Seattle</td>\n",
       "    </tr>\n",
       "    <tr>\n",
       "      <th>6</th>\n",
       "      <td>114388</td>\n",
       "      <td>0.533936</td>\n",
       "      <td>Sense and Sensibility</td>\n",
       "    </tr>\n",
       "    <tr>\n",
       "      <th>7</th>\n",
       "      <td>109830</td>\n",
       "      <td>0.531218</td>\n",
       "      <td>Forrest Gump</td>\n",
       "    </tr>\n",
       "    <tr>\n",
       "      <th>8</th>\n",
       "      <td>71562</td>\n",
       "      <td>0.523932</td>\n",
       "      <td>The Godfather: Part II</td>\n",
       "    </tr>\n",
       "    <tr>\n",
       "      <th>9</th>\n",
       "      <td>68646</td>\n",
       "      <td>0.516621</td>\n",
       "      <td>The Godfather</td>\n",
       "    </tr>\n",
       "    <tr>\n",
       "      <th>10</th>\n",
       "      <td>105435</td>\n",
       "      <td>0.510195</td>\n",
       "      <td>Sneakers</td>\n",
       "    </tr>\n",
       "    <tr>\n",
       "      <th>11</th>\n",
       "      <td>32904</td>\n",
       "      <td>0.505135</td>\n",
       "      <td>The Philadelphia Story</td>\n",
       "    </tr>\n",
       "    <tr>\n",
       "      <th>12</th>\n",
       "      <td>97165</td>\n",
       "      <td>0.500819</td>\n",
       "      <td>Dead Poets Society</td>\n",
       "    </tr>\n",
       "    <tr>\n",
       "      <th>13</th>\n",
       "      <td>120689</td>\n",
       "      <td>0.490878</td>\n",
       "      <td>The Green Mile</td>\n",
       "    </tr>\n",
       "    <tr>\n",
       "      <th>14</th>\n",
       "      <td>125439</td>\n",
       "      <td>0.489483</td>\n",
       "      <td>Notting Hill</td>\n",
       "    </tr>\n",
       "    <tr>\n",
       "      <th>15</th>\n",
       "      <td>317740</td>\n",
       "      <td>0.486225</td>\n",
       "      <td>The Italian Job</td>\n",
       "    </tr>\n",
       "    <tr>\n",
       "      <th>16</th>\n",
       "      <td>117218</td>\n",
       "      <td>0.480806</td>\n",
       "      <td>The Nutty Professor</td>\n",
       "    </tr>\n",
       "    <tr>\n",
       "      <th>17</th>\n",
       "      <td>92890</td>\n",
       "      <td>0.480346</td>\n",
       "      <td>Dirty Dancing</td>\n",
       "    </tr>\n",
       "    <tr>\n",
       "      <th>18</th>\n",
       "      <td>53285</td>\n",
       "      <td>0.479272</td>\n",
       "      <td>Sleeping Beauty</td>\n",
       "    </tr>\n",
       "    <tr>\n",
       "      <th>19</th>\n",
       "      <td>81283</td>\n",
       "      <td>0.477935</td>\n",
       "      <td>Ordinary People</td>\n",
       "    </tr>\n",
       "  </tbody>\n",
       "</table>\n",
       "</div>"
      ],
      "text/plain": [
       "    imdbId  sim_score                   title\n",
       "0   118571   0.637364           Air Force One\n",
       "1   116282   0.590484                   Fargo\n",
       "2   119654   0.587150            Men in Black\n",
       "3    31381   0.562397      Gone with the Wind\n",
       "4   107290   0.549755           Jurassic Park\n",
       "5   108160   0.542198    Sleepless in Seattle\n",
       "6   114388   0.533936   Sense and Sensibility\n",
       "7   109830   0.531218            Forrest Gump\n",
       "8    71562   0.523932  The Godfather: Part II\n",
       "9    68646   0.516621           The Godfather\n",
       "10  105435   0.510195                Sneakers\n",
       "11   32904   0.505135  The Philadelphia Story\n",
       "12   97165   0.500819      Dead Poets Society\n",
       "13  120689   0.490878          The Green Mile\n",
       "14  125439   0.489483            Notting Hill\n",
       "15  317740   0.486225         The Italian Job\n",
       "16  117218   0.480806     The Nutty Professor\n",
       "17   92890   0.480346           Dirty Dancing\n",
       "18   53285   0.479272         Sleeping Beauty\n",
       "19   81283   0.477935         Ordinary People"
      ]
     },
     "execution_count": 35,
     "metadata": {},
     "output_type": "execute_result"
    }
   ],
   "source": [
    "preds_df = recommender_cf.get_item_recommendations(user_id, items_to_ignore=list_of_interacted_items, topn=20)\n",
    "preds_df"
   ]
  },
  {
   "cell_type": "markdown",
   "metadata": {},
   "source": [
    "Let us see how the users hitrate and recall score"
   ]
  },
  {
   "cell_type": "code",
   "execution_count": 36,
   "metadata": {},
   "outputs": [
    {
     "data": {
      "text/plain": [
       "{'hitrate@5_count': 86,\n",
       " 'hitrate@10_count': 103,\n",
       " 'interacted_count': 156,\n",
       " 'recallscore@5': 0.5512820512820513,\n",
       " 'recallscore@10': 0.6602564102564102}"
      ]
     },
     "execution_count": 36,
     "metadata": {},
     "output_type": "execute_result"
    }
   ],
   "source": [
    "evaluations.model_evaluator.evaluate_model_for_user(recommender_cf, user_id)"
   ]
  },
  {
   "cell_type": "markdown",
   "metadata": {},
   "source": [
    "Now we will see out of the above top 20 movie recommendation, how many this user actually wateched in unseen dataset (test dataset)"
   ]
  },
  {
   "cell_type": "code",
   "execution_count": 37,
   "metadata": {},
   "outputs": [],
   "source": [
    "user_specific_interaction_test_df = user_ratings_test_df[user_ratings_test_df.userId == user_id]\n",
    "movie_dataset = movie_meta_data[['imdbId', 'title']]\n",
    "user_specific_interaction_test_df = pd.merge(left=user_specific_interaction_test_df, right=movie_dataset, left_on='imdbId', right_on='imdbId')"
   ]
  },
  {
   "cell_type": "markdown",
   "metadata": {},
   "source": [
    "Let us filter the common movies between top20 recommedation and user interacted movies in test set"
   ]
  },
  {
   "cell_type": "code",
   "execution_count": 38,
   "metadata": {},
   "outputs": [
    {
     "data": {
      "text/html": [
       "<div>\n",
       "<style scoped>\n",
       "    .dataframe tbody tr th:only-of-type {\n",
       "        vertical-align: middle;\n",
       "    }\n",
       "\n",
       "    .dataframe tbody tr th {\n",
       "        vertical-align: top;\n",
       "    }\n",
       "\n",
       "    .dataframe thead th {\n",
       "        text-align: right;\n",
       "    }\n",
       "</style>\n",
       "<table border=\"1\" class=\"dataframe\">\n",
       "  <thead>\n",
       "    <tr style=\"text-align: right;\">\n",
       "      <th></th>\n",
       "      <th>userId</th>\n",
       "      <th>imdbId</th>\n",
       "      <th>rating</th>\n",
       "      <th>title_x</th>\n",
       "      <th>sim_score</th>\n",
       "      <th>title_y</th>\n",
       "    </tr>\n",
       "  </thead>\n",
       "  <tbody>\n",
       "    <tr>\n",
       "      <th>0</th>\n",
       "      <td>311</td>\n",
       "      <td>32904</td>\n",
       "      <td>2.0</td>\n",
       "      <td>The Philadelphia Story</td>\n",
       "      <td>0.505135</td>\n",
       "      <td>The Philadelphia Story</td>\n",
       "    </tr>\n",
       "    <tr>\n",
       "      <th>1</th>\n",
       "      <td>311</td>\n",
       "      <td>118571</td>\n",
       "      <td>4.0</td>\n",
       "      <td>Air Force One</td>\n",
       "      <td>0.637364</td>\n",
       "      <td>Air Force One</td>\n",
       "    </tr>\n",
       "    <tr>\n",
       "      <th>2</th>\n",
       "      <td>311</td>\n",
       "      <td>107290</td>\n",
       "      <td>4.5</td>\n",
       "      <td>Jurassic Park</td>\n",
       "      <td>0.549755</td>\n",
       "      <td>Jurassic Park</td>\n",
       "    </tr>\n",
       "    <tr>\n",
       "      <th>3</th>\n",
       "      <td>311</td>\n",
       "      <td>114388</td>\n",
       "      <td>2.0</td>\n",
       "      <td>Sense and Sensibility</td>\n",
       "      <td>0.533936</td>\n",
       "      <td>Sense and Sensibility</td>\n",
       "    </tr>\n",
       "    <tr>\n",
       "      <th>4</th>\n",
       "      <td>311</td>\n",
       "      <td>105435</td>\n",
       "      <td>4.0</td>\n",
       "      <td>Sneakers</td>\n",
       "      <td>0.510195</td>\n",
       "      <td>Sneakers</td>\n",
       "    </tr>\n",
       "    <tr>\n",
       "      <th>5</th>\n",
       "      <td>311</td>\n",
       "      <td>125439</td>\n",
       "      <td>5.0</td>\n",
       "      <td>Notting Hill</td>\n",
       "      <td>0.489483</td>\n",
       "      <td>Notting Hill</td>\n",
       "    </tr>\n",
       "    <tr>\n",
       "      <th>6</th>\n",
       "      <td>311</td>\n",
       "      <td>109830</td>\n",
       "      <td>5.0</td>\n",
       "      <td>Forrest Gump</td>\n",
       "      <td>0.531218</td>\n",
       "      <td>Forrest Gump</td>\n",
       "    </tr>\n",
       "    <tr>\n",
       "      <th>7</th>\n",
       "      <td>311</td>\n",
       "      <td>108160</td>\n",
       "      <td>4.0</td>\n",
       "      <td>Sleepless in Seattle</td>\n",
       "      <td>0.542198</td>\n",
       "      <td>Sleepless in Seattle</td>\n",
       "    </tr>\n",
       "    <tr>\n",
       "      <th>8</th>\n",
       "      <td>311</td>\n",
       "      <td>119654</td>\n",
       "      <td>3.0</td>\n",
       "      <td>Men in Black</td>\n",
       "      <td>0.587150</td>\n",
       "      <td>Men in Black</td>\n",
       "    </tr>\n",
       "    <tr>\n",
       "      <th>9</th>\n",
       "      <td>311</td>\n",
       "      <td>97165</td>\n",
       "      <td>1.5</td>\n",
       "      <td>Dead Poets Society</td>\n",
       "      <td>0.500819</td>\n",
       "      <td>Dead Poets Society</td>\n",
       "    </tr>\n",
       "    <tr>\n",
       "      <th>10</th>\n",
       "      <td>311</td>\n",
       "      <td>92890</td>\n",
       "      <td>5.0</td>\n",
       "      <td>Dirty Dancing</td>\n",
       "      <td>0.480346</td>\n",
       "      <td>Dirty Dancing</td>\n",
       "    </tr>\n",
       "    <tr>\n",
       "      <th>11</th>\n",
       "      <td>311</td>\n",
       "      <td>317740</td>\n",
       "      <td>4.5</td>\n",
       "      <td>The Italian Job</td>\n",
       "      <td>0.486225</td>\n",
       "      <td>The Italian Job</td>\n",
       "    </tr>\n",
       "    <tr>\n",
       "      <th>12</th>\n",
       "      <td>311</td>\n",
       "      <td>31381</td>\n",
       "      <td>5.0</td>\n",
       "      <td>Gone with the Wind</td>\n",
       "      <td>0.562397</td>\n",
       "      <td>Gone with the Wind</td>\n",
       "    </tr>\n",
       "    <tr>\n",
       "      <th>13</th>\n",
       "      <td>311</td>\n",
       "      <td>116282</td>\n",
       "      <td>4.0</td>\n",
       "      <td>Fargo</td>\n",
       "      <td>0.590484</td>\n",
       "      <td>Fargo</td>\n",
       "    </tr>\n",
       "    <tr>\n",
       "      <th>14</th>\n",
       "      <td>311</td>\n",
       "      <td>117218</td>\n",
       "      <td>2.0</td>\n",
       "      <td>The Nutty Professor</td>\n",
       "      <td>0.480806</td>\n",
       "      <td>The Nutty Professor</td>\n",
       "    </tr>\n",
       "    <tr>\n",
       "      <th>15</th>\n",
       "      <td>311</td>\n",
       "      <td>53285</td>\n",
       "      <td>3.0</td>\n",
       "      <td>Sleeping Beauty</td>\n",
       "      <td>0.479272</td>\n",
       "      <td>Sleeping Beauty</td>\n",
       "    </tr>\n",
       "  </tbody>\n",
       "</table>\n",
       "</div>"
      ],
      "text/plain": [
       "    userId  imdbId  rating                 title_x  sim_score  \\\n",
       "0      311   32904     2.0  The Philadelphia Story   0.505135   \n",
       "1      311  118571     4.0           Air Force One   0.637364   \n",
       "2      311  107290     4.5           Jurassic Park   0.549755   \n",
       "3      311  114388     2.0   Sense and Sensibility   0.533936   \n",
       "4      311  105435     4.0                Sneakers   0.510195   \n",
       "5      311  125439     5.0            Notting Hill   0.489483   \n",
       "6      311  109830     5.0            Forrest Gump   0.531218   \n",
       "7      311  108160     4.0    Sleepless in Seattle   0.542198   \n",
       "8      311  119654     3.0            Men in Black   0.587150   \n",
       "9      311   97165     1.5      Dead Poets Society   0.500819   \n",
       "10     311   92890     5.0           Dirty Dancing   0.480346   \n",
       "11     311  317740     4.5         The Italian Job   0.486225   \n",
       "12     311   31381     5.0      Gone with the Wind   0.562397   \n",
       "13     311  116282     4.0                   Fargo   0.590484   \n",
       "14     311  117218     2.0     The Nutty Professor   0.480806   \n",
       "15     311   53285     3.0         Sleeping Beauty   0.479272   \n",
       "\n",
       "                   title_y  \n",
       "0   The Philadelphia Story  \n",
       "1            Air Force One  \n",
       "2            Jurassic Park  \n",
       "3    Sense and Sensibility  \n",
       "4                 Sneakers  \n",
       "5             Notting Hill  \n",
       "6             Forrest Gump  \n",
       "7     Sleepless in Seattle  \n",
       "8             Men in Black  \n",
       "9       Dead Poets Society  \n",
       "10           Dirty Dancing  \n",
       "11         The Italian Job  \n",
       "12      Gone with the Wind  \n",
       "13                   Fargo  \n",
       "14     The Nutty Professor  \n",
       "15         Sleeping Beauty  "
      ]
     },
     "execution_count": 38,
     "metadata": {},
     "output_type": "execute_result"
    }
   ],
   "source": [
    "merged_pred_df = pd.merge(left=user_specific_interaction_test_df, right=preds_df, left_on='imdbId', right_on='imdbId')\n",
    "merged_pred_df "
   ]
  },
  {
   "cell_type": "markdown",
   "metadata": {},
   "source": [
    "**This is very impressive result out of 20 movies, 16 movies user had wateched in test set. So the recommedations are quite good and model is able to capture user likings and able to provide them with relevant recommendations**"
   ]
  },
  {
   "cell_type": "code",
   "execution_count": null,
   "metadata": {},
   "outputs": [],
   "source": []
  }
 ],
 "metadata": {
  "kernelspec": {
   "display_name": "Python 3",
   "language": "python",
   "name": "python3"
  },
  "language_info": {
   "codemirror_mode": {
    "name": "ipython",
    "version": 3
   },
   "file_extension": ".py",
   "mimetype": "text/x-python",
   "name": "python",
   "nbconvert_exporter": "python",
   "pygments_lexer": "ipython3",
   "version": "3.7.1"
  }
 },
 "nbformat": 4,
 "nbformat_minor": 4
}
