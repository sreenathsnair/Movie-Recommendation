{
 "cells": [
  {
   "cell_type": "markdown",
   "metadata": {},
   "source": [
    "## MOVIE RECOMMENDER SYSTEM - TRAIN TEST GENERATOR "
   ]
  },
  {
   "cell_type": "markdown",
   "metadata": {},
   "source": [
    "#### SREENATH S\n",
    "\n",
    "**NOTE: It is assumed that all the required input files are present in the same folder where this notebook is copied to.**"
   ]
  },
  {
   "cell_type": "markdown",
   "metadata": {},
   "source": [
    "This notebook is part of the project Movie Recommendation System.\n",
    "\n",
    "Funactionalities provided as part of this notebook are:\n",
    "    1. Method to retrieve the preprocessd movie meta data.\n",
    "    2. Method to retrieve the preprocessd movie meta data indexed by imdbId.\n",
    "    3. Method to retrieve the customer interaction (movie ratings dataset)\n",
    "    4. Perform train and test split and retrieve the training and test ratings dataset\n",
    "    5. Method to retrieve full, Train and test ratings dataset indexed by usertId"
   ]
  },
  {
   "cell_type": "markdown",
   "metadata": {},
   "source": [
    "Import the required packages"
   ]
  },
  {
   "cell_type": "code",
   "execution_count": 1,
   "metadata": {},
   "outputs": [],
   "source": [
    "import pandas as pd\n",
    "import numpy as np\n",
    "import import_ipynb\n",
    "import scipy\n",
    "from sklearn.model_selection import train_test_split"
   ]
  },
  {
   "cell_type": "markdown",
   "metadata": {},
   "source": [
    "Importing the MovieRecommender_EDA_Preprocessing module. Please look at MovieRecommender_EDA_Preprocessing for EDA and various preprocessing performed on the datasets.\n",
    "\n",
    "Please note that we are disabling the print option for this import, otherwise all the print statement from the imported notebook will be printed below. "
   ]
  },
  {
   "cell_type": "code",
   "execution_count": 2,
   "metadata": {},
   "outputs": [],
   "source": [
    "%%capture\n",
    "import MovieRecommender_EDA_Preprocessing as EDAProcessor"
   ]
  },
  {
   "cell_type": "markdown",
   "metadata": {},
   "source": [
    "Priniting the user interaction dataset and its shape to ensure it is imported properly"
   ]
  },
  {
   "cell_type": "code",
   "execution_count": 3,
   "metadata": {},
   "outputs": [
    {
     "data": {
      "text/html": [
       "<div>\n",
       "<style scoped>\n",
       "    .dataframe tbody tr th:only-of-type {\n",
       "        vertical-align: middle;\n",
       "    }\n",
       "\n",
       "    .dataframe tbody tr th {\n",
       "        vertical-align: top;\n",
       "    }\n",
       "\n",
       "    .dataframe thead th {\n",
       "        text-align: right;\n",
       "    }\n",
       "</style>\n",
       "<table border=\"1\" class=\"dataframe\">\n",
       "  <thead>\n",
       "    <tr style=\"text-align: right;\">\n",
       "      <th></th>\n",
       "      <th>userId</th>\n",
       "      <th>imdbId</th>\n",
       "      <th>rating</th>\n",
       "    </tr>\n",
       "  </thead>\n",
       "  <tbody>\n",
       "    <tr>\n",
       "      <th>0</th>\n",
       "      <td>1</td>\n",
       "      <td>112792</td>\n",
       "      <td>2.5</td>\n",
       "    </tr>\n",
       "    <tr>\n",
       "      <th>1</th>\n",
       "      <td>7</td>\n",
       "      <td>112792</td>\n",
       "      <td>3.0</td>\n",
       "    </tr>\n",
       "    <tr>\n",
       "      <th>2</th>\n",
       "      <td>31</td>\n",
       "      <td>112792</td>\n",
       "      <td>4.0</td>\n",
       "    </tr>\n",
       "    <tr>\n",
       "      <th>3</th>\n",
       "      <td>32</td>\n",
       "      <td>112792</td>\n",
       "      <td>4.0</td>\n",
       "    </tr>\n",
       "    <tr>\n",
       "      <th>4</th>\n",
       "      <td>36</td>\n",
       "      <td>112792</td>\n",
       "      <td>3.0</td>\n",
       "    </tr>\n",
       "  </tbody>\n",
       "</table>\n",
       "</div>"
      ],
      "text/plain": [
       "   userId  imdbId  rating\n",
       "0       1  112792     2.5\n",
       "1       7  112792     3.0\n",
       "2      31  112792     4.0\n",
       "3      32  112792     4.0\n",
       "4      36  112792     3.0"
      ]
     },
     "execution_count": 3,
     "metadata": {},
     "output_type": "execute_result"
    }
   ],
   "source": [
    "EDAProcessor.rating_dataset_final.head()"
   ]
  },
  {
   "cell_type": "code",
   "execution_count": 4,
   "metadata": {},
   "outputs": [
    {
     "data": {
      "text/plain": [
       "(99752, 3)"
      ]
     },
     "execution_count": 4,
     "metadata": {},
     "output_type": "execute_result"
    }
   ],
   "source": [
    "EDAProcessor.rating_dataset_final.shape"
   ]
  },
  {
   "cell_type": "markdown",
   "metadata": {},
   "source": [
    "Storing the user interaction datset on another dataframe, this is for easier access within this dataset, also we dont want to make any changes to the state of the dataset which is part of the imported module."
   ]
  },
  {
   "cell_type": "code",
   "execution_count": 5,
   "metadata": {},
   "outputs": [],
   "source": [
    "user_behaviour_full_df = EDAProcessor.rating_dataset_final"
   ]
  },
  {
   "cell_type": "markdown",
   "metadata": {},
   "source": [
    "Let us print the dataset shape and initial rows to ensure data is imported corectly."
   ]
  },
  {
   "cell_type": "code",
   "execution_count": 6,
   "metadata": {},
   "outputs": [
    {
     "data": {
      "text/plain": [
       "(99752, 3)"
      ]
     },
     "execution_count": 6,
     "metadata": {},
     "output_type": "execute_result"
    }
   ],
   "source": [
    "user_behaviour_full_df.shape"
   ]
  },
  {
   "cell_type": "code",
   "execution_count": 7,
   "metadata": {},
   "outputs": [
    {
     "data": {
      "text/html": [
       "<div>\n",
       "<style scoped>\n",
       "    .dataframe tbody tr th:only-of-type {\n",
       "        vertical-align: middle;\n",
       "    }\n",
       "\n",
       "    .dataframe tbody tr th {\n",
       "        vertical-align: top;\n",
       "    }\n",
       "\n",
       "    .dataframe thead th {\n",
       "        text-align: right;\n",
       "    }\n",
       "</style>\n",
       "<table border=\"1\" class=\"dataframe\">\n",
       "  <thead>\n",
       "    <tr style=\"text-align: right;\">\n",
       "      <th></th>\n",
       "      <th>userId</th>\n",
       "      <th>imdbId</th>\n",
       "      <th>rating</th>\n",
       "    </tr>\n",
       "  </thead>\n",
       "  <tbody>\n",
       "    <tr>\n",
       "      <th>0</th>\n",
       "      <td>1</td>\n",
       "      <td>112792</td>\n",
       "      <td>2.5</td>\n",
       "    </tr>\n",
       "    <tr>\n",
       "      <th>1</th>\n",
       "      <td>7</td>\n",
       "      <td>112792</td>\n",
       "      <td>3.0</td>\n",
       "    </tr>\n",
       "    <tr>\n",
       "      <th>2</th>\n",
       "      <td>31</td>\n",
       "      <td>112792</td>\n",
       "      <td>4.0</td>\n",
       "    </tr>\n",
       "    <tr>\n",
       "      <th>3</th>\n",
       "      <td>32</td>\n",
       "      <td>112792</td>\n",
       "      <td>4.0</td>\n",
       "    </tr>\n",
       "    <tr>\n",
       "      <th>4</th>\n",
       "      <td>36</td>\n",
       "      <td>112792</td>\n",
       "      <td>3.0</td>\n",
       "    </tr>\n",
       "  </tbody>\n",
       "</table>\n",
       "</div>"
      ],
      "text/plain": [
       "   userId  imdbId  rating\n",
       "0       1  112792     2.5\n",
       "1       7  112792     3.0\n",
       "2      31  112792     4.0\n",
       "3      32  112792     4.0\n",
       "4      36  112792     3.0"
      ]
     },
     "execution_count": 7,
     "metadata": {},
     "output_type": "execute_result"
    }
   ],
   "source": [
    "user_behaviour_full_df.head()"
   ]
  },
  {
   "cell_type": "code",
   "execution_count": 8,
   "metadata": {},
   "outputs": [
    {
     "data": {
      "text/plain": [
       "(8989, 9)"
      ]
     },
     "execution_count": 8,
     "metadata": {},
     "output_type": "execute_result"
    }
   ],
   "source": [
    "EDAProcessor.content_based_dataset.shape"
   ]
  },
  {
   "cell_type": "markdown",
   "metadata": {},
   "source": [
    "Similarly importing the movie_metadata dataset as well (Note that the metadata and keyword datasets are already merged). All these datasets are filtered and merged on imdbId."
   ]
  },
  {
   "cell_type": "code",
   "execution_count": 9,
   "metadata": {},
   "outputs": [
    {
     "data": {
      "text/html": [
       "<div>\n",
       "<style scoped>\n",
       "    .dataframe tbody tr th:only-of-type {\n",
       "        vertical-align: middle;\n",
       "    }\n",
       "\n",
       "    .dataframe tbody tr th {\n",
       "        vertical-align: top;\n",
       "    }\n",
       "\n",
       "    .dataframe thead th {\n",
       "        text-align: right;\n",
       "    }\n",
       "</style>\n",
       "<table border=\"1\" class=\"dataframe\">\n",
       "  <thead>\n",
       "    <tr style=\"text-align: right;\">\n",
       "      <th></th>\n",
       "      <th>original_language</th>\n",
       "      <th>original_title</th>\n",
       "      <th>title</th>\n",
       "      <th>overview</th>\n",
       "      <th>movie_genre</th>\n",
       "      <th>movie_production</th>\n",
       "      <th>movie_keywords</th>\n",
       "      <th>spoken_language</th>\n",
       "      <th>imdbId</th>\n",
       "    </tr>\n",
       "  </thead>\n",
       "  <tbody>\n",
       "    <tr>\n",
       "      <th>0</th>\n",
       "      <td>en</td>\n",
       "      <td>Toy Story</td>\n",
       "      <td>Toy Story</td>\n",
       "      <td>Led by Woody, Andy's toys live happily in his ...</td>\n",
       "      <td>Animation Comedy Family</td>\n",
       "      <td>Pixar Animation Studios</td>\n",
       "      <td>jealousy toy boy friendship friends rivalry bo...</td>\n",
       "      <td>en</td>\n",
       "      <td>114709</td>\n",
       "    </tr>\n",
       "    <tr>\n",
       "      <th>1</th>\n",
       "      <td>en</td>\n",
       "      <td>Jumanji</td>\n",
       "      <td>Jumanji</td>\n",
       "      <td>When siblings Judy and Peter discover an encha...</td>\n",
       "      <td>Adventure Fantasy Family</td>\n",
       "      <td>TriStar Pictures,Teitler Film,Interscope Commu...</td>\n",
       "      <td>board game disappearance based on children's b...</td>\n",
       "      <td>en fr</td>\n",
       "      <td>113497</td>\n",
       "    </tr>\n",
       "    <tr>\n",
       "      <th>2</th>\n",
       "      <td>en</td>\n",
       "      <td>Grumpier Old Men</td>\n",
       "      <td>Grumpier Old Men</td>\n",
       "      <td>A family wedding reignites the ancient feud be...</td>\n",
       "      <td>Romance Comedy</td>\n",
       "      <td>Warner Bros.,Lancaster Gate</td>\n",
       "      <td>fishing best friend duringcreditsstinger old men</td>\n",
       "      <td>en</td>\n",
       "      <td>113228</td>\n",
       "    </tr>\n",
       "    <tr>\n",
       "      <th>3</th>\n",
       "      <td>en</td>\n",
       "      <td>Waiting to Exhale</td>\n",
       "      <td>Waiting to Exhale</td>\n",
       "      <td>Cheated on, mistreated and stepped on, the wom...</td>\n",
       "      <td>Comedy Drama Romance</td>\n",
       "      <td>Twentieth Century Fox Film Corporation</td>\n",
       "      <td>based on novel interracial relationship single...</td>\n",
       "      <td>en</td>\n",
       "      <td>114885</td>\n",
       "    </tr>\n",
       "    <tr>\n",
       "      <th>4</th>\n",
       "      <td>en</td>\n",
       "      <td>Father of the Bride Part II</td>\n",
       "      <td>Father of the Bride Part II</td>\n",
       "      <td>Just when George Banks has recovered from his ...</td>\n",
       "      <td>Comedy</td>\n",
       "      <td>Sandollar Productions,Touchstone Pictures</td>\n",
       "      <td>baby midlife crisis confidence aging daughter ...</td>\n",
       "      <td>en</td>\n",
       "      <td>113041</td>\n",
       "    </tr>\n",
       "  </tbody>\n",
       "</table>\n",
       "</div>"
      ],
      "text/plain": [
       "  original_language               original_title                        title  \\\n",
       "0                en                    Toy Story                    Toy Story   \n",
       "1                en                      Jumanji                      Jumanji   \n",
       "2                en             Grumpier Old Men             Grumpier Old Men   \n",
       "3                en            Waiting to Exhale            Waiting to Exhale   \n",
       "4                en  Father of the Bride Part II  Father of the Bride Part II   \n",
       "\n",
       "                                            overview  \\\n",
       "0  Led by Woody, Andy's toys live happily in his ...   \n",
       "1  When siblings Judy and Peter discover an encha...   \n",
       "2  A family wedding reignites the ancient feud be...   \n",
       "3  Cheated on, mistreated and stepped on, the wom...   \n",
       "4  Just when George Banks has recovered from his ...   \n",
       "\n",
       "                movie_genre  \\\n",
       "0   Animation Comedy Family   \n",
       "1  Adventure Fantasy Family   \n",
       "2            Romance Comedy   \n",
       "3      Comedy Drama Romance   \n",
       "4                    Comedy   \n",
       "\n",
       "                                    movie_production  \\\n",
       "0                            Pixar Animation Studios   \n",
       "1  TriStar Pictures,Teitler Film,Interscope Commu...   \n",
       "2                        Warner Bros.,Lancaster Gate   \n",
       "3             Twentieth Century Fox Film Corporation   \n",
       "4          Sandollar Productions,Touchstone Pictures   \n",
       "\n",
       "                                      movie_keywords spoken_language  imdbId  \n",
       "0  jealousy toy boy friendship friends rivalry bo...              en  114709  \n",
       "1  board game disappearance based on children's b...           en fr  113497  \n",
       "2   fishing best friend duringcreditsstinger old men              en  113228  \n",
       "3  based on novel interracial relationship single...              en  114885  \n",
       "4  baby midlife crisis confidence aging daughter ...              en  113041  "
      ]
     },
     "execution_count": 9,
     "metadata": {},
     "output_type": "execute_result"
    }
   ],
   "source": [
    "EDAProcessor.content_based_dataset.head()"
   ]
  },
  {
   "cell_type": "markdown",
   "metadata": {},
   "source": [
    "Retrieving the movie metadata dataset. Also changing the index of metadata dataset to imdbId. This will be done for easier retrieval of movie data with imdbId"
   ]
  },
  {
   "cell_type": "code",
   "execution_count": 10,
   "metadata": {},
   "outputs": [],
   "source": [
    "content_data_df = EDAProcessor.content_based_dataset"
   ]
  },
  {
   "cell_type": "code",
   "execution_count": 11,
   "metadata": {},
   "outputs": [],
   "source": [
    "indexed_content_df = EDAProcessor.content_based_dataset.set_index('imdbId')"
   ]
  },
  {
   "cell_type": "markdown",
   "metadata": {},
   "source": [
    "Checking the daatset for size and initial rows after changing index to 'imdbId'. Please note that 'imdb' id is common between the movie metadata and ratings dataset (we have already used links data set to merge on imdbId)"
   ]
  },
  {
   "cell_type": "code",
   "execution_count": 12,
   "metadata": {},
   "outputs": [
    {
     "data": {
      "text/plain": [
       "(8989, 8)"
      ]
     },
     "execution_count": 12,
     "metadata": {},
     "output_type": "execute_result"
    }
   ],
   "source": [
    "indexed_content_df.shape"
   ]
  },
  {
   "cell_type": "code",
   "execution_count": 13,
   "metadata": {},
   "outputs": [
    {
     "data": {
      "text/html": [
       "<div>\n",
       "<style scoped>\n",
       "    .dataframe tbody tr th:only-of-type {\n",
       "        vertical-align: middle;\n",
       "    }\n",
       "\n",
       "    .dataframe tbody tr th {\n",
       "        vertical-align: top;\n",
       "    }\n",
       "\n",
       "    .dataframe thead th {\n",
       "        text-align: right;\n",
       "    }\n",
       "</style>\n",
       "<table border=\"1\" class=\"dataframe\">\n",
       "  <thead>\n",
       "    <tr style=\"text-align: right;\">\n",
       "      <th></th>\n",
       "      <th>original_language</th>\n",
       "      <th>original_title</th>\n",
       "      <th>title</th>\n",
       "      <th>overview</th>\n",
       "      <th>movie_genre</th>\n",
       "      <th>movie_production</th>\n",
       "      <th>movie_keywords</th>\n",
       "      <th>spoken_language</th>\n",
       "    </tr>\n",
       "    <tr>\n",
       "      <th>imdbId</th>\n",
       "      <th></th>\n",
       "      <th></th>\n",
       "      <th></th>\n",
       "      <th></th>\n",
       "      <th></th>\n",
       "      <th></th>\n",
       "      <th></th>\n",
       "      <th></th>\n",
       "    </tr>\n",
       "  </thead>\n",
       "  <tbody>\n",
       "    <tr>\n",
       "      <th>114709</th>\n",
       "      <td>en</td>\n",
       "      <td>Toy Story</td>\n",
       "      <td>Toy Story</td>\n",
       "      <td>Led by Woody, Andy's toys live happily in his ...</td>\n",
       "      <td>Animation Comedy Family</td>\n",
       "      <td>Pixar Animation Studios</td>\n",
       "      <td>jealousy toy boy friendship friends rivalry bo...</td>\n",
       "      <td>en</td>\n",
       "    </tr>\n",
       "    <tr>\n",
       "      <th>113497</th>\n",
       "      <td>en</td>\n",
       "      <td>Jumanji</td>\n",
       "      <td>Jumanji</td>\n",
       "      <td>When siblings Judy and Peter discover an encha...</td>\n",
       "      <td>Adventure Fantasy Family</td>\n",
       "      <td>TriStar Pictures,Teitler Film,Interscope Commu...</td>\n",
       "      <td>board game disappearance based on children's b...</td>\n",
       "      <td>en fr</td>\n",
       "    </tr>\n",
       "    <tr>\n",
       "      <th>113228</th>\n",
       "      <td>en</td>\n",
       "      <td>Grumpier Old Men</td>\n",
       "      <td>Grumpier Old Men</td>\n",
       "      <td>A family wedding reignites the ancient feud be...</td>\n",
       "      <td>Romance Comedy</td>\n",
       "      <td>Warner Bros.,Lancaster Gate</td>\n",
       "      <td>fishing best friend duringcreditsstinger old men</td>\n",
       "      <td>en</td>\n",
       "    </tr>\n",
       "    <tr>\n",
       "      <th>114885</th>\n",
       "      <td>en</td>\n",
       "      <td>Waiting to Exhale</td>\n",
       "      <td>Waiting to Exhale</td>\n",
       "      <td>Cheated on, mistreated and stepped on, the wom...</td>\n",
       "      <td>Comedy Drama Romance</td>\n",
       "      <td>Twentieth Century Fox Film Corporation</td>\n",
       "      <td>based on novel interracial relationship single...</td>\n",
       "      <td>en</td>\n",
       "    </tr>\n",
       "    <tr>\n",
       "      <th>113041</th>\n",
       "      <td>en</td>\n",
       "      <td>Father of the Bride Part II</td>\n",
       "      <td>Father of the Bride Part II</td>\n",
       "      <td>Just when George Banks has recovered from his ...</td>\n",
       "      <td>Comedy</td>\n",
       "      <td>Sandollar Productions,Touchstone Pictures</td>\n",
       "      <td>baby midlife crisis confidence aging daughter ...</td>\n",
       "      <td>en</td>\n",
       "    </tr>\n",
       "  </tbody>\n",
       "</table>\n",
       "</div>"
      ],
      "text/plain": [
       "       original_language               original_title  \\\n",
       "imdbId                                                  \n",
       "114709                en                    Toy Story   \n",
       "113497                en                      Jumanji   \n",
       "113228                en             Grumpier Old Men   \n",
       "114885                en            Waiting to Exhale   \n",
       "113041                en  Father of the Bride Part II   \n",
       "\n",
       "                              title  \\\n",
       "imdbId                                \n",
       "114709                    Toy Story   \n",
       "113497                      Jumanji   \n",
       "113228             Grumpier Old Men   \n",
       "114885            Waiting to Exhale   \n",
       "113041  Father of the Bride Part II   \n",
       "\n",
       "                                                 overview  \\\n",
       "imdbId                                                      \n",
       "114709  Led by Woody, Andy's toys live happily in his ...   \n",
       "113497  When siblings Judy and Peter discover an encha...   \n",
       "113228  A family wedding reignites the ancient feud be...   \n",
       "114885  Cheated on, mistreated and stepped on, the wom...   \n",
       "113041  Just when George Banks has recovered from his ...   \n",
       "\n",
       "                     movie_genre  \\\n",
       "imdbId                             \n",
       "114709   Animation Comedy Family   \n",
       "113497  Adventure Fantasy Family   \n",
       "113228            Romance Comedy   \n",
       "114885      Comedy Drama Romance   \n",
       "113041                    Comedy   \n",
       "\n",
       "                                         movie_production  \\\n",
       "imdbId                                                      \n",
       "114709                            Pixar Animation Studios   \n",
       "113497  TriStar Pictures,Teitler Film,Interscope Commu...   \n",
       "113228                        Warner Bros.,Lancaster Gate   \n",
       "114885             Twentieth Century Fox Film Corporation   \n",
       "113041          Sandollar Productions,Touchstone Pictures   \n",
       "\n",
       "                                           movie_keywords spoken_language  \n",
       "imdbId                                                                     \n",
       "114709  jealousy toy boy friendship friends rivalry bo...              en  \n",
       "113497  board game disappearance based on children's b...           en fr  \n",
       "113228   fishing best friend duringcreditsstinger old men              en  \n",
       "114885  based on novel interracial relationship single...              en  \n",
       "113041  baby midlife crisis confidence aging daughter ...              en  "
      ]
     },
     "execution_count": 13,
     "metadata": {},
     "output_type": "execute_result"
    }
   ],
   "source": [
    "indexed_content_df.head()"
   ]
  },
  {
   "cell_type": "code",
   "execution_count": 14,
   "metadata": {},
   "outputs": [],
   "source": [
    "# METHOD NAME : get_movie_metadata\n",
    "# INPUT PRAMS : none\n",
    "# OUTPUT      : content_data_df\n",
    "# DESCRIPTION : This method returns indexed movie metadata DF"
   ]
  },
  {
   "cell_type": "code",
   "execution_count": 15,
   "metadata": {},
   "outputs": [],
   "source": [
    "def get_movie_metadata():\n",
    "    return content_data_df"
   ]
  },
  {
   "cell_type": "code",
   "execution_count": 16,
   "metadata": {},
   "outputs": [],
   "source": [
    "# METHOD NAME : get_indexed_movie_metadata\n",
    "# INPUT PRAMS : none\n",
    "# OUTPUT      : indexed_content_df\n",
    "# DESCRIPTION : This method returns indexed movie metadata DF"
   ]
  },
  {
   "cell_type": "code",
   "execution_count": 17,
   "metadata": {},
   "outputs": [],
   "source": [
    "def get_indexed_movie_metadata():\n",
    "    return indexed_content_df"
   ]
  },
  {
   "cell_type": "code",
   "execution_count": 18,
   "metadata": {},
   "outputs": [],
   "source": [
    "# METHOD NAME : get_users_content_data\n",
    "# INPUT PRAMS : userId, user_ratings_df - Input dataframe containing userId, imdbId, ratings \n",
    "# OUTPUT      : series of user inetracted movies\n",
    "# DESCRIPTION : This method returns all the interacted movies for the specified user from user_ratings_df"
   ]
  },
  {
   "cell_type": "code",
   "execution_count": 19,
   "metadata": {},
   "outputs": [],
   "source": [
    "def get_users_interaction_data(userId, user_ratings_df):\n",
    "    interacted_items = user_ratings_df.loc[userId]['imdbId'].unique()\n",
    "    return set(interacted_items)"
   ]
  },
  {
   "cell_type": "code",
   "execution_count": 20,
   "metadata": {},
   "outputs": [],
   "source": [
    "# METHOD NAME : train_test_user_behaviour\n",
    "# INPUT PRAMS : none\n",
    "# OUTPUT      : user_behaviour_train_df, user_behaviour_test_df\n",
    "# DESCRIPTION : This method performs train test split on user interaction dataset and returns train set and test set"
   ]
  },
  {
   "cell_type": "code",
   "execution_count": 21,
   "metadata": {},
   "outputs": [],
   "source": [
    "def train_test_user_behaviour():\n",
    "    user_behaviour_train_df, user_behaviour_test_df = train_test_split(user_behaviour_full_df,test_size=0.15,random_state=22)\n",
    "    return user_behaviour_train_df, user_behaviour_test_df"
   ]
  },
  {
   "cell_type": "code",
   "execution_count": 22,
   "metadata": {},
   "outputs": [
    {
     "name": "stdout",
     "output_type": "stream",
     "text": [
      "engagement in train set: 84789\n",
      "engagement in on test set: 14963\n",
      "Shape of user_behaviour_train_df:  (84789, 3)\n"
     ]
    },
    {
     "data": {
      "text/html": [
       "<div>\n",
       "<style scoped>\n",
       "    .dataframe tbody tr th:only-of-type {\n",
       "        vertical-align: middle;\n",
       "    }\n",
       "\n",
       "    .dataframe tbody tr th {\n",
       "        vertical-align: top;\n",
       "    }\n",
       "\n",
       "    .dataframe thead th {\n",
       "        text-align: right;\n",
       "    }\n",
       "</style>\n",
       "<table border=\"1\" class=\"dataframe\">\n",
       "  <thead>\n",
       "    <tr style=\"text-align: right;\">\n",
       "      <th></th>\n",
       "      <th>userId</th>\n",
       "      <th>imdbId</th>\n",
       "      <th>rating</th>\n",
       "    </tr>\n",
       "  </thead>\n",
       "  <tbody>\n",
       "    <tr>\n",
       "      <th>2457</th>\n",
       "      <td>73</td>\n",
       "      <td>112864</td>\n",
       "      <td>3.5</td>\n",
       "    </tr>\n",
       "    <tr>\n",
       "      <th>49661</th>\n",
       "      <td>472</td>\n",
       "      <td>120906</td>\n",
       "      <td>5.0</td>\n",
       "    </tr>\n",
       "    <tr>\n",
       "      <th>48470</th>\n",
       "      <td>584</td>\n",
       "      <td>119116</td>\n",
       "      <td>3.5</td>\n",
       "    </tr>\n",
       "    <tr>\n",
       "      <th>33782</th>\n",
       "      <td>18</td>\n",
       "      <td>117913</td>\n",
       "      <td>4.0</td>\n",
       "    </tr>\n",
       "    <tr>\n",
       "      <th>80144</th>\n",
       "      <td>614</td>\n",
       "      <td>80549</td>\n",
       "      <td>2.0</td>\n",
       "    </tr>\n",
       "  </tbody>\n",
       "</table>\n",
       "</div>"
      ],
      "text/plain": [
       "       userId  imdbId  rating\n",
       "2457       73  112864     3.5\n",
       "49661     472  120906     5.0\n",
       "48470     584  119116     3.5\n",
       "33782      18  117913     4.0\n",
       "80144     614   80549     2.0"
      ]
     },
     "execution_count": 22,
     "metadata": {},
     "output_type": "execute_result"
    }
   ],
   "source": [
    "user_behaviour_train_df, user_behaviour_test_df = train_test_user_behaviour()\n",
    "print('engagement in train set: %d' % len(user_behaviour_train_df))\n",
    "print('engagement in on test set: %d' % len(user_behaviour_test_df))\n",
    "print('Shape of user_behaviour_train_df: ' , user_behaviour_train_df.shape)\n",
    "user_behaviour_train_df.head()"
   ]
  },
  {
   "cell_type": "code",
   "execution_count": 23,
   "metadata": {},
   "outputs": [
    {
     "name": "stdout",
     "output_type": "stream",
     "text": [
      "Shape of user_behaviour_test_df:  (14963, 3)\n"
     ]
    },
    {
     "data": {
      "text/html": [
       "<div>\n",
       "<style scoped>\n",
       "    .dataframe tbody tr th:only-of-type {\n",
       "        vertical-align: middle;\n",
       "    }\n",
       "\n",
       "    .dataframe tbody tr th {\n",
       "        vertical-align: top;\n",
       "    }\n",
       "\n",
       "    .dataframe thead th {\n",
       "        text-align: right;\n",
       "    }\n",
       "</style>\n",
       "<table border=\"1\" class=\"dataframe\">\n",
       "  <thead>\n",
       "    <tr style=\"text-align: right;\">\n",
       "      <th></th>\n",
       "      <th>userId</th>\n",
       "      <th>imdbId</th>\n",
       "      <th>rating</th>\n",
       "    </tr>\n",
       "  </thead>\n",
       "  <tbody>\n",
       "    <tr>\n",
       "      <th>19754</th>\n",
       "      <td>537</td>\n",
       "      <td>73195</td>\n",
       "      <td>4.0</td>\n",
       "    </tr>\n",
       "    <tr>\n",
       "      <th>10293</th>\n",
       "      <td>621</td>\n",
       "      <td>86190</td>\n",
       "      <td>4.0</td>\n",
       "    </tr>\n",
       "    <tr>\n",
       "      <th>83591</th>\n",
       "      <td>452</td>\n",
       "      <td>95800</td>\n",
       "      <td>4.0</td>\n",
       "    </tr>\n",
       "    <tr>\n",
       "      <th>5875</th>\n",
       "      <td>177</td>\n",
       "      <td>106977</td>\n",
       "      <td>5.0</td>\n",
       "    </tr>\n",
       "    <tr>\n",
       "      <th>8529</th>\n",
       "      <td>536</td>\n",
       "      <td>96895</td>\n",
       "      <td>3.0</td>\n",
       "    </tr>\n",
       "  </tbody>\n",
       "</table>\n",
       "</div>"
      ],
      "text/plain": [
       "       userId  imdbId  rating\n",
       "19754     537   73195     4.0\n",
       "10293     621   86190     4.0\n",
       "83591     452   95800     4.0\n",
       "5875      177  106977     5.0\n",
       "8529      536   96895     3.0"
      ]
     },
     "execution_count": 23,
     "metadata": {},
     "output_type": "execute_result"
    }
   ],
   "source": [
    "print('Shape of user_behaviour_test_df: ' , user_behaviour_test_df.shape)\n",
    "user_behaviour_test_df.head()"
   ]
  },
  {
   "cell_type": "code",
   "execution_count": 24,
   "metadata": {},
   "outputs": [],
   "source": [
    "# METHOD NAME : get_user_behaviour_indexed\n",
    "# INPUT PRAMS : none  \n",
    "# OUTPUT      : user_behaviour_full_indexed_df,user_behaviour_train_indexed_df,user_behaviour_test_indexed_df\n",
    "# DESCRIPTION : This method uses extracted user iteraction dataset, test and train sets. \n",
    "# Then set the userId as index for every dataset."
   ]
  },
  {
   "cell_type": "code",
   "execution_count": 25,
   "metadata": {},
   "outputs": [],
   "source": [
    "def get_user_behaviour_indexed():\n",
    "    \n",
    "    user_behaviour_full_indexed_df = user_behaviour_full_df.set_index('userId')\n",
    "    user_behaviour_train_indexed_df = user_behaviour_train_df.set_index('userId')\n",
    "    user_behaviour_test_indexed_df = user_behaviour_test_df.set_index('userId')\n",
    "    return user_behaviour_full_indexed_df,user_behaviour_train_indexed_df,user_behaviour_test_indexed_df\n"
   ]
  },
  {
   "cell_type": "code",
   "execution_count": 26,
   "metadata": {},
   "outputs": [
    {
     "name": "stdout",
     "output_type": "stream",
     "text": [
      "Userbahaviour indexed full DF, Shape =  (99752, 2)\n",
      "Userbahaviour indexed train DF, Shape =  (84789, 2)\n",
      "Userbahaviour indexed test DF, Shape =  (14963, 2)\n"
     ]
    }
   ],
   "source": [
    "user_beh_indexed_df,user_beh_train_indexed_df,user_beh_test_indexed_df = get_user_behaviour_indexed()\n",
    "print('Userbahaviour indexed full DF, Shape = ', user_beh_indexed_df.shape)\n",
    "print('Userbahaviour indexed train DF, Shape = ', user_beh_train_indexed_df.shape)\n",
    "print('Userbahaviour indexed test DF, Shape = ', user_beh_test_indexed_df.shape)"
   ]
  },
  {
   "cell_type": "markdown",
   "metadata": {},
   "source": [
    "Analysisng unique number of movies and users present in train as well as test datasets and the overlaps between train and test dataset"
   ]
  },
  {
   "cell_type": "code",
   "execution_count": 27,
   "metadata": {},
   "outputs": [
    {
     "data": {
      "text/plain": [
       "671"
      ]
     },
     "execution_count": 27,
     "metadata": {},
     "output_type": "execute_result"
    }
   ],
   "source": [
    "user_behaviour_train_df.userId.nunique()"
   ]
  },
  {
   "cell_type": "code",
   "execution_count": 28,
   "metadata": {},
   "outputs": [
    {
     "data": {
      "text/plain": [
       "668"
      ]
     },
     "execution_count": 28,
     "metadata": {},
     "output_type": "execute_result"
    }
   ],
   "source": [
    "user_behaviour_test_df.userId.nunique()"
   ]
  },
  {
   "cell_type": "markdown",
   "metadata": {},
   "source": [
    "As we can see that there is a good overlap of users between the train and test dataset, which is good. Lets see how many number of movies are common between these two datasets."
   ]
  },
  {
   "cell_type": "code",
   "execution_count": 29,
   "metadata": {},
   "outputs": [
    {
     "data": {
      "text/plain": [
       "8500"
      ]
     },
     "execution_count": 29,
     "metadata": {},
     "output_type": "execute_result"
    }
   ],
   "source": [
    "user_behaviour_train_df.imdbId.nunique()"
   ]
  },
  {
   "cell_type": "code",
   "execution_count": 30,
   "metadata": {},
   "outputs": [
    {
     "data": {
      "text/plain": [
       "4212"
      ]
     },
     "execution_count": 30,
     "metadata": {},
     "output_type": "execute_result"
    }
   ],
   "source": [
    "user_behaviour_test_df.imdbId.nunique()"
   ]
  },
  {
   "cell_type": "code",
   "execution_count": 31,
   "metadata": {},
   "outputs": [
    {
     "data": {
      "text/plain": [
       "3723"
      ]
     },
     "execution_count": 31,
     "metadata": {},
     "output_type": "execute_result"
    }
   ],
   "source": [
    "len(set(user_behaviour_train_df.imdbId.unique()).intersection(set(user_behaviour_test_df.imdbId.unique())))"
   ]
  },
  {
   "cell_type": "code",
   "execution_count": null,
   "metadata": {},
   "outputs": [],
   "source": []
  }
 ],
 "metadata": {
  "kernelspec": {
   "display_name": "Python 3",
   "language": "python",
   "name": "python3"
  },
  "language_info": {
   "codemirror_mode": {
    "name": "ipython",
    "version": 3
   },
   "file_extension": ".py",
   "mimetype": "text/x-python",
   "name": "python",
   "nbconvert_exporter": "python",
   "pygments_lexer": "ipython3",
   "version": "3.7.1"
  }
 },
 "nbformat": 4,
 "nbformat_minor": 4
}
