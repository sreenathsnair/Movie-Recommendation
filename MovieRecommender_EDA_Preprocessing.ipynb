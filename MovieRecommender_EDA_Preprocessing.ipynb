{
 "cells": [
  {
   "cell_type": "markdown",
   "metadata": {},
   "source": [
    "# MOVIE RECOMMENDER SYSTEM\n",
    "\n",
    "### SREENATH S"
   ]
  },
  {
   "cell_type": "markdown",
   "metadata": {},
   "source": [
    "## PROBLEM STATEMENT"
   ]
  },
  {
   "cell_type": "markdown",
   "metadata": {},
   "source": [
    "Recommender systems are one of the most frequently practised and in-demand application of machine learning in industry. Almost every product company that holds a consumer-based product requires recommender systems to be deployed on their platforms. According to the reports published, Amazon generates nearly 35% of their revenue through their state of the art recommendation engines on their e-commerce platform.\n",
    "\n",
    "As part of this project we need to develop a movie recommendation system based on:\n",
    "1. Collaborative Filtering\n",
    "2. Content Based Filtering\n",
    "3. Hybrid Recommendation \n",
    "\n",
    "\n",
    "**NOTE: It is assumed that all the required input files are present in the same folder where this notebook is copied to.**\n"
   ]
  },
  {
   "cell_type": "markdown",
   "metadata": {},
   "source": [
    "### IMPORTANT NOTE: \n",
    "\n",
    "The order in which these files needs to be run is given below."
   ]
  },
  {
   "cell_type": "markdown",
   "metadata": {},
   "source": [
    "### OBJECTIVE:"
   ]
  },
  {
   "cell_type": "markdown",
   "metadata": {},
   "source": [
    "The objective of this project is to recommend relevant movies to users:\n",
    "1. Based on their preferences and interactions with a variety of moview on the platform\n",
    "2. Based on what other similar users on the platform consumes.\n",
    "\n",
    "We'll be creating a hybrid recommender system to achieve this goal.\n",
    "\n",
    "**DATASET**\n",
    "\n",
    "We will be using the following datasets to help us create machine learning models,<br>\n",
    "\n",
    "1. movies_metadata.csv: This file contains movie information such as Movie Id, Title, Average Rating, Overview, Genere, Popularity, Production etc.<br>\n",
    "2. keywords.csv:  This file contains keyword for each movies.<br>\n",
    "3. ratings.csv: User - Movie Ratings information is part of this file.\n",
    "\n",
    "**PROCEDURE**\n",
    "\n",
    "The procedure that should be followed for this project:\n",
    "1. EDA(Exploratory data analysis)\n",
    "2. Preprocessing\n",
    "3. Recommendations Techniques:<br>\n",
    "    3.1. Collaborative Filtering<br>\n",
    "    3.2. Content-Based Filtering<br>\n",
    "    3.3. Hybrid recommendations<br>\n",
    "4. Evaluation Techniques\n",
    "5. Comparisons\n",
    "\n",
    "In this notebook we will be performing EDA and Dataprocessing. At the end of this notebook the processed content will be written on to an extenal file in CSV format and those will be used for actual recommendation model creation."
   ]
  },
  {
   "cell_type": "code",
   "execution_count": 1,
   "metadata": {},
   "outputs": [],
   "source": [
    "import re\n",
    "import import_ipynb\n",
    "import numpy as np\n",
    "import pandas as pd\n",
    "import matplotlib.pyplot as plt\n",
    "import seaborn as sns\n",
    "import warnings\n",
    "import ast\n",
    "from datetime import datetime\n",
    "from scipy.sparse import csr_matrix\n",
    "from scipy.sparse.linalg import svds\n",
    "warnings.filterwarnings('ignore')\n",
    "sns.set(style = 'whitegrid');\n",
    "%matplotlib inline"
   ]
  },
  {
   "cell_type": "markdown",
   "metadata": {},
   "source": [
    "### 1. EDA ON MOVIE METADATA"
   ]
  },
  {
   "cell_type": "markdown",
   "metadata": {},
   "source": [
    "Let us first read the movies_metadata.csv and analyse the file"
   ]
  },
  {
   "cell_type": "code",
   "execution_count": 2,
   "metadata": {},
   "outputs": [
    {
     "data": {
      "text/plain": [
       "(45466, 24)"
      ]
     },
     "execution_count": 2,
     "metadata": {},
     "output_type": "execute_result"
    }
   ],
   "source": [
    "movie_metadata_df = pd.read_csv(r'movies_metadata.csv', engine = 'python')\n",
    "movie_metadata_df.shape"
   ]
  },
  {
   "cell_type": "markdown",
   "metadata": {},
   "source": [
    "There are 45466 rows with 24 columns. Let us see each columns in detail"
   ]
  },
  {
   "cell_type": "code",
   "execution_count": 3,
   "metadata": {},
   "outputs": [
    {
     "data": {
      "text/html": [
       "<div>\n",
       "<style scoped>\n",
       "    .dataframe tbody tr th:only-of-type {\n",
       "        vertical-align: middle;\n",
       "    }\n",
       "\n",
       "    .dataframe tbody tr th {\n",
       "        vertical-align: top;\n",
       "    }\n",
       "\n",
       "    .dataframe thead th {\n",
       "        text-align: right;\n",
       "    }\n",
       "</style>\n",
       "<table border=\"1\" class=\"dataframe\">\n",
       "  <thead>\n",
       "    <tr style=\"text-align: right;\">\n",
       "      <th></th>\n",
       "      <th>adult</th>\n",
       "      <th>belongs_to_collection</th>\n",
       "      <th>budget</th>\n",
       "      <th>genres</th>\n",
       "      <th>homepage</th>\n",
       "      <th>id</th>\n",
       "      <th>imdb_id</th>\n",
       "      <th>original_language</th>\n",
       "      <th>original_title</th>\n",
       "      <th>overview</th>\n",
       "      <th>...</th>\n",
       "      <th>release_date</th>\n",
       "      <th>revenue</th>\n",
       "      <th>runtime</th>\n",
       "      <th>spoken_languages</th>\n",
       "      <th>status</th>\n",
       "      <th>tagline</th>\n",
       "      <th>title</th>\n",
       "      <th>video</th>\n",
       "      <th>vote_average</th>\n",
       "      <th>vote_count</th>\n",
       "    </tr>\n",
       "  </thead>\n",
       "  <tbody>\n",
       "    <tr>\n",
       "      <th>0</th>\n",
       "      <td>False</td>\n",
       "      <td>{'id': 10194, 'name': 'Toy Story Collection', ...</td>\n",
       "      <td>30000000</td>\n",
       "      <td>[{'id': 16, 'name': 'Animation'}, {'id': 35, '...</td>\n",
       "      <td>http://toystory.disney.com/toy-story</td>\n",
       "      <td>862</td>\n",
       "      <td>tt0114709</td>\n",
       "      <td>en</td>\n",
       "      <td>Toy Story</td>\n",
       "      <td>Led by Woody, Andy's toys live happily in his ...</td>\n",
       "      <td>...</td>\n",
       "      <td>1995-10-30</td>\n",
       "      <td>373554033.0</td>\n",
       "      <td>81.0</td>\n",
       "      <td>[{'iso_639_1': 'en', 'name': 'English'}]</td>\n",
       "      <td>Released</td>\n",
       "      <td>NaN</td>\n",
       "      <td>Toy Story</td>\n",
       "      <td>False</td>\n",
       "      <td>7.7</td>\n",
       "      <td>5415.0</td>\n",
       "    </tr>\n",
       "    <tr>\n",
       "      <th>1</th>\n",
       "      <td>False</td>\n",
       "      <td>NaN</td>\n",
       "      <td>65000000</td>\n",
       "      <td>[{'id': 12, 'name': 'Adventure'}, {'id': 14, '...</td>\n",
       "      <td>NaN</td>\n",
       "      <td>8844</td>\n",
       "      <td>tt0113497</td>\n",
       "      <td>en</td>\n",
       "      <td>Jumanji</td>\n",
       "      <td>When siblings Judy and Peter discover an encha...</td>\n",
       "      <td>...</td>\n",
       "      <td>1995-12-15</td>\n",
       "      <td>262797249.0</td>\n",
       "      <td>104.0</td>\n",
       "      <td>[{'iso_639_1': 'en', 'name': 'English'}, {'iso...</td>\n",
       "      <td>Released</td>\n",
       "      <td>Roll the dice and unleash the excitement!</td>\n",
       "      <td>Jumanji</td>\n",
       "      <td>False</td>\n",
       "      <td>6.9</td>\n",
       "      <td>2413.0</td>\n",
       "    </tr>\n",
       "    <tr>\n",
       "      <th>2</th>\n",
       "      <td>False</td>\n",
       "      <td>{'id': 119050, 'name': 'Grumpy Old Men Collect...</td>\n",
       "      <td>0</td>\n",
       "      <td>[{'id': 10749, 'name': 'Romance'}, {'id': 35, ...</td>\n",
       "      <td>NaN</td>\n",
       "      <td>15602</td>\n",
       "      <td>tt0113228</td>\n",
       "      <td>en</td>\n",
       "      <td>Grumpier Old Men</td>\n",
       "      <td>A family wedding reignites the ancient feud be...</td>\n",
       "      <td>...</td>\n",
       "      <td>1995-12-22</td>\n",
       "      <td>0.0</td>\n",
       "      <td>101.0</td>\n",
       "      <td>[{'iso_639_1': 'en', 'name': 'English'}]</td>\n",
       "      <td>Released</td>\n",
       "      <td>Still Yelling. Still Fighting. Still Ready for...</td>\n",
       "      <td>Grumpier Old Men</td>\n",
       "      <td>False</td>\n",
       "      <td>6.5</td>\n",
       "      <td>92.0</td>\n",
       "    </tr>\n",
       "  </tbody>\n",
       "</table>\n",
       "<p>3 rows × 24 columns</p>\n",
       "</div>"
      ],
      "text/plain": [
       "   adult                              belongs_to_collection    budget  \\\n",
       "0  False  {'id': 10194, 'name': 'Toy Story Collection', ...  30000000   \n",
       "1  False                                                NaN  65000000   \n",
       "2  False  {'id': 119050, 'name': 'Grumpy Old Men Collect...         0   \n",
       "\n",
       "                                              genres  \\\n",
       "0  [{'id': 16, 'name': 'Animation'}, {'id': 35, '...   \n",
       "1  [{'id': 12, 'name': 'Adventure'}, {'id': 14, '...   \n",
       "2  [{'id': 10749, 'name': 'Romance'}, {'id': 35, ...   \n",
       "\n",
       "                               homepage     id    imdb_id original_language  \\\n",
       "0  http://toystory.disney.com/toy-story    862  tt0114709                en   \n",
       "1                                   NaN   8844  tt0113497                en   \n",
       "2                                   NaN  15602  tt0113228                en   \n",
       "\n",
       "     original_title                                           overview  ...  \\\n",
       "0         Toy Story  Led by Woody, Andy's toys live happily in his ...  ...   \n",
       "1           Jumanji  When siblings Judy and Peter discover an encha...  ...   \n",
       "2  Grumpier Old Men  A family wedding reignites the ancient feud be...  ...   \n",
       "\n",
       "  release_date      revenue runtime  \\\n",
       "0   1995-10-30  373554033.0    81.0   \n",
       "1   1995-12-15  262797249.0   104.0   \n",
       "2   1995-12-22          0.0   101.0   \n",
       "\n",
       "                                    spoken_languages    status  \\\n",
       "0           [{'iso_639_1': 'en', 'name': 'English'}]  Released   \n",
       "1  [{'iso_639_1': 'en', 'name': 'English'}, {'iso...  Released   \n",
       "2           [{'iso_639_1': 'en', 'name': 'English'}]  Released   \n",
       "\n",
       "                                             tagline             title  video  \\\n",
       "0                                                NaN         Toy Story  False   \n",
       "1          Roll the dice and unleash the excitement!           Jumanji  False   \n",
       "2  Still Yelling. Still Fighting. Still Ready for...  Grumpier Old Men  False   \n",
       "\n",
       "  vote_average vote_count  \n",
       "0          7.7     5415.0  \n",
       "1          6.9     2413.0  \n",
       "2          6.5       92.0  \n",
       "\n",
       "[3 rows x 24 columns]"
      ]
     },
     "execution_count": 3,
     "metadata": {},
     "output_type": "execute_result"
    }
   ],
   "source": [
    "movie_metadata_df.head(3)"
   ]
  },
  {
   "cell_type": "code",
   "execution_count": 4,
   "metadata": {
    "scrolled": true
   },
   "outputs": [
    {
     "data": {
      "text/plain": [
       "Index(['adult', 'belongs_to_collection', 'budget', 'genres', 'homepage', 'id',\n",
       "       'imdb_id', 'original_language', 'original_title', 'overview',\n",
       "       'popularity', 'poster_path', 'production_companies',\n",
       "       'production_countries', 'release_date', 'revenue', 'runtime',\n",
       "       'spoken_languages', 'status', 'tagline', 'title', 'video',\n",
       "       'vote_average', 'vote_count'],\n",
       "      dtype='object')"
      ]
     },
     "execution_count": 4,
     "metadata": {},
     "output_type": "execute_result"
    }
   ],
   "source": [
    "movie_metadata_df.columns"
   ]
  },
  {
   "cell_type": "markdown",
   "metadata": {},
   "source": [
    "Before doing any analysis we will remove duplicate entries from the dataset if any."
   ]
  },
  {
   "cell_type": "code",
   "execution_count": 5,
   "metadata": {},
   "outputs": [
    {
     "data": {
      "text/plain": [
       "(45449, 24)"
      ]
     },
     "execution_count": 5,
     "metadata": {},
     "output_type": "execute_result"
    }
   ],
   "source": [
    "movie_metadata_df = movie_metadata_df.drop_duplicates()\n",
    "movie_metadata_df.shape"
   ]
  },
  {
   "cell_type": "markdown",
   "metadata": {},
   "source": [
    "We will see how much of null values are present in each of these columns"
   ]
  },
  {
   "cell_type": "code",
   "execution_count": 6,
   "metadata": {},
   "outputs": [
    {
     "name": "stdout",
     "output_type": "stream",
     "text": [
      "<class 'pandas.core.frame.DataFrame'>\n",
      "Int64Index: 45449 entries, 0 to 45465\n",
      "Data columns (total 24 columns):\n",
      " #   Column                 Non-Null Count  Dtype  \n",
      "---  ------                 --------------  -----  \n",
      " 0   adult                  45449 non-null  object \n",
      " 1   belongs_to_collection  4493 non-null   object \n",
      " 2   budget                 45449 non-null  object \n",
      " 3   genres                 45449 non-null  object \n",
      " 4   homepage               7780 non-null   object \n",
      " 5   id                     45449 non-null  object \n",
      " 6   imdb_id                45432 non-null  object \n",
      " 7   original_language      45438 non-null  object \n",
      " 8   original_title         45449 non-null  object \n",
      " 9   overview               44495 non-null  object \n",
      " 10  popularity             45444 non-null  object \n",
      " 11  poster_path            45063 non-null  object \n",
      " 12  production_companies   45446 non-null  object \n",
      " 13  production_countries   45446 non-null  object \n",
      " 14  release_date           45362 non-null  object \n",
      " 15  revenue                45443 non-null  float64\n",
      " 16  runtime                45186 non-null  float64\n",
      " 17  spoken_languages       45443 non-null  object \n",
      " 18  status                 45362 non-null  object \n",
      " 19  tagline                20407 non-null  object \n",
      " 20  title                  45443 non-null  object \n",
      " 21  video                  45443 non-null  object \n",
      " 22  vote_average           45443 non-null  float64\n",
      " 23  vote_count             45443 non-null  float64\n",
      "dtypes: float64(4), object(20)\n",
      "memory usage: 8.7+ MB\n"
     ]
    }
   ],
   "source": [
    "movie_metadata_df.info()"
   ]
  },
  {
   "cell_type": "code",
   "execution_count": 7,
   "metadata": {},
   "outputs": [
    {
     "data": {
      "text/plain": [
       "adult                     0.00\n",
       "belongs_to_collection    90.11\n",
       "budget                    0.00\n",
       "genres                    0.00\n",
       "homepage                 82.88\n",
       "id                        0.00\n",
       "imdb_id                   0.04\n",
       "original_language         0.02\n",
       "original_title            0.00\n",
       "overview                  2.10\n",
       "popularity                0.01\n",
       "poster_path               0.85\n",
       "production_companies      0.01\n",
       "production_countries      0.01\n",
       "release_date              0.19\n",
       "revenue                   0.01\n",
       "runtime                   0.58\n",
       "spoken_languages          0.01\n",
       "status                    0.19\n",
       "tagline                  55.10\n",
       "title                     0.01\n",
       "video                     0.01\n",
       "vote_average              0.01\n",
       "vote_count                0.01\n",
       "dtype: float64"
      ]
     },
     "execution_count": 7,
     "metadata": {},
     "output_type": "execute_result"
    }
   ],
   "source": [
    "movie_metadata_info = round(((movie_metadata_df.isnull().sum())/len(movie_metadata_df))*100, 2)\n",
    "movie_metadata_info"
   ]
  },
  {
   "cell_type": "markdown",
   "metadata": {},
   "source": [
    "As we can see belongs_to_collection, homepage, tagline features has more than 50% missing data. So we will be removing these columns. Though tagline can be handy in case of Content Based Filtering, but we have keyword dataset and overview field which should be good enough for us to come up with a CBF recommendation model."
   ]
  },
  {
   "cell_type": "code",
   "execution_count": 8,
   "metadata": {},
   "outputs": [],
   "source": [
    "movie_metadata_df = movie_metadata_df.drop(columns = ['belongs_to_collection', 'homepage', 'tagline'])"
   ]
  },
  {
   "cell_type": "markdown",
   "metadata": {},
   "source": [
    "**1. STATUS**"
   ]
  },
  {
   "cell_type": "markdown",
   "metadata": {},
   "source": [
    "This field indicastes the status of the movie, ie whether its released or currently in production etc."
   ]
  },
  {
   "cell_type": "code",
   "execution_count": 9,
   "metadata": {},
   "outputs": [
    {
     "data": {
      "text/plain": [
       "array(['Released', nan, 'Rumored', 'Post Production', 'In Production',\n",
       "       None, 'Planned', 'Canceled'], dtype=object)"
      ]
     },
     "execution_count": 9,
     "metadata": {},
     "output_type": "execute_result"
    }
   ],
   "source": [
    "movie_metadata_df.status.unique()"
   ]
  },
  {
   "cell_type": "code",
   "execution_count": 10,
   "metadata": {},
   "outputs": [
    {
     "data": {
      "text/plain": [
       "status\n",
       "Canceled               2\n",
       "In Production         20\n",
       "Planned               15\n",
       "Post Production       98\n",
       "Released           44998\n",
       "Rumored              229\n",
       "dtype: int64"
      ]
     },
     "execution_count": 10,
     "metadata": {},
     "output_type": "execute_result"
    }
   ],
   "source": [
    "movie_metadata_df.groupby('status').size()"
   ]
  },
  {
   "cell_type": "markdown",
   "metadata": {},
   "source": [
    "We will be considering only the released movies for recommendation purpose, there is no point in recommending a movie which is in production or still in planning phase. Hence we will reatin only those are already released."
   ]
  },
  {
   "cell_type": "code",
   "execution_count": 11,
   "metadata": {},
   "outputs": [],
   "source": [
    "movie_metadata_df = movie_metadata_df[movie_metadata_df.status == 'Released']"
   ]
  },
  {
   "cell_type": "markdown",
   "metadata": {},
   "source": [
    "Will examine how many moview sre present after filtering only released movies. There should be 44998"
   ]
  },
  {
   "cell_type": "code",
   "execution_count": 12,
   "metadata": {},
   "outputs": [
    {
     "data": {
      "text/plain": [
       "(44998, 21)"
      ]
     },
     "execution_count": 12,
     "metadata": {},
     "output_type": "execute_result"
    }
   ],
   "source": [
    "movie_metadata_df.shape"
   ]
  },
  {
   "cell_type": "markdown",
   "metadata": {},
   "source": [
    "**2. ADULT** - Indicates whether this is adult movie or not"
   ]
  },
  {
   "cell_type": "code",
   "execution_count": 13,
   "metadata": {},
   "outputs": [
    {
     "data": {
      "text/plain": [
       "array(['False', 'True'], dtype=object)"
      ]
     },
     "execution_count": 13,
     "metadata": {},
     "output_type": "execute_result"
    }
   ],
   "source": [
    "movie_metadata_df['adult'].unique()"
   ]
  },
  {
   "cell_type": "code",
   "execution_count": 14,
   "metadata": {},
   "outputs": [
    {
     "data": {
      "text/plain": [
       "adult\n",
       "False    44990\n",
       "True         8\n",
       "dtype: int64"
      ]
     },
     "execution_count": 14,
     "metadata": {},
     "output_type": "execute_result"
    }
   ],
   "source": [
    "movie_metadata_df.groupby('adult').size()"
   ]
  },
  {
   "cell_type": "markdown",
   "metadata": {},
   "source": [
    "**3. ID FIELD** - This is the id field in the movie_metadata dataset."
   ]
  },
  {
   "cell_type": "code",
   "execution_count": 15,
   "metadata": {},
   "outputs": [],
   "source": [
    "movie_metadata_df = movie_metadata_df.astype({\"id\": int})"
   ]
  },
  {
   "cell_type": "code",
   "execution_count": 16,
   "metadata": {},
   "outputs": [
    {
     "name": "stdout",
     "output_type": "stream",
     "text": [
      "<class 'pandas.core.frame.DataFrame'>\n",
      "Int64Index: 44998 entries, 0 to 45465\n",
      "Data columns (total 21 columns):\n",
      " #   Column                Non-Null Count  Dtype  \n",
      "---  ------                --------------  -----  \n",
      " 0   adult                 44998 non-null  object \n",
      " 1   budget                44998 non-null  object \n",
      " 2   genres                44998 non-null  object \n",
      " 3   id                    44998 non-null  int32  \n",
      " 4   imdb_id               44983 non-null  object \n",
      " 5   original_language     44988 non-null  object \n",
      " 6   original_title        44998 non-null  object \n",
      " 7   overview              44078 non-null  object \n",
      " 8   popularity            44998 non-null  object \n",
      " 9   poster_path           44625 non-null  object \n",
      " 10  production_companies  44998 non-null  object \n",
      " 11  production_countries  44998 non-null  object \n",
      " 12  release_date          44920 non-null  object \n",
      " 13  revenue               44998 non-null  float64\n",
      " 14  runtime               44747 non-null  float64\n",
      " 15  spoken_languages      44998 non-null  object \n",
      " 16  status                44998 non-null  object \n",
      " 17  title                 44998 non-null  object \n",
      " 18  video                 44998 non-null  object \n",
      " 19  vote_average          44998 non-null  float64\n",
      " 20  vote_count            44998 non-null  float64\n",
      "dtypes: float64(4), int32(1), object(16)\n",
      "memory usage: 7.4+ MB\n"
     ]
    }
   ],
   "source": [
    "movie_metadata_df.info()"
   ]
  },
  {
   "cell_type": "code",
   "execution_count": 17,
   "metadata": {},
   "outputs": [
    {
     "data": {
      "text/plain": [
       "44985"
      ]
     },
     "execution_count": 17,
     "metadata": {},
     "output_type": "execute_result"
    }
   ],
   "source": [
    "movie_metadata_df.id.nunique()"
   ]
  },
  {
   "cell_type": "markdown",
   "metadata": {},
   "source": [
    "here we can see there are few movies with same id. Let us see which are ids are duplicated"
   ]
  },
  {
   "cell_type": "code",
   "execution_count": 18,
   "metadata": {},
   "outputs": [
    {
     "name": "stdout",
     "output_type": "stream",
     "text": [
      "Duplicate ids present in the dataset are:  [14788, 22649, 13209, 77221, 109962, 84198, 110428, 69234, 132641, 15028, 4912, 10991, 12600]\n"
     ]
    }
   ],
   "source": [
    "duplicate = movie_metadata_df[movie_metadata_df.duplicated('id')] \n",
    "duplicate_id = list(duplicate.id)\n",
    "print('Duplicate ids present in the dataset are: ', duplicate_id)"
   ]
  },
  {
   "cell_type": "markdown",
   "metadata": {},
   "source": [
    "Let us print those raws with duplicate id for further anlysis"
   ]
  },
  {
   "cell_type": "code",
   "execution_count": 19,
   "metadata": {
    "scrolled": true
   },
   "outputs": [
    {
     "data": {
      "text/html": [
       "<div>\n",
       "<style scoped>\n",
       "    .dataframe tbody tr th:only-of-type {\n",
       "        vertical-align: middle;\n",
       "    }\n",
       "\n",
       "    .dataframe tbody tr th {\n",
       "        vertical-align: top;\n",
       "    }\n",
       "\n",
       "    .dataframe thead th {\n",
       "        text-align: right;\n",
       "    }\n",
       "</style>\n",
       "<table border=\"1\" class=\"dataframe\">\n",
       "  <thead>\n",
       "    <tr style=\"text-align: right;\">\n",
       "      <th></th>\n",
       "      <th>adult</th>\n",
       "      <th>budget</th>\n",
       "      <th>genres</th>\n",
       "      <th>id</th>\n",
       "      <th>imdb_id</th>\n",
       "      <th>original_language</th>\n",
       "      <th>original_title</th>\n",
       "      <th>overview</th>\n",
       "      <th>popularity</th>\n",
       "      <th>poster_path</th>\n",
       "      <th>...</th>\n",
       "      <th>production_countries</th>\n",
       "      <th>release_date</th>\n",
       "      <th>revenue</th>\n",
       "      <th>runtime</th>\n",
       "      <th>spoken_languages</th>\n",
       "      <th>status</th>\n",
       "      <th>title</th>\n",
       "      <th>video</th>\n",
       "      <th>vote_average</th>\n",
       "      <th>vote_count</th>\n",
       "    </tr>\n",
       "  </thead>\n",
       "  <tbody>\n",
       "    <tr>\n",
       "      <th>33826</th>\n",
       "      <td>False</td>\n",
       "      <td>30000000</td>\n",
       "      <td>[{'id': 35, 'name': 'Comedy'}, {'id': 80, 'nam...</td>\n",
       "      <td>4912</td>\n",
       "      <td>tt0270288</td>\n",
       "      <td>en</td>\n",
       "      <td>Confessions of a Dangerous Mind</td>\n",
       "      <td>Television made him famous, but his biggest hi...</td>\n",
       "      <td>7.645827</td>\n",
       "      <td>/o3Im9nPLAgtlw1j2LtpMebAotSe.jpg</td>\n",
       "      <td>...</td>\n",
       "      <td>[{'iso_3166_1': 'US', 'name': 'United States o...</td>\n",
       "      <td>2002-12-30</td>\n",
       "      <td>33013805.0</td>\n",
       "      <td>113.0</td>\n",
       "      <td>[{'iso_639_1': 'en', 'name': 'English'}]</td>\n",
       "      <td>Released</td>\n",
       "      <td>Confessions of a Dangerous Mind</td>\n",
       "      <td>False</td>\n",
       "      <td>6.6</td>\n",
       "      <td>281.0</td>\n",
       "    </tr>\n",
       "    <tr>\n",
       "      <th>5865</th>\n",
       "      <td>False</td>\n",
       "      <td>30000000</td>\n",
       "      <td>[{'id': 35, 'name': 'Comedy'}, {'id': 80, 'nam...</td>\n",
       "      <td>4912</td>\n",
       "      <td>tt0270288</td>\n",
       "      <td>en</td>\n",
       "      <td>Confessions of a Dangerous Mind</td>\n",
       "      <td>Television made him famous, but his biggest hi...</td>\n",
       "      <td>11.331072</td>\n",
       "      <td>/o3Im9nPLAgtlw1j2LtpMebAotSe.jpg</td>\n",
       "      <td>...</td>\n",
       "      <td>[{'iso_3166_1': 'US', 'name': 'United States o...</td>\n",
       "      <td>2002-12-30</td>\n",
       "      <td>33013805.0</td>\n",
       "      <td>113.0</td>\n",
       "      <td>[{'iso_639_1': 'en', 'name': 'English'}]</td>\n",
       "      <td>Released</td>\n",
       "      <td>Confessions of a Dangerous Mind</td>\n",
       "      <td>False</td>\n",
       "      <td>6.6</td>\n",
       "      <td>281.0</td>\n",
       "    </tr>\n",
       "    <tr>\n",
       "      <th>4114</th>\n",
       "      <td>False</td>\n",
       "      <td>16000000</td>\n",
       "      <td>[{'id': 12, 'name': 'Adventure'}, {'id': 14, '...</td>\n",
       "      <td>10991</td>\n",
       "      <td>tt0235679</td>\n",
       "      <td>ja</td>\n",
       "      <td>PokÃ©mon 3: The Movie</td>\n",
       "      <td>When Molly Hale's sadness of her father's disa...</td>\n",
       "      <td>10.264597</td>\n",
       "      <td>/5ILjS6XB5deiHop8SXPsYxXWVPE.jpg</td>\n",
       "      <td>...</td>\n",
       "      <td>[{'iso_3166_1': 'JP', 'name': 'Japan'}]</td>\n",
       "      <td>2000-07-08</td>\n",
       "      <td>68411275.0</td>\n",
       "      <td>93.0</td>\n",
       "      <td>[{'iso_639_1': 'en', 'name': 'English'}]</td>\n",
       "      <td>Released</td>\n",
       "      <td>PokÃ©mon: Spell of the Unknown</td>\n",
       "      <td>False</td>\n",
       "      <td>6.0</td>\n",
       "      <td>143.0</td>\n",
       "    </tr>\n",
       "    <tr>\n",
       "      <th>44821</th>\n",
       "      <td>False</td>\n",
       "      <td>16000000</td>\n",
       "      <td>[{'id': 12, 'name': 'Adventure'}, {'id': 14, '...</td>\n",
       "      <td>10991</td>\n",
       "      <td>tt0235679</td>\n",
       "      <td>ja</td>\n",
       "      <td>PokÃ©mon 3: The Movie</td>\n",
       "      <td>When Molly Hale's sadness of her father's disa...</td>\n",
       "      <td>6.480376</td>\n",
       "      <td>/5ILjS6XB5deiHop8SXPsYxXWVPE.jpg</td>\n",
       "      <td>...</td>\n",
       "      <td>[{'iso_3166_1': 'JP', 'name': 'Japan'}]</td>\n",
       "      <td>2000-07-08</td>\n",
       "      <td>68411275.0</td>\n",
       "      <td>93.0</td>\n",
       "      <td>[{'iso_639_1': 'en', 'name': 'English'}]</td>\n",
       "      <td>Released</td>\n",
       "      <td>PokÃ©mon: Spell of the Unknown</td>\n",
       "      <td>False</td>\n",
       "      <td>6.0</td>\n",
       "      <td>144.0</td>\n",
       "    </tr>\n",
       "    <tr>\n",
       "      <th>44826</th>\n",
       "      <td>False</td>\n",
       "      <td>0</td>\n",
       "      <td>[{'id': 12, 'name': 'Adventure'}, {'id': 14, '...</td>\n",
       "      <td>12600</td>\n",
       "      <td>tt0287635</td>\n",
       "      <td>ja</td>\n",
       "      <td>åŠ‡å ´ç‰ˆãƒ�ã‚±ãƒƒãƒˆãƒ¢ãƒ³ã‚¹ã‚¿ãƒ¼ ã‚»ãƒ¬ãƒ“...</td>\n",
       "      <td>All your favorite PokÃ©mon characters are back...</td>\n",
       "      <td>6.080108</td>\n",
       "      <td>/bqL0PVHbQ8Jmw3Njcl38kW0CoeM.jpg</td>\n",
       "      <td>...</td>\n",
       "      <td>[{'iso_3166_1': 'JP', 'name': 'Japan'}, {'iso_...</td>\n",
       "      <td>2001-07-06</td>\n",
       "      <td>28023563.0</td>\n",
       "      <td>75.0</td>\n",
       "      <td>[{'iso_639_1': 'ja', 'name': 'æ—¥æœ¬èªž'}]</td>\n",
       "      <td>Released</td>\n",
       "      <td>PokÃ©mon 4Ever: Celebi - Voice of the Forest</td>\n",
       "      <td>False</td>\n",
       "      <td>5.7</td>\n",
       "      <td>82.0</td>\n",
       "    </tr>\n",
       "    <tr>\n",
       "      <th>5535</th>\n",
       "      <td>False</td>\n",
       "      <td>0</td>\n",
       "      <td>[{'id': 12, 'name': 'Adventure'}, {'id': 14, '...</td>\n",
       "      <td>12600</td>\n",
       "      <td>tt0287635</td>\n",
       "      <td>ja</td>\n",
       "      <td>åŠ‡å ´ç‰ˆãƒ�ã‚±ãƒƒãƒˆãƒ¢ãƒ³ã‚¹ã‚¿ãƒ¼ ã‚»ãƒ¬ãƒ“...</td>\n",
       "      <td>All your favorite PokÃ©mon characters are back...</td>\n",
       "      <td>7.072301</td>\n",
       "      <td>/bqL0PVHbQ8Jmw3Njcl38kW0CoeM.jpg</td>\n",
       "      <td>...</td>\n",
       "      <td>[{'iso_3166_1': 'JP', 'name': 'Japan'}, {'iso_...</td>\n",
       "      <td>2001-07-06</td>\n",
       "      <td>28023563.0</td>\n",
       "      <td>75.0</td>\n",
       "      <td>[{'iso_639_1': 'ja', 'name': 'æ—¥æœ¬èªž'}]</td>\n",
       "      <td>Released</td>\n",
       "      <td>PokÃ©mon 4Ever: Celebi - Voice of the Forest</td>\n",
       "      <td>False</td>\n",
       "      <td>5.7</td>\n",
       "      <td>82.0</td>\n",
       "    </tr>\n",
       "    <tr>\n",
       "      <th>15765</th>\n",
       "      <td>False</td>\n",
       "      <td>2500</td>\n",
       "      <td>[{'id': 18, 'name': 'Drama'}, {'id': 35, 'name...</td>\n",
       "      <td>13209</td>\n",
       "      <td>tt0499537</td>\n",
       "      <td>fa</td>\n",
       "      <td>Offside</td>\n",
       "      <td>Since women are banned from soccer matches, Ir...</td>\n",
       "      <td>1.529879</td>\n",
       "      <td>/nfkOkpudNNIjRrf0mTFVoiGzHyc.jpg</td>\n",
       "      <td>...</td>\n",
       "      <td>[{'iso_3166_1': 'IR', 'name': 'Iran'}]</td>\n",
       "      <td>2006-05-26</td>\n",
       "      <td>0.0</td>\n",
       "      <td>93.0</td>\n",
       "      <td>[{'iso_639_1': 'fa', 'name': 'Ù�Ø§Ø±Ø³ÛŒ'}]</td>\n",
       "      <td>Released</td>\n",
       "      <td>Offside</td>\n",
       "      <td>False</td>\n",
       "      <td>6.7</td>\n",
       "      <td>27.0</td>\n",
       "    </tr>\n",
       "    <tr>\n",
       "      <th>11342</th>\n",
       "      <td>False</td>\n",
       "      <td>2500</td>\n",
       "      <td>[{'id': 18, 'name': 'Drama'}, {'id': 35, 'name...</td>\n",
       "      <td>13209</td>\n",
       "      <td>tt0499537</td>\n",
       "      <td>fa</td>\n",
       "      <td>Offside</td>\n",
       "      <td>Since women are banned from soccer matches, Ir...</td>\n",
       "      <td>1.52896</td>\n",
       "      <td>/nfkOkpudNNIjRrf0mTFVoiGzHyc.jpg</td>\n",
       "      <td>...</td>\n",
       "      <td>[{'iso_3166_1': 'IR', 'name': 'Iran'}]</td>\n",
       "      <td>2006-05-26</td>\n",
       "      <td>0.0</td>\n",
       "      <td>93.0</td>\n",
       "      <td>[{'iso_639_1': 'fa', 'name': 'Ù�Ø§Ø±Ø³ÛŒ'}]</td>\n",
       "      <td>Released</td>\n",
       "      <td>Offside</td>\n",
       "      <td>False</td>\n",
       "      <td>6.7</td>\n",
       "      <td>27.0</td>\n",
       "    </tr>\n",
       "    <tr>\n",
       "      <th>10419</th>\n",
       "      <td>False</td>\n",
       "      <td>1600000</td>\n",
       "      <td>[{'id': 18, 'name': 'Drama'}, {'id': 80, 'name...</td>\n",
       "      <td>14788</td>\n",
       "      <td>tt0454792</td>\n",
       "      <td>en</td>\n",
       "      <td>Bubble</td>\n",
       "      <td>Set against the backdrop of a decaying Midwest...</td>\n",
       "      <td>3.185256</td>\n",
       "      <td>/w56oo9nREcF54sNXVYuE9QxZFjT.jpg</td>\n",
       "      <td>...</td>\n",
       "      <td>[{'iso_3166_1': 'US', 'name': 'United States o...</td>\n",
       "      <td>2005-09-03</td>\n",
       "      <td>0.0</td>\n",
       "      <td>73.0</td>\n",
       "      <td>[{'iso_639_1': 'en', 'name': 'English'}]</td>\n",
       "      <td>Released</td>\n",
       "      <td>Bubble</td>\n",
       "      <td>False</td>\n",
       "      <td>6.4</td>\n",
       "      <td>36.0</td>\n",
       "    </tr>\n",
       "    <tr>\n",
       "      <th>12066</th>\n",
       "      <td>False</td>\n",
       "      <td>1600000</td>\n",
       "      <td>[{'id': 18, 'name': 'Drama'}, {'id': 80, 'name...</td>\n",
       "      <td>14788</td>\n",
       "      <td>tt0454792</td>\n",
       "      <td>en</td>\n",
       "      <td>Bubble</td>\n",
       "      <td>Set against the backdrop of a decaying Midwest...</td>\n",
       "      <td>3.008299</td>\n",
       "      <td>/w56oo9nREcF54sNXVYuE9QxZFjT.jpg</td>\n",
       "      <td>...</td>\n",
       "      <td>[{'iso_3166_1': 'US', 'name': 'United States o...</td>\n",
       "      <td>2005-09-03</td>\n",
       "      <td>0.0</td>\n",
       "      <td>73.0</td>\n",
       "      <td>[{'iso_639_1': 'en', 'name': 'English'}]</td>\n",
       "      <td>Released</td>\n",
       "      <td>Bubble</td>\n",
       "      <td>False</td>\n",
       "      <td>6.4</td>\n",
       "      <td>36.0</td>\n",
       "    </tr>\n",
       "    <tr>\n",
       "      <th>5130</th>\n",
       "      <td>False</td>\n",
       "      <td>26000000</td>\n",
       "      <td>[{'id': 12, 'name': 'Adventure'}, {'id': 10751...</td>\n",
       "      <td>15028</td>\n",
       "      <td>tt0157472</td>\n",
       "      <td>en</td>\n",
       "      <td>Clockstoppers</td>\n",
       "      <td>Until now, Zak Gibbs' greatest challenge has b...</td>\n",
       "      <td>5.373623</td>\n",
       "      <td>/xGhDPrBz9mJN8CsIjA23jQSd3sc.jpg</td>\n",
       "      <td>...</td>\n",
       "      <td>[{'iso_3166_1': 'US', 'name': 'United States o...</td>\n",
       "      <td>2002-03-17</td>\n",
       "      <td>38793283.0</td>\n",
       "      <td>94.0</td>\n",
       "      <td>[{'iso_639_1': 'cs', 'name': 'ÄŒeskÃ½'}, {'iso...</td>\n",
       "      <td>Released</td>\n",
       "      <td>Clockstoppers</td>\n",
       "      <td>False</td>\n",
       "      <td>4.9</td>\n",
       "      <td>89.0</td>\n",
       "    </tr>\n",
       "    <tr>\n",
       "      <th>33743</th>\n",
       "      <td>False</td>\n",
       "      <td>26000000</td>\n",
       "      <td>[{'id': 12, 'name': 'Adventure'}, {'id': 10751...</td>\n",
       "      <td>15028</td>\n",
       "      <td>tt0157472</td>\n",
       "      <td>en</td>\n",
       "      <td>Clockstoppers</td>\n",
       "      <td>Until now, Zak Gibbs' greatest challenge has b...</td>\n",
       "      <td>4.920175</td>\n",
       "      <td>/xGhDPrBz9mJN8CsIjA23jQSd3sc.jpg</td>\n",
       "      <td>...</td>\n",
       "      <td>[{'iso_3166_1': 'US', 'name': 'United States o...</td>\n",
       "      <td>2002-03-17</td>\n",
       "      <td>38793283.0</td>\n",
       "      <td>94.0</td>\n",
       "      <td>[{'iso_639_1': 'cs', 'name': 'ÄŒeskÃ½'}, {'iso...</td>\n",
       "      <td>Released</td>\n",
       "      <td>Clockstoppers</td>\n",
       "      <td>False</td>\n",
       "      <td>4.9</td>\n",
       "      <td>90.0</td>\n",
       "    </tr>\n",
       "    <tr>\n",
       "      <th>949</th>\n",
       "      <td>False</td>\n",
       "      <td>4</td>\n",
       "      <td>[{'id': 18, 'name': 'Drama'}, {'id': 10749, 'n...</td>\n",
       "      <td>22649</td>\n",
       "      <td>tt0022879</td>\n",
       "      <td>en</td>\n",
       "      <td>A Farewell to Arms</td>\n",
       "      <td>British nurse Catherine Barkley (Helen Hayes) ...</td>\n",
       "      <td>1.914697</td>\n",
       "      <td>/k0MF0IIbJ2PfOIku2KyraXL72d8.jpg</td>\n",
       "      <td>...</td>\n",
       "      <td>[{'iso_3166_1': 'US', 'name': 'United States o...</td>\n",
       "      <td>1932-12-08</td>\n",
       "      <td>25.0</td>\n",
       "      <td>89.0</td>\n",
       "      <td>[{'iso_639_1': 'en', 'name': 'English'}]</td>\n",
       "      <td>Released</td>\n",
       "      <td>A Farewell to Arms</td>\n",
       "      <td>False</td>\n",
       "      <td>6.2</td>\n",
       "      <td>29.0</td>\n",
       "    </tr>\n",
       "    <tr>\n",
       "      <th>15074</th>\n",
       "      <td>False</td>\n",
       "      <td>4</td>\n",
       "      <td>[{'id': 18, 'name': 'Drama'}, {'id': 10749, 'n...</td>\n",
       "      <td>22649</td>\n",
       "      <td>tt0022879</td>\n",
       "      <td>en</td>\n",
       "      <td>A Farewell to Arms</td>\n",
       "      <td>British nurse Catherine Barkley (Helen Hayes) ...</td>\n",
       "      <td>2.411191</td>\n",
       "      <td>/k0MF0IIbJ2PfOIku2KyraXL72d8.jpg</td>\n",
       "      <td>...</td>\n",
       "      <td>[{'iso_3166_1': 'US', 'name': 'United States o...</td>\n",
       "      <td>1932-12-08</td>\n",
       "      <td>25.0</td>\n",
       "      <td>89.0</td>\n",
       "      <td>[{'iso_639_1': 'en', 'name': 'English'}]</td>\n",
       "      <td>Released</td>\n",
       "      <td>A Farewell to Arms</td>\n",
       "      <td>False</td>\n",
       "      <td>6.2</td>\n",
       "      <td>29.0</td>\n",
       "    </tr>\n",
       "    <tr>\n",
       "      <th>9576</th>\n",
       "      <td>False</td>\n",
       "      <td>10000000</td>\n",
       "      <td>[{'id': 18, 'name': 'Drama'}, {'id': 27, 'name...</td>\n",
       "      <td>69234</td>\n",
       "      <td>tt0100361</td>\n",
       "      <td>en</td>\n",
       "      <td>The Phantom of the Opera</td>\n",
       "      <td>Count de Chagnie has discovered Christine's si...</td>\n",
       "      <td>0.441872</td>\n",
       "      <td>/ole8e9YQwvHoKVpWO0lgfLFFemc.jpg</td>\n",
       "      <td>...</td>\n",
       "      <td>[{'iso_3166_1': 'FR', 'name': 'France'}, {'iso...</td>\n",
       "      <td>1990-03-18</td>\n",
       "      <td>0.0</td>\n",
       "      <td>168.0</td>\n",
       "      <td>[{'iso_639_1': 'en', 'name': 'English'}, {'iso...</td>\n",
       "      <td>Released</td>\n",
       "      <td>The Phantom of the Opera</td>\n",
       "      <td>False</td>\n",
       "      <td>5.0</td>\n",
       "      <td>3.0</td>\n",
       "    </tr>\n",
       "    <tr>\n",
       "      <th>26625</th>\n",
       "      <td>False</td>\n",
       "      <td>10000000</td>\n",
       "      <td>[{'id': 18, 'name': 'Drama'}, {'id': 27, 'name...</td>\n",
       "      <td>69234</td>\n",
       "      <td>tt0100361</td>\n",
       "      <td>en</td>\n",
       "      <td>The Phantom of the Opera</td>\n",
       "      <td>Count de Chagnie has discovered Christine's si...</td>\n",
       "      <td>0.43849</td>\n",
       "      <td>/ole8e9YQwvHoKVpWO0lgfLFFemc.jpg</td>\n",
       "      <td>...</td>\n",
       "      <td>[{'iso_3166_1': 'FR', 'name': 'France'}, {'iso...</td>\n",
       "      <td>1990-03-18</td>\n",
       "      <td>0.0</td>\n",
       "      <td>168.0</td>\n",
       "      <td>[{'iso_639_1': 'en', 'name': 'English'}, {'iso...</td>\n",
       "      <td>Released</td>\n",
       "      <td>The Phantom of the Opera</td>\n",
       "      <td>False</td>\n",
       "      <td>5.0</td>\n",
       "      <td>3.0</td>\n",
       "    </tr>\n",
       "    <tr>\n",
       "      <th>20843</th>\n",
       "      <td>False</td>\n",
       "      <td>40000000</td>\n",
       "      <td>[{'id': 12, 'name': 'Adventure'}, {'id': 18, '...</td>\n",
       "      <td>77221</td>\n",
       "      <td>tt1701210</td>\n",
       "      <td>en</td>\n",
       "      <td>Black Gold</td>\n",
       "      <td>On the Arabian Peninsula in the 1930s, two war...</td>\n",
       "      <td>6.475665</td>\n",
       "      <td>/iQd7zWhSeCe3cgdPcLIDXjGfdzL.jpg</td>\n",
       "      <td>...</td>\n",
       "      <td>[{'iso_3166_1': 'FR', 'name': 'France'}, {'iso...</td>\n",
       "      <td>2011-12-21</td>\n",
       "      <td>5446000.0</td>\n",
       "      <td>130.0</td>\n",
       "      <td>[{'iso_639_1': 'en', 'name': 'English'}]</td>\n",
       "      <td>Released</td>\n",
       "      <td>Black Gold</td>\n",
       "      <td>False</td>\n",
       "      <td>5.9</td>\n",
       "      <td>77.0</td>\n",
       "    </tr>\n",
       "    <tr>\n",
       "      <th>11155</th>\n",
       "      <td>False</td>\n",
       "      <td>40000000</td>\n",
       "      <td>[{'id': 12, 'name': 'Adventure'}, {'id': 18, '...</td>\n",
       "      <td>77221</td>\n",
       "      <td>tt1701210</td>\n",
       "      <td>en</td>\n",
       "      <td>Black Gold</td>\n",
       "      <td>On the Arabian Peninsula in the 1930s, two war...</td>\n",
       "      <td>6.652197</td>\n",
       "      <td>/iQd7zWhSeCe3cgdPcLIDXjGfdzL.jpg</td>\n",
       "      <td>...</td>\n",
       "      <td>[{'iso_3166_1': 'FR', 'name': 'France'}, {'iso...</td>\n",
       "      <td>2011-12-21</td>\n",
       "      <td>5446000.0</td>\n",
       "      <td>130.0</td>\n",
       "      <td>[{'iso_639_1': 'en', 'name': 'English'}]</td>\n",
       "      <td>Released</td>\n",
       "      <td>Black Gold</td>\n",
       "      <td>False</td>\n",
       "      <td>5.9</td>\n",
       "      <td>77.0</td>\n",
       "    </tr>\n",
       "    <tr>\n",
       "      <th>21116</th>\n",
       "      <td>False</td>\n",
       "      <td>0</td>\n",
       "      <td>[{'id': 99, 'name': 'Documentary'}]</td>\n",
       "      <td>84198</td>\n",
       "      <td>tt1736049</td>\n",
       "      <td>en</td>\n",
       "      <td>A Place at the Table</td>\n",
       "      <td>Using personal stories, this powerful document...</td>\n",
       "      <td>1.673307</td>\n",
       "      <td>/jn8L1QdWWX5c0NUOLjzaSXtZrbt.jpg</td>\n",
       "      <td>...</td>\n",
       "      <td>[{'iso_3166_1': 'US', 'name': 'United States o...</td>\n",
       "      <td>2012-03-22</td>\n",
       "      <td>0.0</td>\n",
       "      <td>84.0</td>\n",
       "      <td>[{'iso_639_1': 'en', 'name': 'English'}]</td>\n",
       "      <td>Released</td>\n",
       "      <td>A Place at the Table</td>\n",
       "      <td>False</td>\n",
       "      <td>6.9</td>\n",
       "      <td>7.0</td>\n",
       "    </tr>\n",
       "    <tr>\n",
       "      <th>2564</th>\n",
       "      <td>False</td>\n",
       "      <td>0</td>\n",
       "      <td>[{'id': 99, 'name': 'Documentary'}]</td>\n",
       "      <td>84198</td>\n",
       "      <td>tt1736049</td>\n",
       "      <td>en</td>\n",
       "      <td>A Place at the Table</td>\n",
       "      <td>Using personal stories, this powerful document...</td>\n",
       "      <td>0.501046</td>\n",
       "      <td>/jn8L1QdWWX5c0NUOLjzaSXtZrbt.jpg</td>\n",
       "      <td>...</td>\n",
       "      <td>[{'iso_3166_1': 'US', 'name': 'United States o...</td>\n",
       "      <td>2012-03-22</td>\n",
       "      <td>0.0</td>\n",
       "      <td>84.0</td>\n",
       "      <td>[{'iso_639_1': 'en', 'name': 'English'}]</td>\n",
       "      <td>Released</td>\n",
       "      <td>A Place at the Table</td>\n",
       "      <td>False</td>\n",
       "      <td>6.9</td>\n",
       "      <td>7.0</td>\n",
       "    </tr>\n",
       "    <tr>\n",
       "      <th>20899</th>\n",
       "      <td>False</td>\n",
       "      <td>0</td>\n",
       "      <td>[{'id': 18, 'name': 'Drama'}]</td>\n",
       "      <td>109962</td>\n",
       "      <td>tt0082992</td>\n",
       "      <td>en</td>\n",
       "      <td>Rich and Famous</td>\n",
       "      <td>Two literary women compete for 20 years: one w...</td>\n",
       "      <td>10.396878</td>\n",
       "      <td>/tOflyY8eUFWubLKJH7fKg4KwpCl.jpg</td>\n",
       "      <td>...</td>\n",
       "      <td>[{'iso_3166_1': 'US', 'name': 'United States o...</td>\n",
       "      <td>1981-09-23</td>\n",
       "      <td>0.0</td>\n",
       "      <td>115.0</td>\n",
       "      <td>[{'iso_639_1': 'en', 'name': 'English'}]</td>\n",
       "      <td>Released</td>\n",
       "      <td>Rich and Famous</td>\n",
       "      <td>False</td>\n",
       "      <td>4.9</td>\n",
       "      <td>7.0</td>\n",
       "    </tr>\n",
       "    <tr>\n",
       "      <th>5710</th>\n",
       "      <td>False</td>\n",
       "      <td>0</td>\n",
       "      <td>[{'id': 18, 'name': 'Drama'}]</td>\n",
       "      <td>109962</td>\n",
       "      <td>tt0082992</td>\n",
       "      <td>en</td>\n",
       "      <td>Rich and Famous</td>\n",
       "      <td>Two literary women compete for 20 years: one w...</td>\n",
       "      <td>12.180836</td>\n",
       "      <td>/tOflyY8eUFWubLKJH7fKg4KwpCl.jpg</td>\n",
       "      <td>...</td>\n",
       "      <td>[{'iso_3166_1': 'US', 'name': 'United States o...</td>\n",
       "      <td>1981-09-23</td>\n",
       "      <td>0.0</td>\n",
       "      <td>115.0</td>\n",
       "      <td>[{'iso_639_1': 'en', 'name': 'English'}]</td>\n",
       "      <td>Released</td>\n",
       "      <td>Rich and Famous</td>\n",
       "      <td>False</td>\n",
       "      <td>4.9</td>\n",
       "      <td>7.0</td>\n",
       "    </tr>\n",
       "    <tr>\n",
       "      <th>23534</th>\n",
       "      <td>False</td>\n",
       "      <td>3512454</td>\n",
       "      <td>[{'id': 18, 'name': 'Drama'}]</td>\n",
       "      <td>110428</td>\n",
       "      <td>tt2018086</td>\n",
       "      <td>fr</td>\n",
       "      <td>Camille Claudel 1915</td>\n",
       "      <td>Winter, 1915. Confined by her family to an asy...</td>\n",
       "      <td>0.110065</td>\n",
       "      <td>/sGMPDg6je1zKi0TiX9b4pP6yN02.jpg</td>\n",
       "      <td>...</td>\n",
       "      <td>[{'iso_3166_1': 'FR', 'name': 'France'}]</td>\n",
       "      <td>2013-03-13</td>\n",
       "      <td>115860.0</td>\n",
       "      <td>95.0</td>\n",
       "      <td>[{'iso_639_1': 'fr', 'name': 'FranÃ§ais'}]</td>\n",
       "      <td>Released</td>\n",
       "      <td>Camille Claudel 1915</td>\n",
       "      <td>False</td>\n",
       "      <td>7.0</td>\n",
       "      <td>20.0</td>\n",
       "    </tr>\n",
       "    <tr>\n",
       "      <th>4356</th>\n",
       "      <td>False</td>\n",
       "      <td>3512454</td>\n",
       "      <td>[{'id': 18, 'name': 'Drama'}]</td>\n",
       "      <td>110428</td>\n",
       "      <td>tt2018086</td>\n",
       "      <td>fr</td>\n",
       "      <td>Camille Claudel 1915</td>\n",
       "      <td>Winter, 1915. Confined by her family to an asy...</td>\n",
       "      <td>0.134014</td>\n",
       "      <td>/sGMPDg6je1zKi0TiX9b4pP6yN02.jpg</td>\n",
       "      <td>...</td>\n",
       "      <td>[{'iso_3166_1': 'FR', 'name': 'France'}]</td>\n",
       "      <td>2013-03-13</td>\n",
       "      <td>115860.0</td>\n",
       "      <td>95.0</td>\n",
       "      <td>[{'iso_639_1': 'fr', 'name': 'FranÃ§ais'}]</td>\n",
       "      <td>Released</td>\n",
       "      <td>Camille Claudel 1915</td>\n",
       "      <td>False</td>\n",
       "      <td>7.0</td>\n",
       "      <td>20.0</td>\n",
       "    </tr>\n",
       "    <tr>\n",
       "      <th>30001</th>\n",
       "      <td>False</td>\n",
       "      <td>0</td>\n",
       "      <td>[{'id': 18, 'name': 'Drama'}]</td>\n",
       "      <td>132641</td>\n",
       "      <td>tt0046468</td>\n",
       "      <td>ja</td>\n",
       "      <td>Tsuma</td>\n",
       "      <td>Ten years into a marriage, the wife is disappo...</td>\n",
       "      <td>0.619388</td>\n",
       "      <td>/z9WiHt5uQjs8L8tyBpRBKzlheF2.jpg</td>\n",
       "      <td>...</td>\n",
       "      <td>[{'iso_3166_1': 'JP', 'name': 'Japan'}]</td>\n",
       "      <td>1953-04-29</td>\n",
       "      <td>0.0</td>\n",
       "      <td>89.0</td>\n",
       "      <td>[{'iso_639_1': 'ja', 'name': 'æ—¥æœ¬èªž'}]</td>\n",
       "      <td>Released</td>\n",
       "      <td>Wife</td>\n",
       "      <td>False</td>\n",
       "      <td>0.0</td>\n",
       "      <td>0.0</td>\n",
       "    </tr>\n",
       "    <tr>\n",
       "      <th>838</th>\n",
       "      <td>False</td>\n",
       "      <td>0</td>\n",
       "      <td>[{'id': 18, 'name': 'Drama'}]</td>\n",
       "      <td>132641</td>\n",
       "      <td>tt0046468</td>\n",
       "      <td>ja</td>\n",
       "      <td>Tsuma</td>\n",
       "      <td>Ten years into a marriage, the wife is disappo...</td>\n",
       "      <td>0.096079</td>\n",
       "      <td>/z9WiHt5uQjs8L8tyBpRBKzlheF2.jpg</td>\n",
       "      <td>...</td>\n",
       "      <td>[{'iso_3166_1': 'JP', 'name': 'Japan'}]</td>\n",
       "      <td>1953-04-29</td>\n",
       "      <td>0.0</td>\n",
       "      <td>89.0</td>\n",
       "      <td>[{'iso_639_1': 'ja', 'name': 'æ—¥æœ¬èªž'}]</td>\n",
       "      <td>Released</td>\n",
       "      <td>Wife</td>\n",
       "      <td>False</td>\n",
       "      <td>0.0</td>\n",
       "      <td>0.0</td>\n",
       "    </tr>\n",
       "  </tbody>\n",
       "</table>\n",
       "<p>26 rows × 21 columns</p>\n",
       "</div>"
      ],
      "text/plain": [
       "       adult    budget                                             genres  \\\n",
       "33826  False  30000000  [{'id': 35, 'name': 'Comedy'}, {'id': 80, 'nam...   \n",
       "5865   False  30000000  [{'id': 35, 'name': 'Comedy'}, {'id': 80, 'nam...   \n",
       "4114   False  16000000  [{'id': 12, 'name': 'Adventure'}, {'id': 14, '...   \n",
       "44821  False  16000000  [{'id': 12, 'name': 'Adventure'}, {'id': 14, '...   \n",
       "44826  False         0  [{'id': 12, 'name': 'Adventure'}, {'id': 14, '...   \n",
       "5535   False         0  [{'id': 12, 'name': 'Adventure'}, {'id': 14, '...   \n",
       "15765  False      2500  [{'id': 18, 'name': 'Drama'}, {'id': 35, 'name...   \n",
       "11342  False      2500  [{'id': 18, 'name': 'Drama'}, {'id': 35, 'name...   \n",
       "10419  False   1600000  [{'id': 18, 'name': 'Drama'}, {'id': 80, 'name...   \n",
       "12066  False   1600000  [{'id': 18, 'name': 'Drama'}, {'id': 80, 'name...   \n",
       "5130   False  26000000  [{'id': 12, 'name': 'Adventure'}, {'id': 10751...   \n",
       "33743  False  26000000  [{'id': 12, 'name': 'Adventure'}, {'id': 10751...   \n",
       "949    False         4  [{'id': 18, 'name': 'Drama'}, {'id': 10749, 'n...   \n",
       "15074  False         4  [{'id': 18, 'name': 'Drama'}, {'id': 10749, 'n...   \n",
       "9576   False  10000000  [{'id': 18, 'name': 'Drama'}, {'id': 27, 'name...   \n",
       "26625  False  10000000  [{'id': 18, 'name': 'Drama'}, {'id': 27, 'name...   \n",
       "20843  False  40000000  [{'id': 12, 'name': 'Adventure'}, {'id': 18, '...   \n",
       "11155  False  40000000  [{'id': 12, 'name': 'Adventure'}, {'id': 18, '...   \n",
       "21116  False         0                [{'id': 99, 'name': 'Documentary'}]   \n",
       "2564   False         0                [{'id': 99, 'name': 'Documentary'}]   \n",
       "20899  False         0                      [{'id': 18, 'name': 'Drama'}]   \n",
       "5710   False         0                      [{'id': 18, 'name': 'Drama'}]   \n",
       "23534  False   3512454                      [{'id': 18, 'name': 'Drama'}]   \n",
       "4356   False   3512454                      [{'id': 18, 'name': 'Drama'}]   \n",
       "30001  False         0                      [{'id': 18, 'name': 'Drama'}]   \n",
       "838    False         0                      [{'id': 18, 'name': 'Drama'}]   \n",
       "\n",
       "           id    imdb_id original_language  \\\n",
       "33826    4912  tt0270288                en   \n",
       "5865     4912  tt0270288                en   \n",
       "4114    10991  tt0235679                ja   \n",
       "44821   10991  tt0235679                ja   \n",
       "44826   12600  tt0287635                ja   \n",
       "5535    12600  tt0287635                ja   \n",
       "15765   13209  tt0499537                fa   \n",
       "11342   13209  tt0499537                fa   \n",
       "10419   14788  tt0454792                en   \n",
       "12066   14788  tt0454792                en   \n",
       "5130    15028  tt0157472                en   \n",
       "33743   15028  tt0157472                en   \n",
       "949     22649  tt0022879                en   \n",
       "15074   22649  tt0022879                en   \n",
       "9576    69234  tt0100361                en   \n",
       "26625   69234  tt0100361                en   \n",
       "20843   77221  tt1701210                en   \n",
       "11155   77221  tt1701210                en   \n",
       "21116   84198  tt1736049                en   \n",
       "2564    84198  tt1736049                en   \n",
       "20899  109962  tt0082992                en   \n",
       "5710   109962  tt0082992                en   \n",
       "23534  110428  tt2018086                fr   \n",
       "4356   110428  tt2018086                fr   \n",
       "30001  132641  tt0046468                ja   \n",
       "838    132641  tt0046468                ja   \n",
       "\n",
       "                                          original_title  \\\n",
       "33826                    Confessions of a Dangerous Mind   \n",
       "5865                     Confessions of a Dangerous Mind   \n",
       "4114                               PokÃ©mon 3: The Movie   \n",
       "44821                              PokÃ©mon 3: The Movie   \n",
       "44826  åŠ‡å ´ç‰ˆãƒ�ã‚±ãƒƒãƒˆãƒ¢ãƒ³ã‚¹ã‚¿ãƒ¼ ã‚»ãƒ¬ãƒ“...   \n",
       "5535   åŠ‡å ´ç‰ˆãƒ�ã‚±ãƒƒãƒˆãƒ¢ãƒ³ã‚¹ã‚¿ãƒ¼ ã‚»ãƒ¬ãƒ“...   \n",
       "15765                                            Offside   \n",
       "11342                                            Offside   \n",
       "10419                                             Bubble   \n",
       "12066                                             Bubble   \n",
       "5130                                       Clockstoppers   \n",
       "33743                                      Clockstoppers   \n",
       "949                                   A Farewell to Arms   \n",
       "15074                                 A Farewell to Arms   \n",
       "9576                            The Phantom of the Opera   \n",
       "26625                           The Phantom of the Opera   \n",
       "20843                                         Black Gold   \n",
       "11155                                         Black Gold   \n",
       "21116                               A Place at the Table   \n",
       "2564                                A Place at the Table   \n",
       "20899                                    Rich and Famous   \n",
       "5710                                     Rich and Famous   \n",
       "23534                               Camille Claudel 1915   \n",
       "4356                                Camille Claudel 1915   \n",
       "30001                                              Tsuma   \n",
       "838                                                Tsuma   \n",
       "\n",
       "                                                overview popularity  \\\n",
       "33826  Television made him famous, but his biggest hi...   7.645827   \n",
       "5865   Television made him famous, but his biggest hi...  11.331072   \n",
       "4114   When Molly Hale's sadness of her father's disa...  10.264597   \n",
       "44821  When Molly Hale's sadness of her father's disa...   6.480376   \n",
       "44826  All your favorite PokÃ©mon characters are back...   6.080108   \n",
       "5535   All your favorite PokÃ©mon characters are back...   7.072301   \n",
       "15765  Since women are banned from soccer matches, Ir...   1.529879   \n",
       "11342  Since women are banned from soccer matches, Ir...    1.52896   \n",
       "10419  Set against the backdrop of a decaying Midwest...   3.185256   \n",
       "12066  Set against the backdrop of a decaying Midwest...   3.008299   \n",
       "5130   Until now, Zak Gibbs' greatest challenge has b...   5.373623   \n",
       "33743  Until now, Zak Gibbs' greatest challenge has b...   4.920175   \n",
       "949    British nurse Catherine Barkley (Helen Hayes) ...   1.914697   \n",
       "15074  British nurse Catherine Barkley (Helen Hayes) ...   2.411191   \n",
       "9576   Count de Chagnie has discovered Christine's si...   0.441872   \n",
       "26625  Count de Chagnie has discovered Christine's si...    0.43849   \n",
       "20843  On the Arabian Peninsula in the 1930s, two war...   6.475665   \n",
       "11155  On the Arabian Peninsula in the 1930s, two war...   6.652197   \n",
       "21116  Using personal stories, this powerful document...   1.673307   \n",
       "2564   Using personal stories, this powerful document...   0.501046   \n",
       "20899  Two literary women compete for 20 years: one w...  10.396878   \n",
       "5710   Two literary women compete for 20 years: one w...  12.180836   \n",
       "23534  Winter, 1915. Confined by her family to an asy...   0.110065   \n",
       "4356   Winter, 1915. Confined by her family to an asy...   0.134014   \n",
       "30001  Ten years into a marriage, the wife is disappo...   0.619388   \n",
       "838    Ten years into a marriage, the wife is disappo...   0.096079   \n",
       "\n",
       "                            poster_path  ...  \\\n",
       "33826  /o3Im9nPLAgtlw1j2LtpMebAotSe.jpg  ...   \n",
       "5865   /o3Im9nPLAgtlw1j2LtpMebAotSe.jpg  ...   \n",
       "4114   /5ILjS6XB5deiHop8SXPsYxXWVPE.jpg  ...   \n",
       "44821  /5ILjS6XB5deiHop8SXPsYxXWVPE.jpg  ...   \n",
       "44826  /bqL0PVHbQ8Jmw3Njcl38kW0CoeM.jpg  ...   \n",
       "5535   /bqL0PVHbQ8Jmw3Njcl38kW0CoeM.jpg  ...   \n",
       "15765  /nfkOkpudNNIjRrf0mTFVoiGzHyc.jpg  ...   \n",
       "11342  /nfkOkpudNNIjRrf0mTFVoiGzHyc.jpg  ...   \n",
       "10419  /w56oo9nREcF54sNXVYuE9QxZFjT.jpg  ...   \n",
       "12066  /w56oo9nREcF54sNXVYuE9QxZFjT.jpg  ...   \n",
       "5130   /xGhDPrBz9mJN8CsIjA23jQSd3sc.jpg  ...   \n",
       "33743  /xGhDPrBz9mJN8CsIjA23jQSd3sc.jpg  ...   \n",
       "949    /k0MF0IIbJ2PfOIku2KyraXL72d8.jpg  ...   \n",
       "15074  /k0MF0IIbJ2PfOIku2KyraXL72d8.jpg  ...   \n",
       "9576   /ole8e9YQwvHoKVpWO0lgfLFFemc.jpg  ...   \n",
       "26625  /ole8e9YQwvHoKVpWO0lgfLFFemc.jpg  ...   \n",
       "20843  /iQd7zWhSeCe3cgdPcLIDXjGfdzL.jpg  ...   \n",
       "11155  /iQd7zWhSeCe3cgdPcLIDXjGfdzL.jpg  ...   \n",
       "21116  /jn8L1QdWWX5c0NUOLjzaSXtZrbt.jpg  ...   \n",
       "2564   /jn8L1QdWWX5c0NUOLjzaSXtZrbt.jpg  ...   \n",
       "20899  /tOflyY8eUFWubLKJH7fKg4KwpCl.jpg  ...   \n",
       "5710   /tOflyY8eUFWubLKJH7fKg4KwpCl.jpg  ...   \n",
       "23534  /sGMPDg6je1zKi0TiX9b4pP6yN02.jpg  ...   \n",
       "4356   /sGMPDg6je1zKi0TiX9b4pP6yN02.jpg  ...   \n",
       "30001  /z9WiHt5uQjs8L8tyBpRBKzlheF2.jpg  ...   \n",
       "838    /z9WiHt5uQjs8L8tyBpRBKzlheF2.jpg  ...   \n",
       "\n",
       "                                    production_countries release_date  \\\n",
       "33826  [{'iso_3166_1': 'US', 'name': 'United States o...   2002-12-30   \n",
       "5865   [{'iso_3166_1': 'US', 'name': 'United States o...   2002-12-30   \n",
       "4114             [{'iso_3166_1': 'JP', 'name': 'Japan'}]   2000-07-08   \n",
       "44821            [{'iso_3166_1': 'JP', 'name': 'Japan'}]   2000-07-08   \n",
       "44826  [{'iso_3166_1': 'JP', 'name': 'Japan'}, {'iso_...   2001-07-06   \n",
       "5535   [{'iso_3166_1': 'JP', 'name': 'Japan'}, {'iso_...   2001-07-06   \n",
       "15765             [{'iso_3166_1': 'IR', 'name': 'Iran'}]   2006-05-26   \n",
       "11342             [{'iso_3166_1': 'IR', 'name': 'Iran'}]   2006-05-26   \n",
       "10419  [{'iso_3166_1': 'US', 'name': 'United States o...   2005-09-03   \n",
       "12066  [{'iso_3166_1': 'US', 'name': 'United States o...   2005-09-03   \n",
       "5130   [{'iso_3166_1': 'US', 'name': 'United States o...   2002-03-17   \n",
       "33743  [{'iso_3166_1': 'US', 'name': 'United States o...   2002-03-17   \n",
       "949    [{'iso_3166_1': 'US', 'name': 'United States o...   1932-12-08   \n",
       "15074  [{'iso_3166_1': 'US', 'name': 'United States o...   1932-12-08   \n",
       "9576   [{'iso_3166_1': 'FR', 'name': 'France'}, {'iso...   1990-03-18   \n",
       "26625  [{'iso_3166_1': 'FR', 'name': 'France'}, {'iso...   1990-03-18   \n",
       "20843  [{'iso_3166_1': 'FR', 'name': 'France'}, {'iso...   2011-12-21   \n",
       "11155  [{'iso_3166_1': 'FR', 'name': 'France'}, {'iso...   2011-12-21   \n",
       "21116  [{'iso_3166_1': 'US', 'name': 'United States o...   2012-03-22   \n",
       "2564   [{'iso_3166_1': 'US', 'name': 'United States o...   2012-03-22   \n",
       "20899  [{'iso_3166_1': 'US', 'name': 'United States o...   1981-09-23   \n",
       "5710   [{'iso_3166_1': 'US', 'name': 'United States o...   1981-09-23   \n",
       "23534           [{'iso_3166_1': 'FR', 'name': 'France'}]   2013-03-13   \n",
       "4356            [{'iso_3166_1': 'FR', 'name': 'France'}]   2013-03-13   \n",
       "30001            [{'iso_3166_1': 'JP', 'name': 'Japan'}]   1953-04-29   \n",
       "838              [{'iso_3166_1': 'JP', 'name': 'Japan'}]   1953-04-29   \n",
       "\n",
       "          revenue  runtime                                   spoken_languages  \\\n",
       "33826  33013805.0    113.0           [{'iso_639_1': 'en', 'name': 'English'}]   \n",
       "5865   33013805.0    113.0           [{'iso_639_1': 'en', 'name': 'English'}]   \n",
       "4114   68411275.0     93.0           [{'iso_639_1': 'en', 'name': 'English'}]   \n",
       "44821  68411275.0     93.0           [{'iso_639_1': 'en', 'name': 'English'}]   \n",
       "44826  28023563.0     75.0         [{'iso_639_1': 'ja', 'name': 'æ—¥æœ¬èªž'}]   \n",
       "5535   28023563.0     75.0         [{'iso_639_1': 'ja', 'name': 'æ—¥æœ¬èªž'}]   \n",
       "15765         0.0     93.0        [{'iso_639_1': 'fa', 'name': 'Ù�Ø§Ø±Ø³ÛŒ'}]   \n",
       "11342         0.0     93.0        [{'iso_639_1': 'fa', 'name': 'Ù�Ø§Ø±Ø³ÛŒ'}]   \n",
       "10419         0.0     73.0           [{'iso_639_1': 'en', 'name': 'English'}]   \n",
       "12066         0.0     73.0           [{'iso_639_1': 'en', 'name': 'English'}]   \n",
       "5130   38793283.0     94.0  [{'iso_639_1': 'cs', 'name': 'ÄŒeskÃ½'}, {'iso...   \n",
       "33743  38793283.0     94.0  [{'iso_639_1': 'cs', 'name': 'ÄŒeskÃ½'}, {'iso...   \n",
       "949          25.0     89.0           [{'iso_639_1': 'en', 'name': 'English'}]   \n",
       "15074        25.0     89.0           [{'iso_639_1': 'en', 'name': 'English'}]   \n",
       "9576          0.0    168.0  [{'iso_639_1': 'en', 'name': 'English'}, {'iso...   \n",
       "26625         0.0    168.0  [{'iso_639_1': 'en', 'name': 'English'}, {'iso...   \n",
       "20843   5446000.0    130.0           [{'iso_639_1': 'en', 'name': 'English'}]   \n",
       "11155   5446000.0    130.0           [{'iso_639_1': 'en', 'name': 'English'}]   \n",
       "21116         0.0     84.0           [{'iso_639_1': 'en', 'name': 'English'}]   \n",
       "2564          0.0     84.0           [{'iso_639_1': 'en', 'name': 'English'}]   \n",
       "20899         0.0    115.0           [{'iso_639_1': 'en', 'name': 'English'}]   \n",
       "5710          0.0    115.0           [{'iso_639_1': 'en', 'name': 'English'}]   \n",
       "23534    115860.0     95.0         [{'iso_639_1': 'fr', 'name': 'FranÃ§ais'}]   \n",
       "4356     115860.0     95.0         [{'iso_639_1': 'fr', 'name': 'FranÃ§ais'}]   \n",
       "30001         0.0     89.0         [{'iso_639_1': 'ja', 'name': 'æ—¥æœ¬èªž'}]   \n",
       "838           0.0     89.0         [{'iso_639_1': 'ja', 'name': 'æ—¥æœ¬èªž'}]   \n",
       "\n",
       "         status                                         title  video  \\\n",
       "33826  Released               Confessions of a Dangerous Mind  False   \n",
       "5865   Released               Confessions of a Dangerous Mind  False   \n",
       "4114   Released                PokÃ©mon: Spell of the Unknown  False   \n",
       "44821  Released                PokÃ©mon: Spell of the Unknown  False   \n",
       "44826  Released  PokÃ©mon 4Ever: Celebi - Voice of the Forest  False   \n",
       "5535   Released  PokÃ©mon 4Ever: Celebi - Voice of the Forest  False   \n",
       "15765  Released                                       Offside  False   \n",
       "11342  Released                                       Offside  False   \n",
       "10419  Released                                        Bubble  False   \n",
       "12066  Released                                        Bubble  False   \n",
       "5130   Released                                 Clockstoppers  False   \n",
       "33743  Released                                 Clockstoppers  False   \n",
       "949    Released                            A Farewell to Arms  False   \n",
       "15074  Released                            A Farewell to Arms  False   \n",
       "9576   Released                      The Phantom of the Opera  False   \n",
       "26625  Released                      The Phantom of the Opera  False   \n",
       "20843  Released                                    Black Gold  False   \n",
       "11155  Released                                    Black Gold  False   \n",
       "21116  Released                          A Place at the Table  False   \n",
       "2564   Released                          A Place at the Table  False   \n",
       "20899  Released                               Rich and Famous  False   \n",
       "5710   Released                               Rich and Famous  False   \n",
       "23534  Released                          Camille Claudel 1915  False   \n",
       "4356   Released                          Camille Claudel 1915  False   \n",
       "30001  Released                                          Wife  False   \n",
       "838    Released                                          Wife  False   \n",
       "\n",
       "      vote_average  vote_count  \n",
       "33826          6.6       281.0  \n",
       "5865           6.6       281.0  \n",
       "4114           6.0       143.0  \n",
       "44821          6.0       144.0  \n",
       "44826          5.7        82.0  \n",
       "5535           5.7        82.0  \n",
       "15765          6.7        27.0  \n",
       "11342          6.7        27.0  \n",
       "10419          6.4        36.0  \n",
       "12066          6.4        36.0  \n",
       "5130           4.9        89.0  \n",
       "33743          4.9        90.0  \n",
       "949            6.2        29.0  \n",
       "15074          6.2        29.0  \n",
       "9576           5.0         3.0  \n",
       "26625          5.0         3.0  \n",
       "20843          5.9        77.0  \n",
       "11155          5.9        77.0  \n",
       "21116          6.9         7.0  \n",
       "2564           6.9         7.0  \n",
       "20899          4.9         7.0  \n",
       "5710           4.9         7.0  \n",
       "23534          7.0        20.0  \n",
       "4356           7.0        20.0  \n",
       "30001          0.0         0.0  \n",
       "838            0.0         0.0  \n",
       "\n",
       "[26 rows x 21 columns]"
      ]
     },
     "execution_count": 19,
     "metadata": {},
     "output_type": "execute_result"
    }
   ],
   "source": [
    "duplicate = movie_metadata_df[movie_metadata_df.id.isin(duplicate_id)]\n",
    "duplicate = duplicate.sort_values(by = ['id'])\n",
    "duplicate"
   ]
  },
  {
   "cell_type": "markdown",
   "metadata": {},
   "source": [
    "Visual analysis shows these are actual duplicates, hence we can remove these duplicates and retain only first occurrences."
   ]
  },
  {
   "cell_type": "code",
   "execution_count": 20,
   "metadata": {},
   "outputs": [
    {
     "name": "stdout",
     "output_type": "stream",
     "text": [
      "Shape of movie data set is : (44985, 21)\n",
      "Number of unique ids : 44985\n"
     ]
    }
   ],
   "source": [
    "movie_metadata_df = movie_metadata_df.drop_duplicates(subset=['id'])\n",
    "print(\"Shape of movie data set is :\", movie_metadata_df.shape)\n",
    "print(\"Number of unique ids :\", len(movie_metadata_df))"
   ]
  },
  {
   "cell_type": "code",
   "execution_count": 21,
   "metadata": {},
   "outputs": [
    {
     "data": {
      "text/plain": [
       "adult                   0.00\n",
       "budget                  0.00\n",
       "genres                  0.00\n",
       "id                      0.00\n",
       "imdb_id                 0.03\n",
       "original_language       0.02\n",
       "original_title          0.00\n",
       "overview                2.05\n",
       "popularity              0.00\n",
       "poster_path             0.83\n",
       "production_companies    0.00\n",
       "production_countries    0.00\n",
       "release_date            0.17\n",
       "revenue                 0.00\n",
       "runtime                 0.56\n",
       "spoken_languages        0.00\n",
       "status                  0.00\n",
       "title                   0.00\n",
       "video                   0.00\n",
       "vote_average            0.00\n",
       "vote_count              0.00\n",
       "dtype: float64"
      ]
     },
     "execution_count": 21,
     "metadata": {},
     "output_type": "execute_result"
    }
   ],
   "source": [
    "movie_metadata_info = round(((movie_metadata_df.isnull().sum())/len(movie_metadata_df))*100, 2)\n",
    "movie_metadata_info"
   ]
  },
  {
   "cell_type": "markdown",
   "metadata": {},
   "source": [
    "**4. IMDB_ID**\n",
    "\n",
    "NOTE: The relationship between the movies_metadata dataset and ratings_small data set are defined through the foreignkey 'imdb_id', defined in links_small dataset. We will look into it further when analysing rating_small and links_small adatsets."
   ]
  },
  {
   "cell_type": "code",
   "execution_count": 22,
   "metadata": {},
   "outputs": [
    {
     "data": {
      "text/plain": [
       "0    tt0114709\n",
       "1    tt0113497\n",
       "2    tt0113228\n",
       "3    tt0114885\n",
       "4    tt0113041\n",
       "Name: imdb_id, dtype: object"
      ]
     },
     "execution_count": 22,
     "metadata": {},
     "output_type": "execute_result"
    }
   ],
   "source": [
    "movie_metadata_df['imdb_id'].head(5)"
   ]
  },
  {
   "cell_type": "code",
   "execution_count": 23,
   "metadata": {},
   "outputs": [
    {
     "data": {
      "text/plain": [
       "44970"
      ]
     },
     "execution_count": 23,
     "metadata": {},
     "output_type": "execute_result"
    }
   ],
   "source": [
    "movie_metadata_df['imdb_id'].nunique()"
   ]
  },
  {
   "cell_type": "markdown",
   "metadata": {},
   "source": [
    "Let us clean the imdb_id by deletion 'tt' from the the beginning, as we can see all the imdb_ids are prepended with 'tt' and convert this field to numeric field as it will be healpful in further processing. It will be more clear while analysing links_small csv where imdb_ids are not prepended with 'tt'.\n",
    "\n",
    "Also we are removing all movies which doesnt have a valid imdb_id"
   ]
  },
  {
   "cell_type": "code",
   "execution_count": 24,
   "metadata": {},
   "outputs": [],
   "source": [
    "movie_metadata_df = movie_metadata_df[~movie_metadata_df['imdb_id'].isnull()]"
   ]
  },
  {
   "cell_type": "code",
   "execution_count": 25,
   "metadata": {},
   "outputs": [
    {
     "data": {
      "text/plain": [
       "(44970, 21)"
      ]
     },
     "execution_count": 25,
     "metadata": {},
     "output_type": "execute_result"
    }
   ],
   "source": [
    "movie_metadata_df.shape"
   ]
  },
  {
   "cell_type": "markdown",
   "metadata": {},
   "source": [
    "Apply the preprocessing steps to strip off the 'tt'"
   ]
  },
  {
   "cell_type": "code",
   "execution_count": 26,
   "metadata": {},
   "outputs": [],
   "source": [
    "movie_metadata_df['imdb_id'] = movie_metadata_df['imdb_id'].apply(lambda x: x.strip('tt'))"
   ]
  },
  {
   "cell_type": "code",
   "execution_count": 27,
   "metadata": {},
   "outputs": [],
   "source": [
    "movie_metadata_df = movie_metadata_df.astype({\"imdb_id\": int})"
   ]
  },
  {
   "cell_type": "code",
   "execution_count": 28,
   "metadata": {},
   "outputs": [
    {
     "data": {
      "text/plain": [
       "44970"
      ]
     },
     "execution_count": 28,
     "metadata": {},
     "output_type": "execute_result"
    }
   ],
   "source": [
    "movie_metadata_df['imdb_id'].nunique()"
   ]
  },
  {
   "cell_type": "code",
   "execution_count": 29,
   "metadata": {},
   "outputs": [],
   "source": [
    "imdb_id_from_movie_meta = list(movie_metadata_df['imdb_id'].unique())"
   ]
  },
  {
   "cell_type": "markdown",
   "metadata": {},
   "source": [
    "**5. GENRES** - This field provides the details on the genres of the movie."
   ]
  },
  {
   "cell_type": "code",
   "execution_count": 30,
   "metadata": {},
   "outputs": [
    {
     "data": {
      "text/plain": [
       "0    [{'id': 16, 'name': 'Animation'}, {'id': 35, '...\n",
       "1    [{'id': 12, 'name': 'Adventure'}, {'id': 14, '...\n",
       "2    [{'id': 10749, 'name': 'Romance'}, {'id': 35, ...\n",
       "3    [{'id': 35, 'name': 'Comedy'}, {'id': 18, 'nam...\n",
       "4                       [{'id': 35, 'name': 'Comedy'}]\n",
       "Name: genres, dtype: object"
      ]
     },
     "execution_count": 30,
     "metadata": {},
     "output_type": "execute_result"
    }
   ],
   "source": [
    "movie_metadata_df['genres'].head(5)"
   ]
  },
  {
   "cell_type": "markdown",
   "metadata": {},
   "source": [
    "We can see that the data is a string representation of array of key value pairs. We are interested in the value part, which actually gives the different genres of the movie.\n",
    "\n",
    "Below function is written to extract only genres from the given field."
   ]
  },
  {
   "cell_type": "code",
   "execution_count": 31,
   "metadata": {},
   "outputs": [],
   "source": [
    "def retrieve_content(data, field= 'name', seperator = \" \"):\n",
    "    content = ''\n",
    "    if data:\n",
    "        data_obj = ast.literal_eval(data)\n",
    "        data_lst  = [data[field] for data in data_obj]\n",
    "        content = seperator.join(data_lst)\n",
    "    return content  "
   ]
  },
  {
   "cell_type": "markdown",
   "metadata": {},
   "source": [
    "Create a new feature from existing feature 'genres'. "
   ]
  },
  {
   "cell_type": "code",
   "execution_count": 32,
   "metadata": {},
   "outputs": [],
   "source": [
    "movie_metadata_df['movie_genre'] = movie_metadata_df.genres.apply(retrieve_content)"
   ]
  },
  {
   "cell_type": "markdown",
   "metadata": {},
   "source": [
    "Print the original feature and newly created feature side by side and see the difference."
   ]
  },
  {
   "cell_type": "code",
   "execution_count": 33,
   "metadata": {},
   "outputs": [
    {
     "data": {
      "text/html": [
       "<div>\n",
       "<style scoped>\n",
       "    .dataframe tbody tr th:only-of-type {\n",
       "        vertical-align: middle;\n",
       "    }\n",
       "\n",
       "    .dataframe tbody tr th {\n",
       "        vertical-align: top;\n",
       "    }\n",
       "\n",
       "    .dataframe thead th {\n",
       "        text-align: right;\n",
       "    }\n",
       "</style>\n",
       "<table border=\"1\" class=\"dataframe\">\n",
       "  <thead>\n",
       "    <tr style=\"text-align: right;\">\n",
       "      <th></th>\n",
       "      <th>movie_genre</th>\n",
       "      <th>genres</th>\n",
       "    </tr>\n",
       "  </thead>\n",
       "  <tbody>\n",
       "    <tr>\n",
       "      <th>0</th>\n",
       "      <td>Animation Comedy Family</td>\n",
       "      <td>[{'id': 16, 'name': 'Animation'}, {'id': 35, '...</td>\n",
       "    </tr>\n",
       "    <tr>\n",
       "      <th>1</th>\n",
       "      <td>Adventure Fantasy Family</td>\n",
       "      <td>[{'id': 12, 'name': 'Adventure'}, {'id': 14, '...</td>\n",
       "    </tr>\n",
       "    <tr>\n",
       "      <th>2</th>\n",
       "      <td>Romance Comedy</td>\n",
       "      <td>[{'id': 10749, 'name': 'Romance'}, {'id': 35, ...</td>\n",
       "    </tr>\n",
       "    <tr>\n",
       "      <th>3</th>\n",
       "      <td>Comedy Drama Romance</td>\n",
       "      <td>[{'id': 35, 'name': 'Comedy'}, {'id': 18, 'nam...</td>\n",
       "    </tr>\n",
       "    <tr>\n",
       "      <th>4</th>\n",
       "      <td>Comedy</td>\n",
       "      <td>[{'id': 35, 'name': 'Comedy'}]</td>\n",
       "    </tr>\n",
       "  </tbody>\n",
       "</table>\n",
       "</div>"
      ],
      "text/plain": [
       "                movie_genre                                             genres\n",
       "0   Animation Comedy Family  [{'id': 16, 'name': 'Animation'}, {'id': 35, '...\n",
       "1  Adventure Fantasy Family  [{'id': 12, 'name': 'Adventure'}, {'id': 14, '...\n",
       "2            Romance Comedy  [{'id': 10749, 'name': 'Romance'}, {'id': 35, ...\n",
       "3      Comedy Drama Romance  [{'id': 35, 'name': 'Comedy'}, {'id': 18, 'nam...\n",
       "4                    Comedy                     [{'id': 35, 'name': 'Comedy'}]"
      ]
     },
     "execution_count": 33,
     "metadata": {},
     "output_type": "execute_result"
    }
   ],
   "source": [
    "movie_metadata_df[['movie_genre', 'genres']].head(5)"
   ]
  },
  {
   "cell_type": "markdown",
   "metadata": {},
   "source": [
    "Already extracetd the details from genres and created a new feature movie_genre. Hence we can safely remove the redundant feature 'genres'"
   ]
  },
  {
   "cell_type": "code",
   "execution_count": 34,
   "metadata": {},
   "outputs": [],
   "source": [
    "movie_metadata_df = movie_metadata_df.drop(columns = ['genres'])"
   ]
  },
  {
   "cell_type": "markdown",
   "metadata": {},
   "source": [
    "**6. ORIGINAL_LANGUAGE** - Original language in which this movie is made"
   ]
  },
  {
   "cell_type": "code",
   "execution_count": 35,
   "metadata": {},
   "outputs": [
    {
     "data": {
      "text/plain": [
       "array(['en', 'fr', 'zh', 'it', 'fa', 'nl', 'de', 'cn', 'ar', 'es', 'ru',\n",
       "       'sv', 'ja', 'ko', 'sr', 'bn', 'he', 'pt', 'wo', 'ro', 'hu', 'cy',\n",
       "       'vi', 'cs', 'da', 'no', 'nb', 'pl', 'el', 'sh', 'xx', 'mk', 'bo',\n",
       "       'ca', 'fi', 'th', 'sk', 'bs', 'hi', 'tr', 'is', 'ps', 'ab', 'eo',\n",
       "       'ka', 'mn', 'bm', 'zu', 'uk', 'af', 'la', 'et', 'ku', 'fy', 'lv',\n",
       "       'ta', 'sl', 'tl', 'ur', 'rw', 'id', 'bg', 'mr', 'lt', 'kk', 'ms',\n",
       "       'sq', nan, 'qu', 'te', 'am', 'jv', 'tg', 'ml', 'hr', 'lo', 'ay',\n",
       "       'kn', 'eu', 'ne', 'pa', 'ky', 'gl', 'uz', 'sm', 'mt', 'hy', 'iu',\n",
       "       'lb', 'si'], dtype=object)"
      ]
     },
     "execution_count": 35,
     "metadata": {},
     "output_type": "execute_result"
    }
   ],
   "source": [
    "movie_metadata_df.original_language.unique()"
   ]
  },
  {
   "cell_type": "code",
   "execution_count": 36,
   "metadata": {},
   "outputs": [
    {
     "data": {
      "text/plain": [
       "89"
      ]
     },
     "execution_count": 36,
     "metadata": {},
     "output_type": "execute_result"
    }
   ],
   "source": [
    "movie_metadata_df.original_language.nunique()"
   ]
  },
  {
   "cell_type": "markdown",
   "metadata": {},
   "source": [
    "This dataset contains movies from 89 different languages"
   ]
  },
  {
   "cell_type": "code",
   "execution_count": 37,
   "metadata": {},
   "outputs": [
    {
     "data": {
      "text/plain": [
       "count       89.000000\n",
       "mean       505.168539\n",
       "std       3388.532296\n",
       "min          1.000000\n",
       "25%          2.000000\n",
       "50%         12.000000\n",
       "75%         97.000000\n",
       "max      31924.000000\n",
       "dtype: float64"
      ]
     },
     "execution_count": 37,
     "metadata": {},
     "output_type": "execute_result"
    }
   ],
   "source": [
    "movie_grouped_language = movie_metadata_df.groupby('original_language').size().sort_values(ascending=False)\n",
    "movie_grouped_language.describe()"
   ]
  },
  {
   "cell_type": "markdown",
   "metadata": {},
   "source": [
    "As per above grouping, we can see 50% of languages has atleast 12 or more movies listed in this dataset"
   ]
  },
  {
   "cell_type": "markdown",
   "metadata": {},
   "source": [
    "Let us plot top 45 languages based on number if movies"
   ]
  },
  {
   "cell_type": "code",
   "execution_count": 38,
   "metadata": {},
   "outputs": [
    {
     "data": {
      "text/plain": [
       "<matplotlib.axes._subplots.AxesSubplot at 0x26fff7e86a0>"
      ]
     },
     "execution_count": 38,
     "metadata": {},
     "output_type": "execute_result"
    },
    {
     "data": {
      "image/png": "[encoded data removed]",
      "text/plain": [
       "<Figure size 1440x720 with 1 Axes>"
      ]
     },
     "metadata": {
      "needs_background": "light"
     },
     "output_type": "display_data"
    }
   ],
   "source": [
    "movie_grouped_language[:45].plot(kind='bar',figsize=(20,10))"
   ]
  },
  {
   "cell_type": "code",
   "execution_count": 39,
   "metadata": {},
   "outputs": [
    {
     "data": {
      "text/plain": [
       "Index(['en', 'fr', 'it', 'ja', 'de', 'es', 'ru', 'hi', 'ko', 'zh', 'sv', 'pt',\n",
       "       'cn', 'fi', 'nl', 'da', 'pl', 'tr', 'cs', 'el', 'no', 'hu', 'fa', 'ta',\n",
       "       'th', 'he', 'sr', 'ro', 'te', 'ar', 'ml', 'xx', 'hr', 'bn', 'mr', 'et',\n",
       "       'is', 'tl', 'id', 'lv', 'ka', 'sl', 'uk', 'bs', 'ca'],\n",
       "      dtype='object', name='original_language')"
      ]
     },
     "execution_count": 39,
     "metadata": {},
     "output_type": "execute_result"
    }
   ],
   "source": [
    "lang_with_min_10_movies  = movie_grouped_language[movie_grouped_language > 10]\n",
    "lang_with_min_10_movies.index"
   ]
  },
  {
   "cell_type": "markdown",
   "metadata": {},
   "source": [
    "**7. OVERVIEW**"
   ]
  },
  {
   "cell_type": "markdown",
   "metadata": {},
   "source": [
    "This feature we will be using for CBF recommendation. Will tokenize and convert the feature to BOW representation later. Currently we do some sanity checks."
   ]
  },
  {
   "cell_type": "code",
   "execution_count": 40,
   "metadata": {},
   "outputs": [
    {
     "data": {
      "text/plain": [
       "43885"
      ]
     },
     "execution_count": 40,
     "metadata": {},
     "output_type": "execute_result"
    }
   ],
   "source": [
    "movie_metadata_df.overview.nunique()"
   ]
  },
  {
   "cell_type": "code",
   "execution_count": 41,
   "metadata": {},
   "outputs": [
    {
     "name": "stdout",
     "output_type": "stream",
     "text": [
      "Number of movies with the overview information missing are: 1085\n"
     ]
    }
   ],
   "source": [
    "print('Number of movies with the overview information missing are: {}'.format(len(movie_metadata_df) - movie_metadata_df.overview.nunique()))"
   ]
  },
  {
   "cell_type": "code",
   "execution_count": 42,
   "metadata": {},
   "outputs": [
    {
     "data": {
      "text/plain": [
       "0    Led by Woody, Andy's toys live happily in his ...\n",
       "1    When siblings Judy and Peter discover an encha...\n",
       "2    A family wedding reignites the ancient feud be...\n",
       "3    Cheated on, mistreated and stepped on, the wom...\n",
       "4    Just when George Banks has recovered from his ...\n",
       "Name: overview, dtype: object"
      ]
     },
     "execution_count": 42,
     "metadata": {},
     "output_type": "execute_result"
    }
   ],
   "source": [
    "movie_metadata_df.overview.head(5)"
   ]
  },
  {
   "cell_type": "markdown",
   "metadata": {},
   "source": [
    "**8. ORIGINAL TITLE**"
   ]
  },
  {
   "cell_type": "markdown",
   "metadata": {},
   "source": [
    "These are the movie title in the original language its made"
   ]
  },
  {
   "cell_type": "code",
   "execution_count": 43,
   "metadata": {},
   "outputs": [
    {
     "data": {
      "text/plain": [
       "42942"
      ]
     },
     "execution_count": 43,
     "metadata": {},
     "output_type": "execute_result"
    }
   ],
   "source": [
    "movie_metadata_df.original_title.nunique()"
   ]
  },
  {
   "cell_type": "code",
   "execution_count": 44,
   "metadata": {},
   "outputs": [
    {
     "name": "stdout",
     "output_type": "stream",
     "text": [
      "Number of movies with the title information missing are: 2028\n"
     ]
    }
   ],
   "source": [
    "print('Number of movies with the title information missing are: {}'.format(len(movie_metadata_df) - movie_metadata_df.original_title.nunique()))"
   ]
  },
  {
   "cell_type": "markdown",
   "metadata": {},
   "source": [
    "**9. POPULARITY**"
   ]
  },
  {
   "cell_type": "markdown",
   "metadata": {},
   "source": [
    "This is movie popularity feature. Let us convert it to float type."
   ]
  },
  {
   "cell_type": "code",
   "execution_count": 45,
   "metadata": {},
   "outputs": [
    {
     "data": {
      "text/html": [
       "<div>\n",
       "<style scoped>\n",
       "    .dataframe tbody tr th:only-of-type {\n",
       "        vertical-align: middle;\n",
       "    }\n",
       "\n",
       "    .dataframe tbody tr th {\n",
       "        vertical-align: top;\n",
       "    }\n",
       "\n",
       "    .dataframe thead th {\n",
       "        text-align: right;\n",
       "    }\n",
       "</style>\n",
       "<table border=\"1\" class=\"dataframe\">\n",
       "  <thead>\n",
       "    <tr style=\"text-align: right;\">\n",
       "      <th></th>\n",
       "      <th>popularity</th>\n",
       "    </tr>\n",
       "  </thead>\n",
       "  <tbody>\n",
       "    <tr>\n",
       "      <th>0</th>\n",
       "      <td>21.946943</td>\n",
       "    </tr>\n",
       "    <tr>\n",
       "      <th>1</th>\n",
       "      <td>17.015539</td>\n",
       "    </tr>\n",
       "    <tr>\n",
       "      <th>2</th>\n",
       "      <td>11.7129</td>\n",
       "    </tr>\n",
       "    <tr>\n",
       "      <th>3</th>\n",
       "      <td>3.859495</td>\n",
       "    </tr>\n",
       "    <tr>\n",
       "      <th>4</th>\n",
       "      <td>8.387519</td>\n",
       "    </tr>\n",
       "  </tbody>\n",
       "</table>\n",
       "</div>"
      ],
      "text/plain": [
       "  popularity\n",
       "0  21.946943\n",
       "1  17.015539\n",
       "2    11.7129\n",
       "3   3.859495\n",
       "4   8.387519"
      ]
     },
     "execution_count": 45,
     "metadata": {},
     "output_type": "execute_result"
    }
   ],
   "source": [
    "movie_metadata_df[['popularity']].head(5)"
   ]
  },
  {
   "cell_type": "code",
   "execution_count": 46,
   "metadata": {},
   "outputs": [],
   "source": [
    "movie_metadata_df = movie_metadata_df.astype({\"popularity\": float})"
   ]
  },
  {
   "cell_type": "markdown",
   "metadata": {},
   "source": [
    "Plotting the popularity for each movies as a distribution plot and Boxplot"
   ]
  },
  {
   "cell_type": "code",
   "execution_count": 47,
   "metadata": {},
   "outputs": [
    {
     "data": {
      "text/plain": [
       "<matplotlib.axes._subplots.AxesSubplot at 0x26fff799908>"
      ]
     },
     "execution_count": 47,
     "metadata": {},
     "output_type": "execute_result"
    },
    {
     "data": {
      "image/png": "[encoded data removed]",
      "text/plain": [
       "<Figure size 1584x720 with 2 Axes>"
      ]
     },
     "metadata": {
      "needs_background": "light"
     },
     "output_type": "display_data"
    }
   ],
   "source": [
    "plt.figure(figsize = (22, 10))\n",
    "plt.subplot(1, 2, 1)\n",
    "sns.distplot(movie_metadata_df.popularity)\n",
    "plt.subplot(1, 2, 2)\n",
    "sns.boxplot(movie_metadata_df.popularity)"
   ]
  },
  {
   "cell_type": "code",
   "execution_count": 48,
   "metadata": {},
   "outputs": [
    {
     "data": {
      "text/plain": [
       "count    44970.000000\n",
       "mean         2.939439\n",
       "std          6.025544\n",
       "min          0.000000\n",
       "25%          0.391021\n",
       "50%          1.135689\n",
       "75%          3.730199\n",
       "max        547.488298\n",
       "Name: popularity, dtype: float64"
      ]
     },
     "execution_count": 48,
     "metadata": {},
     "output_type": "execute_result"
    }
   ],
   "source": [
    "movie_metadata_df.popularity.describe()"
   ]
  },
  {
   "cell_type": "markdown",
   "metadata": {},
   "source": [
    "From this analysis we can see its a completely skewed distribution with max value around 547.5. But note that 75% of the movies has got popularity less that 3.7.\n",
    "\n",
    "Not planning to use the data for content based filtering as:\n",
    "1. Data is highly skewed.\n",
    "2. If needed popularity can be calculated from the user interaction, which will be more appropriate\n",
    "\n",
    "Hence removing this column."
   ]
  },
  {
   "cell_type": "code",
   "execution_count": 49,
   "metadata": {},
   "outputs": [],
   "source": [
    "movie_metadata_df = movie_metadata_df.drop(columns = ['popularity'])"
   ]
  },
  {
   "cell_type": "markdown",
   "metadata": {},
   "source": [
    "**10. POSTER PATH**"
   ]
  },
  {
   "cell_type": "markdown",
   "metadata": {},
   "source": [
    "This gives location to poster files. This will be useful only if we use an image matching technique for content based filtering."
   ]
  },
  {
   "cell_type": "code",
   "execution_count": 50,
   "metadata": {},
   "outputs": [
    {
     "data": {
      "text/plain": [
       "0    /rhIRbceoE9lR4veEXuwCC2wARtG.jpg\n",
       "1    /vzmL6fP7aPKNKPRTFnZmiUfciyV.jpg\n",
       "2    /6ksm1sjKMFLbO7UY2i6G1ju9SML.jpg\n",
       "3    /16XOMpEaLWkrcPqSQqhTmeJuqQl.jpg\n",
       "4    /e64sOI48hQXyru7naBFyssKFxVd.jpg\n",
       "Name: poster_path, dtype: object"
      ]
     },
     "execution_count": 50,
     "metadata": {},
     "output_type": "execute_result"
    }
   ],
   "source": [
    "movie_metadata_df.poster_path.head(5)"
   ]
  },
  {
   "cell_type": "markdown",
   "metadata": {},
   "source": [
    "We are not going to do a poster based matching, hence we can safely remove this column from any analysis."
   ]
  },
  {
   "cell_type": "code",
   "execution_count": 51,
   "metadata": {},
   "outputs": [],
   "source": [
    "movie_metadata_df = movie_metadata_df.drop(columns = ['poster_path'])"
   ]
  },
  {
   "cell_type": "markdown",
   "metadata": {},
   "source": [
    "**11. PRODUCTION COMPANIES**"
   ]
  },
  {
   "cell_type": "markdown",
   "metadata": {},
   "source": [
    "This field gives info on production companies for each of these movies. But this field also arranged as key value pair."
   ]
  },
  {
   "cell_type": "code",
   "execution_count": 52,
   "metadata": {},
   "outputs": [
    {
     "data": {
      "text/plain": [
       "0       [{'name': 'Pixar Animation Studios', 'id': 3}]\n",
       "1    [{'name': 'TriStar Pictures', 'id': 559}, {'na...\n",
       "2    [{'name': 'Warner Bros.', 'id': 6194}, {'name'...\n",
       "3    [{'name': 'Twentieth Century Fox Film Corporat...\n",
       "4    [{'name': 'Sandollar Productions', 'id': 5842}...\n",
       "Name: production_companies, dtype: object"
      ]
     },
     "execution_count": 52,
     "metadata": {},
     "output_type": "execute_result"
    }
   ],
   "source": [
    "movie_metadata_df.production_companies.head(5)"
   ]
  },
  {
   "cell_type": "markdown",
   "metadata": {},
   "source": [
    "We are interested only on the production company name here, hence we wille xtract those details and create a new feature. Let us remove the old feature once we extracted useful info from it."
   ]
  },
  {
   "cell_type": "code",
   "execution_count": 53,
   "metadata": {},
   "outputs": [],
   "source": [
    "movie_metadata_df['movie_production'] = movie_metadata_df.production_companies.apply(lambda x: retrieve_content(x, 'name', seperator = ','))"
   ]
  },
  {
   "cell_type": "code",
   "execution_count": 54,
   "metadata": {},
   "outputs": [
    {
     "data": {
      "text/html": [
       "<div>\n",
       "<style scoped>\n",
       "    .dataframe tbody tr th:only-of-type {\n",
       "        vertical-align: middle;\n",
       "    }\n",
       "\n",
       "    .dataframe tbody tr th {\n",
       "        vertical-align: top;\n",
       "    }\n",
       "\n",
       "    .dataframe thead th {\n",
       "        text-align: right;\n",
       "    }\n",
       "</style>\n",
       "<table border=\"1\" class=\"dataframe\">\n",
       "  <thead>\n",
       "    <tr style=\"text-align: right;\">\n",
       "      <th></th>\n",
       "      <th>production_companies</th>\n",
       "      <th>movie_production</th>\n",
       "    </tr>\n",
       "  </thead>\n",
       "  <tbody>\n",
       "    <tr>\n",
       "      <th>0</th>\n",
       "      <td>[{'name': 'Pixar Animation Studios', 'id': 3}]</td>\n",
       "      <td>Pixar Animation Studios</td>\n",
       "    </tr>\n",
       "    <tr>\n",
       "      <th>1</th>\n",
       "      <td>[{'name': 'TriStar Pictures', 'id': 559}, {'na...</td>\n",
       "      <td>TriStar Pictures,Teitler Film,Interscope Commu...</td>\n",
       "    </tr>\n",
       "    <tr>\n",
       "      <th>2</th>\n",
       "      <td>[{'name': 'Warner Bros.', 'id': 6194}, {'name'...</td>\n",
       "      <td>Warner Bros.,Lancaster Gate</td>\n",
       "    </tr>\n",
       "    <tr>\n",
       "      <th>3</th>\n",
       "      <td>[{'name': 'Twentieth Century Fox Film Corporat...</td>\n",
       "      <td>Twentieth Century Fox Film Corporation</td>\n",
       "    </tr>\n",
       "    <tr>\n",
       "      <th>4</th>\n",
       "      <td>[{'name': 'Sandollar Productions', 'id': 5842}...</td>\n",
       "      <td>Sandollar Productions,Touchstone Pictures</td>\n",
       "    </tr>\n",
       "  </tbody>\n",
       "</table>\n",
       "</div>"
      ],
      "text/plain": [
       "                                production_companies  \\\n",
       "0     [{'name': 'Pixar Animation Studios', 'id': 3}]   \n",
       "1  [{'name': 'TriStar Pictures', 'id': 559}, {'na...   \n",
       "2  [{'name': 'Warner Bros.', 'id': 6194}, {'name'...   \n",
       "3  [{'name': 'Twentieth Century Fox Film Corporat...   \n",
       "4  [{'name': 'Sandollar Productions', 'id': 5842}...   \n",
       "\n",
       "                                    movie_production  \n",
       "0                            Pixar Animation Studios  \n",
       "1  TriStar Pictures,Teitler Film,Interscope Commu...  \n",
       "2                        Warner Bros.,Lancaster Gate  \n",
       "3             Twentieth Century Fox Film Corporation  \n",
       "4          Sandollar Productions,Touchstone Pictures  "
      ]
     },
     "execution_count": 54,
     "metadata": {},
     "output_type": "execute_result"
    }
   ],
   "source": [
    "movie_metadata_df[['production_companies','movie_production']].head(5)"
   ]
  },
  {
   "cell_type": "code",
   "execution_count": 55,
   "metadata": {},
   "outputs": [],
   "source": [
    "movie_metadata_df = movie_metadata_df.drop(columns = ['production_companies'])"
   ]
  },
  {
   "cell_type": "markdown",
   "metadata": {},
   "source": [
    "**12. PRODUCTION COUNTRIES**"
   ]
  },
  {
   "cell_type": "markdown",
   "metadata": {},
   "source": [
    "Like other attributes this feature also stored as list of key value pairs, lets print first"
   ]
  },
  {
   "cell_type": "code",
   "execution_count": 56,
   "metadata": {},
   "outputs": [
    {
     "data": {
      "text/plain": [
       "0    [{'iso_3166_1': 'US', 'name': 'United States o...\n",
       "1    [{'iso_3166_1': 'US', 'name': 'United States o...\n",
       "2    [{'iso_3166_1': 'US', 'name': 'United States o...\n",
       "3    [{'iso_3166_1': 'US', 'name': 'United States o...\n",
       "4    [{'iso_3166_1': 'US', 'name': 'United States o...\n",
       "Name: production_countries, dtype: object"
      ]
     },
     "execution_count": 56,
     "metadata": {},
     "output_type": "execute_result"
    }
   ],
   "source": [
    "movie_metadata_df.production_countries.head(5)"
   ]
  },
  {
   "cell_type": "markdown",
   "metadata": {},
   "source": [
    "Extract only country code and created a new feature"
   ]
  },
  {
   "cell_type": "code",
   "execution_count": 57,
   "metadata": {},
   "outputs": [],
   "source": [
    "movie_metadata_df['production_country'] = movie_metadata_df.production_countries.apply(lambda x: retrieve_content(x, 'iso_3166_1', seperator = ' '))"
   ]
  },
  {
   "cell_type": "code",
   "execution_count": 58,
   "metadata": {},
   "outputs": [
    {
     "data": {
      "text/html": [
       "<div>\n",
       "<style scoped>\n",
       "    .dataframe tbody tr th:only-of-type {\n",
       "        vertical-align: middle;\n",
       "    }\n",
       "\n",
       "    .dataframe tbody tr th {\n",
       "        vertical-align: top;\n",
       "    }\n",
       "\n",
       "    .dataframe thead th {\n",
       "        text-align: right;\n",
       "    }\n",
       "</style>\n",
       "<table border=\"1\" class=\"dataframe\">\n",
       "  <thead>\n",
       "    <tr style=\"text-align: right;\">\n",
       "      <th></th>\n",
       "      <th>production_countries</th>\n",
       "      <th>production_country</th>\n",
       "    </tr>\n",
       "  </thead>\n",
       "  <tbody>\n",
       "    <tr>\n",
       "      <th>0</th>\n",
       "      <td>[{'iso_3166_1': 'US', 'name': 'United States o...</td>\n",
       "      <td>US</td>\n",
       "    </tr>\n",
       "    <tr>\n",
       "      <th>1</th>\n",
       "      <td>[{'iso_3166_1': 'US', 'name': 'United States o...</td>\n",
       "      <td>US</td>\n",
       "    </tr>\n",
       "    <tr>\n",
       "      <th>2</th>\n",
       "      <td>[{'iso_3166_1': 'US', 'name': 'United States o...</td>\n",
       "      <td>US</td>\n",
       "    </tr>\n",
       "    <tr>\n",
       "      <th>3</th>\n",
       "      <td>[{'iso_3166_1': 'US', 'name': 'United States o...</td>\n",
       "      <td>US</td>\n",
       "    </tr>\n",
       "    <tr>\n",
       "      <th>4</th>\n",
       "      <td>[{'iso_3166_1': 'US', 'name': 'United States o...</td>\n",
       "      <td>US</td>\n",
       "    </tr>\n",
       "  </tbody>\n",
       "</table>\n",
       "</div>"
      ],
      "text/plain": [
       "                                production_countries production_country\n",
       "0  [{'iso_3166_1': 'US', 'name': 'United States o...                 US\n",
       "1  [{'iso_3166_1': 'US', 'name': 'United States o...                 US\n",
       "2  [{'iso_3166_1': 'US', 'name': 'United States o...                 US\n",
       "3  [{'iso_3166_1': 'US', 'name': 'United States o...                 US\n",
       "4  [{'iso_3166_1': 'US', 'name': 'United States o...                 US"
      ]
     },
     "execution_count": 58,
     "metadata": {},
     "output_type": "execute_result"
    }
   ],
   "source": [
    "movie_metadata_df[['production_countries', 'production_country']].head(5)"
   ]
  },
  {
   "cell_type": "markdown",
   "metadata": {},
   "source": [
    "Drop the redundant feature"
   ]
  },
  {
   "cell_type": "code",
   "execution_count": 59,
   "metadata": {},
   "outputs": [],
   "source": [
    "movie_metadata_df = movie_metadata_df.drop(columns = ['production_countries'])"
   ]
  },
  {
   "cell_type": "markdown",
   "metadata": {},
   "source": [
    "**13. RELEASE_DATE**"
   ]
  },
  {
   "cell_type": "markdown",
   "metadata": {},
   "source": [
    "This field indicates release date for these movies"
   ]
  },
  {
   "cell_type": "code",
   "execution_count": 60,
   "metadata": {},
   "outputs": [
    {
     "data": {
      "text/plain": [
       "0    1995-10-30\n",
       "1    1995-12-15\n",
       "2    1995-12-22\n",
       "3    1995-12-22\n",
       "4    1995-02-10\n",
       "Name: release_date, dtype: object"
      ]
     },
     "execution_count": 60,
     "metadata": {},
     "output_type": "execute_result"
    }
   ],
   "source": [
    "movie_metadata_df.release_date.head(5)"
   ]
  },
  {
   "cell_type": "markdown",
   "metadata": {},
   "source": [
    "Will convert the field to datetime type"
   ]
  },
  {
   "cell_type": "code",
   "execution_count": 61,
   "metadata": {},
   "outputs": [],
   "source": [
    "movie_date = movie_metadata_df[['release_date']] \n",
    "movie_date.dropna(inplace = True)\n",
    "\n",
    "movie_date['release_date']=movie_date['release_date'].apply(lambda x: datetime.strptime(x, '%Y-%m-%d').date())"
   ]
  },
  {
   "cell_type": "markdown",
   "metadata": {},
   "source": [
    "Group and plot the number of movies released based on the year"
   ]
  },
  {
   "cell_type": "code",
   "execution_count": 62,
   "metadata": {},
   "outputs": [
    {
     "data": {
      "text/plain": [
       "<matplotlib.axes._subplots.AxesSubplot at 0x26f80c3ca58>"
      ]
     },
     "execution_count": 62,
     "metadata": {},
     "output_type": "execute_result"
    },
    {
     "data": {
      "image/png": "[encoded data removed]",
      "text/plain": [
       "<Figure size 1440x576 with 1 Axes>"
      ]
     },
     "metadata": {
      "needs_background": "light"
     },
     "output_type": "display_data"
    }
   ],
   "source": [
    "movie_date['year'] = movie_date['release_date'].apply(lambda x: '{0}'.format(x.year))\n",
    "movie_date.groupby('year').size().plot(kind='bar', title='movies released by year', figsize = (20, 8))"
   ]
  },
  {
   "cell_type": "code",
   "execution_count": 63,
   "metadata": {},
   "outputs": [
    {
     "data": {
      "text/plain": [
       "'1874'"
      ]
     },
     "execution_count": 63,
     "metadata": {},
     "output_type": "execute_result"
    }
   ],
   "source": [
    "movie_date['year'].min()"
   ]
  },
  {
   "cell_type": "code",
   "execution_count": 64,
   "metadata": {},
   "outputs": [
    {
     "data": {
      "text/plain": [
       "'2017'"
      ]
     },
     "execution_count": 64,
     "metadata": {},
     "output_type": "execute_result"
    }
   ],
   "source": [
    "movie_date['year'].max()"
   ]
  },
  {
   "cell_type": "markdown",
   "metadata": {},
   "source": [
    "As per the details we noticed above, dataset contains movies from 1874 to 2017"
   ]
  },
  {
   "cell_type": "markdown",
   "metadata": {},
   "source": [
    "**14. REVENUE**"
   ]
  },
  {
   "cell_type": "markdown",
   "metadata": {},
   "source": [
    "This is movie revenue field, will print max and min revenue from this dataset"
   ]
  },
  {
   "cell_type": "code",
   "execution_count": 65,
   "metadata": {},
   "outputs": [
    {
     "data": {
      "text/plain": [
       "2787965087.0"
      ]
     },
     "execution_count": 65,
     "metadata": {},
     "output_type": "execute_result"
    }
   ],
   "source": [
    "movie_metadata_df.revenue.max()"
   ]
  },
  {
   "cell_type": "code",
   "execution_count": 66,
   "metadata": {},
   "outputs": [
    {
     "data": {
      "text/plain": [
       "0.0"
      ]
     },
     "execution_count": 66,
     "metadata": {},
     "output_type": "execute_result"
    }
   ],
   "source": [
    "movie_metadata_df.revenue.min()"
   ]
  },
  {
   "cell_type": "markdown",
   "metadata": {},
   "source": [
    "Now we will see how the revenue distribution per movie"
   ]
  },
  {
   "cell_type": "code",
   "execution_count": 67,
   "metadata": {},
   "outputs": [
    {
     "data": {
      "text/plain": [
       "count    4.497000e+04\n",
       "mean     1.132607e+07\n",
       "std      6.467045e+07\n",
       "min      0.000000e+00\n",
       "25%      0.000000e+00\n",
       "50%      0.000000e+00\n",
       "75%      0.000000e+00\n",
       "max      2.787965e+09\n",
       "Name: revenue, dtype: float64"
      ]
     },
     "execution_count": 67,
     "metadata": {},
     "output_type": "execute_result"
    }
   ],
   "source": [
    "movie_metadata_df.revenue.describe()"
   ]
  },
  {
   "cell_type": "code",
   "execution_count": 68,
   "metadata": {
    "scrolled": true
   },
   "outputs": [
    {
     "data": {
      "text/plain": [
       "<matplotlib.axes._subplots.AxesSubplot at 0x26f80de4dd8>"
      ]
     },
     "execution_count": 68,
     "metadata": {},
     "output_type": "execute_result"
    },
    {
     "data": {
      "image/png": "[encoded data removed]",
      "text/plain": [
       "<Figure size 1584x720 with 2 Axes>"
      ]
     },
     "metadata": {
      "needs_background": "light"
     },
     "output_type": "display_data"
    }
   ],
   "source": [
    "plt.figure(figsize = (22, 10))\n",
    "plt.subplot(1, 2, 1)\n",
    "sns.distplot(movie_metadata_df.revenue)\n",
    "plt.subplot(1, 2, 2)\n",
    "sns.boxplot(movie_metadata_df.revenue)"
   ]
  },
  {
   "cell_type": "code",
   "execution_count": 69,
   "metadata": {},
   "outputs": [
    {
     "data": {
      "text/plain": [
       "83.57794084945519"
      ]
     },
     "execution_count": 69,
     "metadata": {},
     "output_type": "execute_result"
    }
   ],
   "source": [
    "(len(movie_metadata_df[movie_metadata_df.revenue == 0])/len(movie_metadata_df))*100"
   ]
  },
  {
   "cell_type": "markdown",
   "metadata": {},
   "source": [
    "Almost 83.5% movies are having 0 revenue as per this dataset. This can be dataset issue as well, but not much insight from this feature. Hence the clumn will bedropped."
   ]
  },
  {
   "cell_type": "code",
   "execution_count": 70,
   "metadata": {},
   "outputs": [],
   "source": [
    "movie_metadata_df = movie_metadata_df.drop(columns = ['revenue'])"
   ]
  },
  {
   "cell_type": "markdown",
   "metadata": {},
   "source": [
    "**15. SPOKEN_LANGUAGES**"
   ]
  },
  {
   "cell_type": "markdown",
   "metadata": {},
   "source": [
    "This feature indicates in which all language movie is made"
   ]
  },
  {
   "cell_type": "code",
   "execution_count": 71,
   "metadata": {
    "scrolled": true
   },
   "outputs": [
    {
     "data": {
      "text/plain": [
       "0             [{'iso_639_1': 'en', 'name': 'English'}]\n",
       "1    [{'iso_639_1': 'en', 'name': 'English'}, {'iso...\n",
       "2             [{'iso_639_1': 'en', 'name': 'English'}]\n",
       "3             [{'iso_639_1': 'en', 'name': 'English'}]\n",
       "4             [{'iso_639_1': 'en', 'name': 'English'}]\n",
       "Name: spoken_languages, dtype: object"
      ]
     },
     "execution_count": 71,
     "metadata": {},
     "output_type": "execute_result"
    }
   ],
   "source": [
    "movie_metadata_df.spoken_languages.head(5)"
   ]
  },
  {
   "cell_type": "markdown",
   "metadata": {},
   "source": [
    "Extract only language details from the feature and will remove the redundant feature after the processing"
   ]
  },
  {
   "cell_type": "code",
   "execution_count": 72,
   "metadata": {},
   "outputs": [],
   "source": [
    "movie_metadata_df['spoken_language'] = movie_metadata_df.spoken_languages.apply(lambda x: retrieve_content(x, 'iso_639_1', seperator = ' '))"
   ]
  },
  {
   "cell_type": "code",
   "execution_count": 73,
   "metadata": {},
   "outputs": [
    {
     "data": {
      "text/html": [
       "<div>\n",
       "<style scoped>\n",
       "    .dataframe tbody tr th:only-of-type {\n",
       "        vertical-align: middle;\n",
       "    }\n",
       "\n",
       "    .dataframe tbody tr th {\n",
       "        vertical-align: top;\n",
       "    }\n",
       "\n",
       "    .dataframe thead th {\n",
       "        text-align: right;\n",
       "    }\n",
       "</style>\n",
       "<table border=\"1\" class=\"dataframe\">\n",
       "  <thead>\n",
       "    <tr style=\"text-align: right;\">\n",
       "      <th></th>\n",
       "      <th>spoken_languages</th>\n",
       "      <th>spoken_language</th>\n",
       "    </tr>\n",
       "  </thead>\n",
       "  <tbody>\n",
       "    <tr>\n",
       "      <th>0</th>\n",
       "      <td>[{'iso_639_1': 'en', 'name': 'English'}]</td>\n",
       "      <td>en</td>\n",
       "    </tr>\n",
       "    <tr>\n",
       "      <th>1</th>\n",
       "      <td>[{'iso_639_1': 'en', 'name': 'English'}, {'iso...</td>\n",
       "      <td>en fr</td>\n",
       "    </tr>\n",
       "    <tr>\n",
       "      <th>2</th>\n",
       "      <td>[{'iso_639_1': 'en', 'name': 'English'}]</td>\n",
       "      <td>en</td>\n",
       "    </tr>\n",
       "    <tr>\n",
       "      <th>3</th>\n",
       "      <td>[{'iso_639_1': 'en', 'name': 'English'}]</td>\n",
       "      <td>en</td>\n",
       "    </tr>\n",
       "    <tr>\n",
       "      <th>4</th>\n",
       "      <td>[{'iso_639_1': 'en', 'name': 'English'}]</td>\n",
       "      <td>en</td>\n",
       "    </tr>\n",
       "  </tbody>\n",
       "</table>\n",
       "</div>"
      ],
      "text/plain": [
       "                                    spoken_languages spoken_language\n",
       "0           [{'iso_639_1': 'en', 'name': 'English'}]              en\n",
       "1  [{'iso_639_1': 'en', 'name': 'English'}, {'iso...           en fr\n",
       "2           [{'iso_639_1': 'en', 'name': 'English'}]              en\n",
       "3           [{'iso_639_1': 'en', 'name': 'English'}]              en\n",
       "4           [{'iso_639_1': 'en', 'name': 'English'}]              en"
      ]
     },
     "execution_count": 73,
     "metadata": {},
     "output_type": "execute_result"
    }
   ],
   "source": [
    "movie_metadata_df[['spoken_languages', 'spoken_language']].head(5)"
   ]
  },
  {
   "cell_type": "code",
   "execution_count": 74,
   "metadata": {},
   "outputs": [],
   "source": [
    "movie_metadata_df = movie_metadata_df.drop(columns = ['spoken_languages'])"
   ]
  },
  {
   "cell_type": "markdown",
   "metadata": {},
   "source": [
    "**16. TITLE**"
   ]
  },
  {
   "cell_type": "markdown",
   "metadata": {},
   "source": [
    "This is similar to original_title. But there are a few dfference.Lets see what is the difference between the original_title and title field."
   ]
  },
  {
   "cell_type": "code",
   "execution_count": 75,
   "metadata": {},
   "outputs": [
    {
     "data": {
      "text/plain": [
       "[('La CitÃ© des Enfants Perdus', 'The City of Lost Children'),\n",
       " ('æ‘‡å•Šæ‘‡ï¼Œæ‘‡åˆ°å¤–å©†æ¡¥', 'Shanghai Triad'),\n",
       " ('Guillaumet, les ailes du courage', 'Wings of Courage'),\n",
       " ('Il postino', 'The Postman'),\n",
       " ('Le confessionnal', 'The Confessional'),\n",
       " ('Gazon maudit', 'French Twist'),\n",
       " ('Les misÃ©rables', 'Les Miserables'),\n",
       " ('Ø¨Ø§Ø¯Ú©Ù†Ú© Ø³Ù�ÛŒØ¯', 'The White Balloon'),\n",
       " ('Antonia', \"Antonia's Line\"),\n",
       " ('Keiner liebt mich', 'Nobody Loves Me')]"
      ]
     },
     "execution_count": 75,
     "metadata": {},
     "output_type": "execute_result"
    }
   ],
   "source": [
    "mismatch = []\n",
    "for title, original_title in zip(list(movie_metadata_df.title), list(movie_metadata_df.original_title)):\n",
    "    if original_title != title:\n",
    "        mismatch.append((original_title, title))\n",
    "        \n",
    "mismatch[:10]   "
   ]
  },
  {
   "cell_type": "markdown",
   "metadata": {},
   "source": [
    "As we can see mostly these are same cinemas only langiage is different"
   ]
  },
  {
   "cell_type": "markdown",
   "metadata": {},
   "source": [
    "**17. VIDEO**"
   ]
  },
  {
   "cell_type": "markdown",
   "metadata": {},
   "source": [
    "We will group the feature based on the value of this field and see the pattern"
   ]
  },
  {
   "cell_type": "code",
   "execution_count": 76,
   "metadata": {},
   "outputs": [
    {
     "data": {
      "text/plain": [
       "2"
      ]
     },
     "execution_count": 76,
     "metadata": {},
     "output_type": "execute_result"
    }
   ],
   "source": [
    "movie_metadata_df.video.nunique()"
   ]
  },
  {
   "cell_type": "code",
   "execution_count": 77,
   "metadata": {},
   "outputs": [
    {
     "data": {
      "text/plain": [
       "array(['False', 'True'], dtype=object)"
      ]
     },
     "execution_count": 77,
     "metadata": {},
     "output_type": "execute_result"
    }
   ],
   "source": [
    "movie_metadata_df.video.unique()"
   ]
  },
  {
   "cell_type": "code",
   "execution_count": 78,
   "metadata": {},
   "outputs": [
    {
     "data": {
      "text/plain": [
       "video\n",
       "False    44877\n",
       "True        93\n",
       "dtype: int64"
      ]
     },
     "execution_count": 78,
     "metadata": {},
     "output_type": "execute_result"
    }
   ],
   "source": [
    "movie_metadata_df.groupby('video').size()"
   ]
  },
  {
   "cell_type": "markdown",
   "metadata": {},
   "source": [
    "**18. VOTE_AVERAGE** "
   ]
  },
  {
   "cell_type": "markdown",
   "metadata": {},
   "source": [
    "This indicates the vote average for each movie. Let us see how this data looks like in this dataset."
   ]
  },
  {
   "cell_type": "code",
   "execution_count": 79,
   "metadata": {},
   "outputs": [
    {
     "data": {
      "text/plain": [
       "count    44970.000000\n",
       "mean         5.624172\n",
       "std          1.915336\n",
       "min          0.000000\n",
       "25%          5.000000\n",
       "50%          6.000000\n",
       "75%          6.800000\n",
       "max         10.000000\n",
       "Name: vote_average, dtype: float64"
      ]
     },
     "execution_count": 79,
     "metadata": {},
     "output_type": "execute_result"
    }
   ],
   "source": [
    "movie_metadata_df.vote_average.describe()"
   ]
  },
  {
   "cell_type": "code",
   "execution_count": 80,
   "metadata": {},
   "outputs": [
    {
     "data": {
      "text/plain": [
       "<matplotlib.axes._subplots.AxesSubplot at 0x26f819c3828>"
      ]
     },
     "execution_count": 80,
     "metadata": {},
     "output_type": "execute_result"
    },
    {
     "data": {
      "image/png": "[encoded data removed]",
      "text/plain": [
       "<Figure size 1584x720 with 2 Axes>"
      ]
     },
     "metadata": {
      "needs_background": "light"
     },
     "output_type": "display_data"
    }
   ],
   "source": [
    "plt.figure(figsize = (22, 10))\n",
    "plt.subplot(1, 2, 1)\n",
    "sns.distplot(movie_metadata_df.vote_average)\n",
    "plt.subplot(1, 2, 2)\n",
    "sns.boxplot(movie_metadata_df.vote_average)"
   ]
  },
  {
   "cell_type": "markdown",
   "metadata": {},
   "source": [
    "**19. VOTE_COUNT**"
   ]
  },
  {
   "cell_type": "markdown",
   "metadata": {},
   "source": [
    "Let us understand how many number of votes are received for each movie"
   ]
  },
  {
   "cell_type": "code",
   "execution_count": 81,
   "metadata": {},
   "outputs": [
    {
     "data": {
      "text/plain": [
       "count    44970.000000\n",
       "mean       110.962130\n",
       "std        493.860887\n",
       "min          0.000000\n",
       "25%          3.000000\n",
       "50%         10.000000\n",
       "75%         35.000000\n",
       "max      14075.000000\n",
       "Name: vote_count, dtype: float64"
      ]
     },
     "execution_count": 81,
     "metadata": {},
     "output_type": "execute_result"
    }
   ],
   "source": [
    "movie_metadata_df.vote_count.describe()"
   ]
  },
  {
   "cell_type": "markdown",
   "metadata": {},
   "source": [
    "50% of the movies got atleast 10 or more votes"
   ]
  },
  {
   "cell_type": "markdown",
   "metadata": {},
   "source": [
    "**20. BUDGET**"
   ]
  },
  {
   "cell_type": "markdown",
   "metadata": {},
   "source": [
    "This feature indicates movie budget. We will convert the data type to float first. "
   ]
  },
  {
   "cell_type": "code",
   "execution_count": 82,
   "metadata": {},
   "outputs": [],
   "source": [
    "movie_metadata_df=movie_metadata_df.astype({'budget':float})"
   ]
  },
  {
   "cell_type": "markdown",
   "metadata": {},
   "source": [
    "Will see how this data distribution is"
   ]
  },
  {
   "cell_type": "code",
   "execution_count": 83,
   "metadata": {},
   "outputs": [
    {
     "data": {
      "text/plain": [
       "count    4.497000e+04\n",
       "mean     4.266441e+06\n",
       "std      1.751220e+07\n",
       "min      0.000000e+00\n",
       "25%      0.000000e+00\n",
       "50%      0.000000e+00\n",
       "75%      0.000000e+00\n",
       "max      3.800000e+08\n",
       "Name: budget, dtype: float64"
      ]
     },
     "execution_count": 83,
     "metadata": {},
     "output_type": "execute_result"
    }
   ],
   "source": [
    "movie_metadata_df.budget.describe()"
   ]
  },
  {
   "cell_type": "code",
   "execution_count": 84,
   "metadata": {},
   "outputs": [
    {
     "data": {
      "text/plain": [
       "80.31354236157439"
      ]
     },
     "execution_count": 84,
     "metadata": {},
     "output_type": "execute_result"
    }
   ],
   "source": [
    "(len(movie_metadata_df[movie_metadata_df.budget == 0])/len(movie_metadata_df))*100"
   ]
  },
  {
   "cell_type": "markdown",
   "metadata": {},
   "source": [
    "Almost 80% of movie in this dataset is marked as budget 0. It is very clear that it cant be true, hence its data issue. Will remove this feature as well"
   ]
  },
  {
   "cell_type": "code",
   "execution_count": 85,
   "metadata": {},
   "outputs": [],
   "source": [
    "movie_metadata_df = movie_metadata_df.drop(columns = ['budget'])"
   ]
  },
  {
   "cell_type": "markdown",
   "metadata": {},
   "source": [
    "**We have done with initial clean up of the movie_metadata dataset. Removed those columns which are of not interest as per our initial analysis. Let us store the unique imdbIds from the metadata file. This we will be using further for merging of the ratings dataset.**"
   ]
  },
  {
   "cell_type": "code",
   "execution_count": 86,
   "metadata": {},
   "outputs": [
    {
     "data": {
      "text/plain": [
       "44970"
      ]
     },
     "execution_count": 86,
     "metadata": {},
     "output_type": "execute_result"
    }
   ],
   "source": [
    "unique_movie_ids = list(movie_metadata_df.id.unique())\n",
    "len(unique_movie_ids)"
   ]
  },
  {
   "cell_type": "markdown",
   "metadata": {},
   "source": [
    "### 2.  EDA ON LINKS_SMALL DATASET"
   ]
  },
  {
   "cell_type": "markdown",
   "metadata": {},
   "source": [
    "Let us load links_small.csv. This file acts as an interconnection table between the movie_metadata and ratings_small. As we have already seen while exploring movie_metadata each movie has got an imdb_id field which is a unique identification of movies. Whereas the ratings_small doesnt have imdb_id, rather it has movieId field. The link_small data file contains the mapping from movieId to imdbId. \n",
    "\n",
    "Hence using the link_small.csv we will be able to relate the datasets movies_metadata and rating_small."
   ]
  },
  {
   "cell_type": "code",
   "execution_count": 87,
   "metadata": {
    "scrolled": true
   },
   "outputs": [
    {
     "name": "stdout",
     "output_type": "stream",
     "text": [
      "<class 'pandas.core.frame.DataFrame'>\n",
      "RangeIndex: 9125 entries, 0 to 9124\n",
      "Data columns (total 3 columns):\n",
      " #   Column   Non-Null Count  Dtype  \n",
      "---  ------   --------------  -----  \n",
      " 0   movieId  9125 non-null   int64  \n",
      " 1   imdbId   9125 non-null   int64  \n",
      " 2   tmdbId   9112 non-null   float64\n",
      "dtypes: float64(1), int64(2)\n",
      "memory usage: 214.0 KB\n"
     ]
    }
   ],
   "source": [
    "links_small = pd.read_csv('links_small.csv')\n",
    "links_small.info()"
   ]
  },
  {
   "cell_type": "code",
   "execution_count": 88,
   "metadata": {},
   "outputs": [
    {
     "data": {
      "text/html": [
       "<div>\n",
       "<style scoped>\n",
       "    .dataframe tbody tr th:only-of-type {\n",
       "        vertical-align: middle;\n",
       "    }\n",
       "\n",
       "    .dataframe tbody tr th {\n",
       "        vertical-align: top;\n",
       "    }\n",
       "\n",
       "    .dataframe thead th {\n",
       "        text-align: right;\n",
       "    }\n",
       "</style>\n",
       "<table border=\"1\" class=\"dataframe\">\n",
       "  <thead>\n",
       "    <tr style=\"text-align: right;\">\n",
       "      <th></th>\n",
       "      <th>movieId</th>\n",
       "      <th>imdbId</th>\n",
       "      <th>tmdbId</th>\n",
       "    </tr>\n",
       "  </thead>\n",
       "  <tbody>\n",
       "    <tr>\n",
       "      <th>0</th>\n",
       "      <td>1</td>\n",
       "      <td>114709</td>\n",
       "      <td>862.0</td>\n",
       "    </tr>\n",
       "    <tr>\n",
       "      <th>1</th>\n",
       "      <td>2</td>\n",
       "      <td>113497</td>\n",
       "      <td>8844.0</td>\n",
       "    </tr>\n",
       "    <tr>\n",
       "      <th>2</th>\n",
       "      <td>3</td>\n",
       "      <td>113228</td>\n",
       "      <td>15602.0</td>\n",
       "    </tr>\n",
       "    <tr>\n",
       "      <th>3</th>\n",
       "      <td>4</td>\n",
       "      <td>114885</td>\n",
       "      <td>31357.0</td>\n",
       "    </tr>\n",
       "    <tr>\n",
       "      <th>4</th>\n",
       "      <td>5</td>\n",
       "      <td>113041</td>\n",
       "      <td>11862.0</td>\n",
       "    </tr>\n",
       "  </tbody>\n",
       "</table>\n",
       "</div>"
      ],
      "text/plain": [
       "   movieId  imdbId   tmdbId\n",
       "0        1  114709    862.0\n",
       "1        2  113497   8844.0\n",
       "2        3  113228  15602.0\n",
       "3        4  114885  31357.0\n",
       "4        5  113041  11862.0"
      ]
     },
     "execution_count": 88,
     "metadata": {},
     "output_type": "execute_result"
    }
   ],
   "source": [
    "links_small.head()"
   ]
  },
  {
   "cell_type": "code",
   "execution_count": 89,
   "metadata": {},
   "outputs": [
    {
     "data": {
      "text/plain": [
       "(9125, 3)"
      ]
     },
     "execution_count": 89,
     "metadata": {},
     "output_type": "execute_result"
    }
   ],
   "source": [
    "links_small.shape"
   ]
  },
  {
   "cell_type": "markdown",
   "metadata": {},
   "source": [
    "**1. MOVIE ID**"
   ]
  },
  {
   "cell_type": "markdown",
   "metadata": {},
   "source": [
    "These are the movie ids present in in links_small dataset. We will see how many unique ids are present."
   ]
  },
  {
   "cell_type": "code",
   "execution_count": 90,
   "metadata": {},
   "outputs": [
    {
     "data": {
      "text/plain": [
       "0    1\n",
       "1    2\n",
       "2    3\n",
       "3    4\n",
       "4    5\n",
       "Name: movieId, dtype: int64"
      ]
     },
     "execution_count": 90,
     "metadata": {},
     "output_type": "execute_result"
    }
   ],
   "source": [
    "links_small.movieId.head(5)"
   ]
  },
  {
   "cell_type": "code",
   "execution_count": 91,
   "metadata": {
    "scrolled": true
   },
   "outputs": [
    {
     "data": {
      "text/plain": [
       "9125"
      ]
     },
     "execution_count": 91,
     "metadata": {},
     "output_type": "execute_result"
    }
   ],
   "source": [
    "links_small.movieId.nunique()"
   ]
  },
  {
   "cell_type": "markdown",
   "metadata": {},
   "source": [
    "**2. TMDB ID**"
   ]
  },
  {
   "cell_type": "markdown",
   "metadata": {},
   "source": [
    "These are the tmdb ids present in in links_small dataset. We will see how many unique ids are present."
   ]
  },
  {
   "cell_type": "code",
   "execution_count": 92,
   "metadata": {},
   "outputs": [
    {
     "data": {
      "text/plain": [
       "0      862.0\n",
       "1     8844.0\n",
       "2    15602.0\n",
       "3    31357.0\n",
       "4    11862.0\n",
       "Name: tmdbId, dtype: float64"
      ]
     },
     "execution_count": 92,
     "metadata": {},
     "output_type": "execute_result"
    }
   ],
   "source": [
    "links_small.tmdbId.head(5)"
   ]
  },
  {
   "cell_type": "code",
   "execution_count": 93,
   "metadata": {
    "scrolled": true
   },
   "outputs": [
    {
     "data": {
      "text/plain": [
       "9112"
      ]
     },
     "execution_count": 93,
     "metadata": {},
     "output_type": "execute_result"
    }
   ],
   "source": [
    "links_small.tmdbId.nunique()"
   ]
  },
  {
   "cell_type": "markdown",
   "metadata": {},
   "source": [
    "**3. IMDB ID**"
   ]
  },
  {
   "cell_type": "markdown",
   "metadata": {},
   "source": [
    "This field is important to us, for every movieId in rating_small dataset corresponding imdb id can e found from this field."
   ]
  },
  {
   "cell_type": "code",
   "execution_count": 94,
   "metadata": {
    "scrolled": true
   },
   "outputs": [
    {
     "data": {
      "text/plain": [
       "0    114709\n",
       "1    113497\n",
       "2    113228\n",
       "3    114885\n",
       "4    113041\n",
       "Name: imdbId, dtype: int64"
      ]
     },
     "execution_count": 94,
     "metadata": {},
     "output_type": "execute_result"
    }
   ],
   "source": [
    "links_small.imdbId.head(5)"
   ]
  },
  {
   "cell_type": "code",
   "execution_count": 95,
   "metadata": {},
   "outputs": [
    {
     "data": {
      "text/plain": [
       "9125"
      ]
     },
     "execution_count": 95,
     "metadata": {},
     "output_type": "execute_result"
    }
   ],
   "source": [
    "links_small.imdbId.nunique()"
   ]
  },
  {
   "cell_type": "markdown",
   "metadata": {},
   "source": [
    "### 3. EDA ON RATINGS_SMALL DATASET"
   ]
  },
  {
   "cell_type": "markdown",
   "metadata": {},
   "source": [
    "RATINGS_SMALL - This data set contains user item interaction details. It contains the ratings given by different user for different movie. This is one of the main input for collaborative filtering.\n",
    "\n",
    "Note that here the unique identification is movieId, to relate the movie_metadata dataset with rating_small we need to use intersction table link_csv. Where the imdbid will acts like a foreign key."
   ]
  },
  {
   "cell_type": "code",
   "execution_count": 96,
   "metadata": {
    "scrolled": true
   },
   "outputs": [
    {
     "name": "stdout",
     "output_type": "stream",
     "text": [
      "<class 'pandas.core.frame.DataFrame'>\n",
      "RangeIndex: 100004 entries, 0 to 100003\n",
      "Data columns (total 4 columns):\n",
      " #   Column     Non-Null Count   Dtype  \n",
      "---  ------     --------------   -----  \n",
      " 0   userId     100004 non-null  int64  \n",
      " 1   movieId    100004 non-null  int64  \n",
      " 2   rating     100004 non-null  float64\n",
      " 3   timestamp  100004 non-null  int64  \n",
      "dtypes: float64(1), int64(3)\n",
      "memory usage: 3.1 MB\n"
     ]
    }
   ],
   "source": [
    "ratings_small = pd.read_csv('ratings_small.csv')\n",
    "ratings_small.info()"
   ]
  },
  {
   "cell_type": "code",
   "execution_count": 97,
   "metadata": {},
   "outputs": [
    {
     "data": {
      "text/plain": [
       "(100004, 4)"
      ]
     },
     "execution_count": 97,
     "metadata": {},
     "output_type": "execute_result"
    }
   ],
   "source": [
    "ratings_small.shape"
   ]
  },
  {
   "cell_type": "markdown",
   "metadata": {},
   "source": [
    "There are about 100004 ratings in this dataset with 4 features"
   ]
  },
  {
   "cell_type": "code",
   "execution_count": 98,
   "metadata": {},
   "outputs": [
    {
     "data": {
      "text/html": [
       "<div>\n",
       "<style scoped>\n",
       "    .dataframe tbody tr th:only-of-type {\n",
       "        vertical-align: middle;\n",
       "    }\n",
       "\n",
       "    .dataframe tbody tr th {\n",
       "        vertical-align: top;\n",
       "    }\n",
       "\n",
       "    .dataframe thead th {\n",
       "        text-align: right;\n",
       "    }\n",
       "</style>\n",
       "<table border=\"1\" class=\"dataframe\">\n",
       "  <thead>\n",
       "    <tr style=\"text-align: right;\">\n",
       "      <th></th>\n",
       "      <th>userId</th>\n",
       "      <th>movieId</th>\n",
       "      <th>rating</th>\n",
       "      <th>timestamp</th>\n",
       "    </tr>\n",
       "  </thead>\n",
       "  <tbody>\n",
       "    <tr>\n",
       "      <th>0</th>\n",
       "      <td>1</td>\n",
       "      <td>31</td>\n",
       "      <td>2.5</td>\n",
       "      <td>1260759144</td>\n",
       "    </tr>\n",
       "    <tr>\n",
       "      <th>1</th>\n",
       "      <td>1</td>\n",
       "      <td>1029</td>\n",
       "      <td>3.0</td>\n",
       "      <td>1260759179</td>\n",
       "    </tr>\n",
       "    <tr>\n",
       "      <th>2</th>\n",
       "      <td>1</td>\n",
       "      <td>1061</td>\n",
       "      <td>3.0</td>\n",
       "      <td>1260759182</td>\n",
       "    </tr>\n",
       "    <tr>\n",
       "      <th>3</th>\n",
       "      <td>1</td>\n",
       "      <td>1129</td>\n",
       "      <td>2.0</td>\n",
       "      <td>1260759185</td>\n",
       "    </tr>\n",
       "    <tr>\n",
       "      <th>4</th>\n",
       "      <td>1</td>\n",
       "      <td>1172</td>\n",
       "      <td>4.0</td>\n",
       "      <td>1260759205</td>\n",
       "    </tr>\n",
       "  </tbody>\n",
       "</table>\n",
       "</div>"
      ],
      "text/plain": [
       "   userId  movieId  rating   timestamp\n",
       "0       1       31     2.5  1260759144\n",
       "1       1     1029     3.0  1260759179\n",
       "2       1     1061     3.0  1260759182\n",
       "3       1     1129     2.0  1260759185\n",
       "4       1     1172     4.0  1260759205"
      ]
     },
     "execution_count": 98,
     "metadata": {},
     "output_type": "execute_result"
    }
   ],
   "source": [
    "ratings_small.head(5)"
   ]
  },
  {
   "cell_type": "markdown",
   "metadata": {},
   "source": [
    "**1. USER ID**"
   ]
  },
  {
   "cell_type": "markdown",
   "metadata": {},
   "source": [
    "We will analyse how many unique users are present in this dataset:"
   ]
  },
  {
   "cell_type": "code",
   "execution_count": 99,
   "metadata": {},
   "outputs": [
    {
     "data": {
      "text/plain": [
       "671"
      ]
     },
     "execution_count": 99,
     "metadata": {},
     "output_type": "execute_result"
    }
   ],
   "source": [
    "ratings_small.userId.nunique()"
   ]
  },
  {
   "cell_type": "markdown",
   "metadata": {},
   "source": [
    "We can observe there are 671 unique users. Lets see how many inetractions each user has made as per this dataset"
   ]
  },
  {
   "cell_type": "code",
   "execution_count": 100,
   "metadata": {},
   "outputs": [
    {
     "data": {
      "text/plain": [
       "count     671.000000\n",
       "mean      149.037258\n",
       "std       231.226948\n",
       "min        20.000000\n",
       "25%        37.000000\n",
       "50%        71.000000\n",
       "75%       161.000000\n",
       "max      2391.000000\n",
       "Name: movieId, dtype: float64"
      ]
     },
     "execution_count": 100,
     "metadata": {},
     "output_type": "execute_result"
    }
   ],
   "source": [
    "ratings_small.groupby('userId')['movieId'].size().describe()"
   ]
  },
  {
   "cell_type": "markdown",
   "metadata": {},
   "source": [
    "Minimum number of review made by any user is 20 as per this dataset. Which is a very good number for starting with colaborative filtering as users latent behavior can be well captured due to rich interaction pattern. Lets print the user id along with number of intractions"
   ]
  },
  {
   "cell_type": "code",
   "execution_count": 101,
   "metadata": {
    "scrolled": true
   },
   "outputs": [
    {
     "data": {
      "text/plain": [
       "userId\n",
       "547    2391\n",
       "564    1868\n",
       "624    1735\n",
       "15     1700\n",
       "73     1610\n",
       "       ... \n",
       "444      20\n",
       "445      20\n",
       "448      20\n",
       "498      20\n",
       "1        20\n",
       "Name: movieId, Length: 671, dtype: int64"
      ]
     },
     "execution_count": 101,
     "metadata": {},
     "output_type": "execute_result"
    }
   ],
   "source": [
    "ratings_small.groupby('userId')['movieId'].size().sort_values(ascending=False)"
   ]
  },
  {
   "cell_type": "markdown",
   "metadata": {},
   "source": [
    "**As we can see the minimum interaction between user and movie list is 20. Which is a good number for deriving collatborative as well as content based filtering. No need to remove any of the user.**"
   ]
  },
  {
   "cell_type": "code",
   "execution_count": 102,
   "metadata": {},
   "outputs": [
    {
     "data": {
      "text/plain": [
       "userId\n",
       "1       20\n",
       "2       76\n",
       "3       51\n",
       "4      204\n",
       "5      100\n",
       "      ... \n",
       "667     68\n",
       "668     20\n",
       "669     37\n",
       "670     31\n",
       "671    115\n",
       "Length: 671, dtype: int64"
      ]
     },
     "execution_count": 102,
     "metadata": {},
     "output_type": "execute_result"
    }
   ],
   "source": [
    "ratings_small.groupby(['userId', 'movieId']).size().groupby('userId').size()"
   ]
  },
  {
   "cell_type": "markdown",
   "metadata": {},
   "source": [
    "**2.MOVIE ID**"
   ]
  },
  {
   "cell_type": "markdown",
   "metadata": {},
   "source": [
    "This feature indicates the movieid. This is the unique identification for movies present in this dataset. "
   ]
  },
  {
   "cell_type": "code",
   "execution_count": 103,
   "metadata": {
    "scrolled": true
   },
   "outputs": [
    {
     "data": {
      "text/plain": [
       "9066"
      ]
     },
     "execution_count": 103,
     "metadata": {},
     "output_type": "execute_result"
    }
   ],
   "source": [
    "ratings_small.movieId.nunique()"
   ]
  },
  {
   "cell_type": "markdown",
   "metadata": {},
   "source": [
    "There are only 9066 unique movies present in this dataset."
   ]
  },
  {
   "cell_type": "code",
   "execution_count": 104,
   "metadata": {},
   "outputs": [
    {
     "data": {
      "text/plain": [
       "count    9066.000000\n",
       "mean       11.030664\n",
       "std        24.050800\n",
       "min         1.000000\n",
       "25%         1.000000\n",
       "50%         3.000000\n",
       "75%         9.000000\n",
       "max       341.000000\n",
       "Name: userId, dtype: float64"
      ]
     },
     "execution_count": 104,
     "metadata": {},
     "output_type": "execute_result"
    }
   ],
   "source": [
    "ratings_small.groupby('movieId')['userId'].size().describe()"
   ]
  },
  {
   "cell_type": "markdown",
   "metadata": {},
   "source": [
    "The data indicates 50% of the movies are reviewed and rated by 3 users or more."
   ]
  },
  {
   "cell_type": "markdown",
   "metadata": {},
   "source": [
    "**3. RATING**"
   ]
  },
  {
   "cell_type": "markdown",
   "metadata": {},
   "source": [
    "These are the actual rating given by the user for each movie"
   ]
  },
  {
   "cell_type": "code",
   "execution_count": 105,
   "metadata": {},
   "outputs": [
    {
     "data": {
      "text/plain": [
       "count    100004.000000\n",
       "mean          3.543608\n",
       "std           1.058064\n",
       "min           0.500000\n",
       "25%           3.000000\n",
       "50%           4.000000\n",
       "75%           4.000000\n",
       "max           5.000000\n",
       "Name: rating, dtype: float64"
      ]
     },
     "execution_count": 105,
     "metadata": {},
     "output_type": "execute_result"
    }
   ],
   "source": [
    "ratings_small.rating.describe()"
   ]
  },
  {
   "cell_type": "markdown",
   "metadata": {},
   "source": [
    "Almost 75 percentile of the movies has got rating of 3 or above. Minimum as low as 0.5 to max upto 5."
   ]
  },
  {
   "cell_type": "markdown",
   "metadata": {},
   "source": [
    "Let us check the average ratings per user"
   ]
  },
  {
   "cell_type": "code",
   "execution_count": 106,
   "metadata": {},
   "outputs": [
    {
     "data": {
      "text/plain": [
       "userId\n",
       "1      2.550000\n",
       "2      3.486842\n",
       "3      3.568627\n",
       "4      4.348039\n",
       "5      3.910000\n",
       "         ...   \n",
       "667    3.647059\n",
       "668    3.750000\n",
       "669    3.351351\n",
       "670    3.806452\n",
       "671    3.917391\n",
       "Name: rating, Length: 671, dtype: float64"
      ]
     },
     "execution_count": 106,
     "metadata": {},
     "output_type": "execute_result"
    }
   ],
   "source": [
    "ratings_small.groupby(['userId']).rating.mean()"
   ]
  },
  {
   "cell_type": "code",
   "execution_count": 107,
   "metadata": {},
   "outputs": [
    {
     "data": {
      "text/html": [
       "<div>\n",
       "<style scoped>\n",
       "    .dataframe tbody tr th:only-of-type {\n",
       "        vertical-align: middle;\n",
       "    }\n",
       "\n",
       "    .dataframe tbody tr th {\n",
       "        vertical-align: top;\n",
       "    }\n",
       "\n",
       "    .dataframe thead th {\n",
       "        text-align: right;\n",
       "    }\n",
       "</style>\n",
       "<table border=\"1\" class=\"dataframe\">\n",
       "  <thead>\n",
       "    <tr style=\"text-align: right;\">\n",
       "      <th></th>\n",
       "      <th>count</th>\n",
       "      <th>mean</th>\n",
       "      <th>std</th>\n",
       "      <th>min</th>\n",
       "      <th>25%</th>\n",
       "      <th>50%</th>\n",
       "      <th>75%</th>\n",
       "      <th>max</th>\n",
       "    </tr>\n",
       "    <tr>\n",
       "      <th>userId</th>\n",
       "      <th></th>\n",
       "      <th></th>\n",
       "      <th></th>\n",
       "      <th></th>\n",
       "      <th></th>\n",
       "      <th></th>\n",
       "      <th></th>\n",
       "      <th></th>\n",
       "    </tr>\n",
       "  </thead>\n",
       "  <tbody>\n",
       "    <tr>\n",
       "      <th>1</th>\n",
       "      <td>20.0</td>\n",
       "      <td>2.550000</td>\n",
       "      <td>0.887041</td>\n",
       "      <td>1.0</td>\n",
       "      <td>2.0</td>\n",
       "      <td>2.5</td>\n",
       "      <td>3.0</td>\n",
       "      <td>4.0</td>\n",
       "    </tr>\n",
       "    <tr>\n",
       "      <th>2</th>\n",
       "      <td>76.0</td>\n",
       "      <td>3.486842</td>\n",
       "      <td>0.901753</td>\n",
       "      <td>1.0</td>\n",
       "      <td>3.0</td>\n",
       "      <td>3.0</td>\n",
       "      <td>4.0</td>\n",
       "      <td>5.0</td>\n",
       "    </tr>\n",
       "    <tr>\n",
       "      <th>3</th>\n",
       "      <td>51.0</td>\n",
       "      <td>3.568627</td>\n",
       "      <td>0.741752</td>\n",
       "      <td>2.0</td>\n",
       "      <td>3.0</td>\n",
       "      <td>3.5</td>\n",
       "      <td>4.0</td>\n",
       "      <td>5.0</td>\n",
       "    </tr>\n",
       "    <tr>\n",
       "      <th>4</th>\n",
       "      <td>204.0</td>\n",
       "      <td>4.348039</td>\n",
       "      <td>0.947616</td>\n",
       "      <td>1.0</td>\n",
       "      <td>4.0</td>\n",
       "      <td>5.0</td>\n",
       "      <td>5.0</td>\n",
       "      <td>5.0</td>\n",
       "    </tr>\n",
       "    <tr>\n",
       "      <th>5</th>\n",
       "      <td>100.0</td>\n",
       "      <td>3.910000</td>\n",
       "      <td>0.565775</td>\n",
       "      <td>1.5</td>\n",
       "      <td>3.5</td>\n",
       "      <td>4.0</td>\n",
       "      <td>4.0</td>\n",
       "      <td>5.0</td>\n",
       "    </tr>\n",
       "    <tr>\n",
       "      <th>...</th>\n",
       "      <td>...</td>\n",
       "      <td>...</td>\n",
       "      <td>...</td>\n",
       "      <td>...</td>\n",
       "      <td>...</td>\n",
       "      <td>...</td>\n",
       "      <td>...</td>\n",
       "      <td>...</td>\n",
       "    </tr>\n",
       "    <tr>\n",
       "      <th>667</th>\n",
       "      <td>68.0</td>\n",
       "      <td>3.647059</td>\n",
       "      <td>0.842255</td>\n",
       "      <td>2.0</td>\n",
       "      <td>3.0</td>\n",
       "      <td>4.0</td>\n",
       "      <td>4.0</td>\n",
       "      <td>5.0</td>\n",
       "    </tr>\n",
       "    <tr>\n",
       "      <th>668</th>\n",
       "      <td>20.0</td>\n",
       "      <td>3.750000</td>\n",
       "      <td>1.292692</td>\n",
       "      <td>1.0</td>\n",
       "      <td>3.0</td>\n",
       "      <td>4.0</td>\n",
       "      <td>5.0</td>\n",
       "      <td>5.0</td>\n",
       "    </tr>\n",
       "    <tr>\n",
       "      <th>669</th>\n",
       "      <td>37.0</td>\n",
       "      <td>3.351351</td>\n",
       "      <td>0.919427</td>\n",
       "      <td>2.0</td>\n",
       "      <td>3.0</td>\n",
       "      <td>3.0</td>\n",
       "      <td>4.0</td>\n",
       "      <td>5.0</td>\n",
       "    </tr>\n",
       "    <tr>\n",
       "      <th>670</th>\n",
       "      <td>31.0</td>\n",
       "      <td>3.806452</td>\n",
       "      <td>1.222548</td>\n",
       "      <td>1.0</td>\n",
       "      <td>3.0</td>\n",
       "      <td>4.0</td>\n",
       "      <td>5.0</td>\n",
       "      <td>5.0</td>\n",
       "    </tr>\n",
       "    <tr>\n",
       "      <th>671</th>\n",
       "      <td>115.0</td>\n",
       "      <td>3.917391</td>\n",
       "      <td>0.763563</td>\n",
       "      <td>1.0</td>\n",
       "      <td>3.5</td>\n",
       "      <td>4.0</td>\n",
       "      <td>4.0</td>\n",
       "      <td>5.0</td>\n",
       "    </tr>\n",
       "  </tbody>\n",
       "</table>\n",
       "<p>671 rows × 8 columns</p>\n",
       "</div>"
      ],
      "text/plain": [
       "        count      mean       std  min  25%  50%  75%  max\n",
       "userId                                                    \n",
       "1        20.0  2.550000  0.887041  1.0  2.0  2.5  3.0  4.0\n",
       "2        76.0  3.486842  0.901753  1.0  3.0  3.0  4.0  5.0\n",
       "3        51.0  3.568627  0.741752  2.0  3.0  3.5  4.0  5.0\n",
       "4       204.0  4.348039  0.947616  1.0  4.0  5.0  5.0  5.0\n",
       "5       100.0  3.910000  0.565775  1.5  3.5  4.0  4.0  5.0\n",
       "...       ...       ...       ...  ...  ...  ...  ...  ...\n",
       "667      68.0  3.647059  0.842255  2.0  3.0  4.0  4.0  5.0\n",
       "668      20.0  3.750000  1.292692  1.0  3.0  4.0  5.0  5.0\n",
       "669      37.0  3.351351  0.919427  2.0  3.0  3.0  4.0  5.0\n",
       "670      31.0  3.806452  1.222548  1.0  3.0  4.0  5.0  5.0\n",
       "671     115.0  3.917391  0.763563  1.0  3.5  4.0  4.0  5.0\n",
       "\n",
       "[671 rows x 8 columns]"
      ]
     },
     "execution_count": 107,
     "metadata": {},
     "output_type": "execute_result"
    }
   ],
   "source": [
    "ratings_small.groupby(['userId']).rating.describe()"
   ]
  },
  {
   "cell_type": "code",
   "execution_count": 108,
   "metadata": {
    "scrolled": true
   },
   "outputs": [
    {
     "data": {
      "text/plain": [
       "<matplotlib.axes._subplots.AxesSubplot at 0x26f81a5abe0>"
      ]
     },
     "execution_count": 108,
     "metadata": {},
     "output_type": "execute_result"
    },
    {
     "data": {
      "image/png": "[encoded data removed]",
      "text/plain": [
       "<Figure size 1584x720 with 2 Axes>"
      ]
     },
     "metadata": {
      "needs_background": "light"
     },
     "output_type": "display_data"
    }
   ],
   "source": [
    "plt.figure(figsize = (22, 10))\n",
    "plt.subplot(1, 2, 1)\n",
    "sns.distplot(ratings_small.groupby(['userId']).rating.mean())\n",
    "plt.subplot(1, 2, 2)\n",
    "sns.boxplot(ratings_small.groupby(['userId']).rating.mean())"
   ]
  },
  {
   "cell_type": "markdown",
   "metadata": {},
   "source": [
    "**4. TIMESTAMP**"
   ]
  },
  {
   "cell_type": "markdown",
   "metadata": {},
   "source": [
    "We will convert the time stanp to datetime object"
   ]
  },
  {
   "cell_type": "code",
   "execution_count": 109,
   "metadata": {},
   "outputs": [],
   "source": [
    "ratings_small['timestamp'] = ratings_small['timestamp'].apply(lambda x: datetime.fromtimestamp(x))"
   ]
  },
  {
   "cell_type": "code",
   "execution_count": 110,
   "metadata": {},
   "outputs": [
    {
     "data": {
      "text/plain": [
       "Timestamp('1995-01-09 17:16:49')"
      ]
     },
     "execution_count": 110,
     "metadata": {},
     "output_type": "execute_result"
    }
   ],
   "source": [
    "ratings_small['timestamp'].min()"
   ]
  },
  {
   "cell_type": "code",
   "execution_count": 111,
   "metadata": {},
   "outputs": [
    {
     "data": {
      "text/plain": [
       "Timestamp('2016-10-16 23:27:24')"
      ]
     },
     "execution_count": 111,
     "metadata": {},
     "output_type": "execute_result"
    }
   ],
   "source": [
    "ratings_small['timestamp'].max()"
   ]
  },
  {
   "cell_type": "markdown",
   "metadata": {},
   "source": [
    "The ratings are capture for the period 1995 to 2016"
   ]
  },
  {
   "cell_type": "code",
   "execution_count": 112,
   "metadata": {},
   "outputs": [
    {
     "data": {
      "text/plain": [
       "Index(['userId', 'movieId', 'rating', 'timestamp'], dtype='object')"
      ]
     },
     "execution_count": 112,
     "metadata": {},
     "output_type": "execute_result"
    }
   ],
   "source": [
    "ratings_small.columns"
   ]
  },
  {
   "cell_type": "markdown",
   "metadata": {},
   "source": [
    "### MERGE RATING_SMALL DATASET WITH LINKS_SMALL DATSET "
   ]
  },
  {
   "cell_type": "markdown",
   "metadata": {},
   "source": [
    "There are 9125 unique movies in Link_small, but there are only 9066 movies in ratings. \n",
    "Let us merge links_small with ratings_small dataset on movieId column. The resultant DF will have imdbId as the primary key. "
   ]
  },
  {
   "cell_type": "code",
   "execution_count": 113,
   "metadata": {},
   "outputs": [],
   "source": [
    "ratings_with_imdb_id = pd.merge(left=ratings_small, right=links_small, left_on='movieId', right_on='movieId')"
   ]
  },
  {
   "cell_type": "code",
   "execution_count": 114,
   "metadata": {},
   "outputs": [
    {
     "data": {
      "text/plain": [
       "(100004, 6)"
      ]
     },
     "execution_count": 114,
     "metadata": {},
     "output_type": "execute_result"
    }
   ],
   "source": [
    "ratings_with_imdb_id.shape"
   ]
  },
  {
   "cell_type": "markdown",
   "metadata": {},
   "source": [
    "After merging as well there are 100004 reviews present. This indicates that all the movies in the ratings_small dataset is present in links_small dataset as well"
   ]
  },
  {
   "cell_type": "code",
   "execution_count": 115,
   "metadata": {},
   "outputs": [
    {
     "data": {
      "text/html": [
       "<div>\n",
       "<style scoped>\n",
       "    .dataframe tbody tr th:only-of-type {\n",
       "        vertical-align: middle;\n",
       "    }\n",
       "\n",
       "    .dataframe tbody tr th {\n",
       "        vertical-align: top;\n",
       "    }\n",
       "\n",
       "    .dataframe thead th {\n",
       "        text-align: right;\n",
       "    }\n",
       "</style>\n",
       "<table border=\"1\" class=\"dataframe\">\n",
       "  <thead>\n",
       "    <tr style=\"text-align: right;\">\n",
       "      <th></th>\n",
       "      <th>userId</th>\n",
       "      <th>movieId</th>\n",
       "      <th>rating</th>\n",
       "      <th>timestamp</th>\n",
       "      <th>imdbId</th>\n",
       "      <th>tmdbId</th>\n",
       "    </tr>\n",
       "  </thead>\n",
       "  <tbody>\n",
       "    <tr>\n",
       "      <th>0</th>\n",
       "      <td>1</td>\n",
       "      <td>31</td>\n",
       "      <td>2.5</td>\n",
       "      <td>2009-12-14 08:22:24</td>\n",
       "      <td>112792</td>\n",
       "      <td>9909.0</td>\n",
       "    </tr>\n",
       "    <tr>\n",
       "      <th>1</th>\n",
       "      <td>7</td>\n",
       "      <td>31</td>\n",
       "      <td>3.0</td>\n",
       "      <td>1996-12-29 19:42:30</td>\n",
       "      <td>112792</td>\n",
       "      <td>9909.0</td>\n",
       "    </tr>\n",
       "    <tr>\n",
       "      <th>2</th>\n",
       "      <td>31</td>\n",
       "      <td>31</td>\n",
       "      <td>4.0</td>\n",
       "      <td>2010-05-11 07:09:13</td>\n",
       "      <td>112792</td>\n",
       "      <td>9909.0</td>\n",
       "    </tr>\n",
       "    <tr>\n",
       "      <th>3</th>\n",
       "      <td>32</td>\n",
       "      <td>31</td>\n",
       "      <td>4.0</td>\n",
       "      <td>1996-06-15 14:17:20</td>\n",
       "      <td>112792</td>\n",
       "      <td>9909.0</td>\n",
       "    </tr>\n",
       "    <tr>\n",
       "      <th>4</th>\n",
       "      <td>36</td>\n",
       "      <td>31</td>\n",
       "      <td>3.0</td>\n",
       "      <td>1996-11-04 03:10:02</td>\n",
       "      <td>112792</td>\n",
       "      <td>9909.0</td>\n",
       "    </tr>\n",
       "  </tbody>\n",
       "</table>\n",
       "</div>"
      ],
      "text/plain": [
       "   userId  movieId  rating           timestamp  imdbId  tmdbId\n",
       "0       1       31     2.5 2009-12-14 08:22:24  112792  9909.0\n",
       "1       7       31     3.0 1996-12-29 19:42:30  112792  9909.0\n",
       "2      31       31     4.0 2010-05-11 07:09:13  112792  9909.0\n",
       "3      32       31     4.0 1996-06-15 14:17:20  112792  9909.0\n",
       "4      36       31     3.0 1996-11-04 03:10:02  112792  9909.0"
      ]
     },
     "execution_count": 115,
     "metadata": {},
     "output_type": "execute_result"
    }
   ],
   "source": [
    "ratings_with_imdb_id.head(5)"
   ]
  },
  {
   "cell_type": "markdown",
   "metadata": {},
   "source": [
    "Lets print count of unique movie id, imdb id and user id, to ensure merge hasnt resulted in any reduction. Since ratings_small is subset of links_small no reduction in any of the features are expected."
   ]
  },
  {
   "cell_type": "code",
   "execution_count": 116,
   "metadata": {},
   "outputs": [
    {
     "data": {
      "text/plain": [
       "671"
      ]
     },
     "execution_count": 116,
     "metadata": {},
     "output_type": "execute_result"
    }
   ],
   "source": [
    "ratings_with_imdb_id.userId.nunique()"
   ]
  },
  {
   "cell_type": "code",
   "execution_count": 117,
   "metadata": {},
   "outputs": [
    {
     "data": {
      "text/plain": [
       "9066"
      ]
     },
     "execution_count": 117,
     "metadata": {},
     "output_type": "execute_result"
    }
   ],
   "source": [
    "ratings_with_imdb_id.movieId.nunique()"
   ]
  },
  {
   "cell_type": "code",
   "execution_count": 118,
   "metadata": {},
   "outputs": [
    {
     "data": {
      "text/plain": [
       "9066"
      ]
     },
     "execution_count": 118,
     "metadata": {},
     "output_type": "execute_result"
    }
   ],
   "source": [
    "ratings_with_imdb_id.imdbId.nunique()"
   ]
  },
  {
   "cell_type": "markdown",
   "metadata": {},
   "source": [
    "Now let us extract only those field which are needed for Collaborative filtering from this merged Dataframe. The features we are interested in are:\n",
    "1. userId<br>\n",
    "2. imdbId<br>\n",
    "3. rating<br>\n",
    "\n",
    "Note that we are using imdbId as it is common between movie_metadata dataset and merged_dataset\n",
    "\n",
    "**CREATING DATASET FOR COLLABORATIVE FILTERING**"
   ]
  },
  {
   "cell_type": "code",
   "execution_count": 119,
   "metadata": {},
   "outputs": [],
   "source": [
    "rating_dataset = ratings_with_imdb_id[['userId', 'imdbId', 'rating']]"
   ]
  },
  {
   "cell_type": "code",
   "execution_count": 120,
   "metadata": {},
   "outputs": [
    {
     "data": {
      "text/plain": [
       "(100004, 3)"
      ]
     },
     "execution_count": 120,
     "metadata": {},
     "output_type": "execute_result"
    }
   ],
   "source": [
    "rating_dataset.shape"
   ]
  },
  {
   "cell_type": "code",
   "execution_count": 121,
   "metadata": {},
   "outputs": [
    {
     "data": {
      "text/html": [
       "<div>\n",
       "<style scoped>\n",
       "    .dataframe tbody tr th:only-of-type {\n",
       "        vertical-align: middle;\n",
       "    }\n",
       "\n",
       "    .dataframe tbody tr th {\n",
       "        vertical-align: top;\n",
       "    }\n",
       "\n",
       "    .dataframe thead th {\n",
       "        text-align: right;\n",
       "    }\n",
       "</style>\n",
       "<table border=\"1\" class=\"dataframe\">\n",
       "  <thead>\n",
       "    <tr style=\"text-align: right;\">\n",
       "      <th></th>\n",
       "      <th>userId</th>\n",
       "      <th>imdbId</th>\n",
       "      <th>rating</th>\n",
       "    </tr>\n",
       "  </thead>\n",
       "  <tbody>\n",
       "    <tr>\n",
       "      <th>0</th>\n",
       "      <td>1</td>\n",
       "      <td>112792</td>\n",
       "      <td>2.5</td>\n",
       "    </tr>\n",
       "    <tr>\n",
       "      <th>1</th>\n",
       "      <td>7</td>\n",
       "      <td>112792</td>\n",
       "      <td>3.0</td>\n",
       "    </tr>\n",
       "    <tr>\n",
       "      <th>2</th>\n",
       "      <td>31</td>\n",
       "      <td>112792</td>\n",
       "      <td>4.0</td>\n",
       "    </tr>\n",
       "    <tr>\n",
       "      <th>3</th>\n",
       "      <td>32</td>\n",
       "      <td>112792</td>\n",
       "      <td>4.0</td>\n",
       "    </tr>\n",
       "    <tr>\n",
       "      <th>4</th>\n",
       "      <td>36</td>\n",
       "      <td>112792</td>\n",
       "      <td>3.0</td>\n",
       "    </tr>\n",
       "  </tbody>\n",
       "</table>\n",
       "</div>"
      ],
      "text/plain": [
       "   userId  imdbId  rating\n",
       "0       1  112792     2.5\n",
       "1       7  112792     3.0\n",
       "2      31  112792     4.0\n",
       "3      32  112792     4.0\n",
       "4      36  112792     3.0"
      ]
     },
     "execution_count": 121,
     "metadata": {},
     "output_type": "execute_result"
    }
   ],
   "source": [
    "rating_dataset.head(5)"
   ]
  },
  {
   "cell_type": "markdown",
   "metadata": {},
   "source": [
    "### 4. EDA ON KEYWORDS DATASET"
   ]
  },
  {
   "cell_type": "markdown",
   "metadata": {},
   "source": [
    "Read the dataset 'keyword'. This contains key word corresponding to each of the movie.\n",
    "\n",
    "Note that keyword data set and movie_metadata dataset are closely related. Record in  movie_metadata dataset has got corresponding keyword entry in keyword dataset."
   ]
  },
  {
   "cell_type": "code",
   "execution_count": 122,
   "metadata": {},
   "outputs": [],
   "source": [
    "movie_keyword = pd.read_csv('keywords.csv')"
   ]
  },
  {
   "cell_type": "code",
   "execution_count": 123,
   "metadata": {},
   "outputs": [
    {
     "data": {
      "text/plain": [
       "(46419, 2)"
      ]
     },
     "execution_count": 123,
     "metadata": {},
     "output_type": "execute_result"
    }
   ],
   "source": [
    "movie_keyword.shape"
   ]
  },
  {
   "cell_type": "markdown",
   "metadata": {},
   "source": [
    "Let us print the columns of movie_keyword dataset"
   ]
  },
  {
   "cell_type": "code",
   "execution_count": 124,
   "metadata": {},
   "outputs": [
    {
     "data": {
      "text/plain": [
       "Index(['id', 'keywords'], dtype='object')"
      ]
     },
     "execution_count": 124,
     "metadata": {},
     "output_type": "execute_result"
    }
   ],
   "source": [
    "movie_keyword.columns"
   ]
  },
  {
   "cell_type": "markdown",
   "metadata": {},
   "source": [
    "Remove duplicate records if any"
   ]
  },
  {
   "cell_type": "code",
   "execution_count": 125,
   "metadata": {},
   "outputs": [],
   "source": [
    "movie_keyword = movie_keyword.drop_duplicates()"
   ]
  },
  {
   "cell_type": "code",
   "execution_count": 126,
   "metadata": {},
   "outputs": [
    {
     "data": {
      "text/plain": [
       "(45432, 2)"
      ]
     },
     "execution_count": 126,
     "metadata": {},
     "output_type": "execute_result"
    }
   ],
   "source": [
    "movie_keyword.shape"
   ]
  },
  {
   "cell_type": "markdown",
   "metadata": {},
   "source": [
    "The common field between movie_metadata and keyword is \"id\" field.\n",
    "\n",
    "**1. ID FIELD:**"
   ]
  },
  {
   "cell_type": "code",
   "execution_count": 127,
   "metadata": {},
   "outputs": [
    {
     "data": {
      "text/plain": [
       "45432"
      ]
     },
     "execution_count": 127,
     "metadata": {},
     "output_type": "execute_result"
    }
   ],
   "source": [
    "movie_keyword.id.nunique()"
   ]
  },
  {
   "cell_type": "markdown",
   "metadata": {},
   "source": [
    "**2. KEYWORDS**"
   ]
  },
  {
   "cell_type": "code",
   "execution_count": 128,
   "metadata": {},
   "outputs": [
    {
     "data": {
      "text/plain": [
       "0    [{'id': 931, 'name': 'jealousy'}, {'id': 4290,...\n",
       "1    [{'id': 10090, 'name': 'board game'}, {'id': 1...\n",
       "2    [{'id': 1495, 'name': 'fishing'}, {'id': 12392...\n",
       "3    [{'id': 818, 'name': 'based on novel'}, {'id':...\n",
       "4    [{'id': 1009, 'name': 'baby'}, {'id': 1599, 'n...\n",
       "Name: keywords, dtype: object"
      ]
     },
     "execution_count": 128,
     "metadata": {},
     "output_type": "execute_result"
    }
   ],
   "source": [
    "movie_keyword['keywords'].head(5)"
   ]
  },
  {
   "cell_type": "markdown",
   "metadata": {},
   "source": [
    "This field is also in the form of list of key value pair. We are interested only on value part so that we can use for creating a Bag of word representation.\n",
    "\n",
    "Will extract only required data from the above field using th function which is written above."
   ]
  },
  {
   "cell_type": "code",
   "execution_count": 129,
   "metadata": {},
   "outputs": [],
   "source": [
    "movie_keyword['movie_keywords'] = movie_keyword.keywords.apply(lambda x: retrieve_content(x, 'name', seperator = ' '))"
   ]
  },
  {
   "cell_type": "code",
   "execution_count": 130,
   "metadata": {},
   "outputs": [
    {
     "data": {
      "text/html": [
       "<div>\n",
       "<style scoped>\n",
       "    .dataframe tbody tr th:only-of-type {\n",
       "        vertical-align: middle;\n",
       "    }\n",
       "\n",
       "    .dataframe tbody tr th {\n",
       "        vertical-align: top;\n",
       "    }\n",
       "\n",
       "    .dataframe thead th {\n",
       "        text-align: right;\n",
       "    }\n",
       "</style>\n",
       "<table border=\"1\" class=\"dataframe\">\n",
       "  <thead>\n",
       "    <tr style=\"text-align: right;\">\n",
       "      <th></th>\n",
       "      <th>keywords</th>\n",
       "      <th>movie_keywords</th>\n",
       "    </tr>\n",
       "  </thead>\n",
       "  <tbody>\n",
       "    <tr>\n",
       "      <th>0</th>\n",
       "      <td>[{'id': 931, 'name': 'jealousy'}, {'id': 4290,...</td>\n",
       "      <td>jealousy toy boy friendship friends rivalry bo...</td>\n",
       "    </tr>\n",
       "    <tr>\n",
       "      <th>1</th>\n",
       "      <td>[{'id': 10090, 'name': 'board game'}, {'id': 1...</td>\n",
       "      <td>board game disappearance based on children's b...</td>\n",
       "    </tr>\n",
       "    <tr>\n",
       "      <th>2</th>\n",
       "      <td>[{'id': 1495, 'name': 'fishing'}, {'id': 12392...</td>\n",
       "      <td>fishing best friend duringcreditsstinger old men</td>\n",
       "    </tr>\n",
       "    <tr>\n",
       "      <th>3</th>\n",
       "      <td>[{'id': 818, 'name': 'based on novel'}, {'id':...</td>\n",
       "      <td>based on novel interracial relationship single...</td>\n",
       "    </tr>\n",
       "    <tr>\n",
       "      <th>4</th>\n",
       "      <td>[{'id': 1009, 'name': 'baby'}, {'id': 1599, 'n...</td>\n",
       "      <td>baby midlife crisis confidence aging daughter ...</td>\n",
       "    </tr>\n",
       "  </tbody>\n",
       "</table>\n",
       "</div>"
      ],
      "text/plain": [
       "                                            keywords  \\\n",
       "0  [{'id': 931, 'name': 'jealousy'}, {'id': 4290,...   \n",
       "1  [{'id': 10090, 'name': 'board game'}, {'id': 1...   \n",
       "2  [{'id': 1495, 'name': 'fishing'}, {'id': 12392...   \n",
       "3  [{'id': 818, 'name': 'based on novel'}, {'id':...   \n",
       "4  [{'id': 1009, 'name': 'baby'}, {'id': 1599, 'n...   \n",
       "\n",
       "                                      movie_keywords  \n",
       "0  jealousy toy boy friendship friends rivalry bo...  \n",
       "1  board game disappearance based on children's b...  \n",
       "2   fishing best friend duringcreditsstinger old men  \n",
       "3  based on novel interracial relationship single...  \n",
       "4  baby midlife crisis confidence aging daughter ...  "
      ]
     },
     "execution_count": 130,
     "metadata": {},
     "output_type": "execute_result"
    }
   ],
   "source": [
    "movie_keyword[['keywords', 'movie_keywords']].head(5)"
   ]
  },
  {
   "cell_type": "markdown",
   "metadata": {},
   "source": [
    "Remove the original feature as we already extracted the details"
   ]
  },
  {
   "cell_type": "code",
   "execution_count": 131,
   "metadata": {},
   "outputs": [],
   "source": [
    "movie_keyword = movie_keyword.drop(columns = ['keywords'])"
   ]
  },
  {
   "cell_type": "code",
   "execution_count": 132,
   "metadata": {},
   "outputs": [
    {
     "data": {
      "text/html": [
       "<div>\n",
       "<style scoped>\n",
       "    .dataframe tbody tr th:only-of-type {\n",
       "        vertical-align: middle;\n",
       "    }\n",
       "\n",
       "    .dataframe tbody tr th {\n",
       "        vertical-align: top;\n",
       "    }\n",
       "\n",
       "    .dataframe thead th {\n",
       "        text-align: right;\n",
       "    }\n",
       "</style>\n",
       "<table border=\"1\" class=\"dataframe\">\n",
       "  <thead>\n",
       "    <tr style=\"text-align: right;\">\n",
       "      <th></th>\n",
       "      <th>id</th>\n",
       "      <th>movie_keywords</th>\n",
       "    </tr>\n",
       "  </thead>\n",
       "  <tbody>\n",
       "    <tr>\n",
       "      <th>0</th>\n",
       "      <td>862</td>\n",
       "      <td>jealousy toy boy friendship friends rivalry bo...</td>\n",
       "    </tr>\n",
       "    <tr>\n",
       "      <th>1</th>\n",
       "      <td>8844</td>\n",
       "      <td>board game disappearance based on children's b...</td>\n",
       "    </tr>\n",
       "    <tr>\n",
       "      <th>2</th>\n",
       "      <td>15602</td>\n",
       "      <td>fishing best friend duringcreditsstinger old men</td>\n",
       "    </tr>\n",
       "    <tr>\n",
       "      <th>3</th>\n",
       "      <td>31357</td>\n",
       "      <td>based on novel interracial relationship single...</td>\n",
       "    </tr>\n",
       "    <tr>\n",
       "      <th>4</th>\n",
       "      <td>11862</td>\n",
       "      <td>baby midlife crisis confidence aging daughter ...</td>\n",
       "    </tr>\n",
       "  </tbody>\n",
       "</table>\n",
       "</div>"
      ],
      "text/plain": [
       "      id                                     movie_keywords\n",
       "0    862  jealousy toy boy friendship friends rivalry bo...\n",
       "1   8844  board game disappearance based on children's b...\n",
       "2  15602   fishing best friend duringcreditsstinger old men\n",
       "3  31357  based on novel interracial relationship single...\n",
       "4  11862  baby midlife crisis confidence aging daughter ..."
      ]
     },
     "execution_count": 132,
     "metadata": {},
     "output_type": "execute_result"
    }
   ],
   "source": [
    "movie_keyword.head(5)"
   ]
  },
  {
   "cell_type": "markdown",
   "metadata": {},
   "source": [
    "### MERGING MOVIE METADATA AND KEYWORD DATASET "
   ]
  },
  {
   "cell_type": "markdown",
   "metadata": {},
   "source": [
    "Merge the moview_metadata df with movie_keyword df. The merge is performed on the id fiels. Resultant dataframe will have the keyword details as well."
   ]
  },
  {
   "cell_type": "code",
   "execution_count": 133,
   "metadata": {},
   "outputs": [],
   "source": [
    "movie_content_df = pd.merge(left=movie_metadata_df, right=movie_keyword, left_on='id', right_on='id')"
   ]
  },
  {
   "cell_type": "code",
   "execution_count": 134,
   "metadata": {},
   "outputs": [
    {
     "data": {
      "text/plain": [
       "(44969, 18)"
      ]
     },
     "execution_count": 134,
     "metadata": {},
     "output_type": "execute_result"
    }
   ],
   "source": [
    "movie_content_df.shape"
   ]
  },
  {
   "cell_type": "code",
   "execution_count": 135,
   "metadata": {},
   "outputs": [
    {
     "data": {
      "text/plain": [
       "Index(['adult', 'id', 'imdb_id', 'original_language', 'original_title',\n",
       "       'overview', 'release_date', 'runtime', 'status', 'title', 'video',\n",
       "       'vote_average', 'vote_count', 'movie_genre', 'movie_production',\n",
       "       'production_country', 'spoken_language', 'movie_keywords'],\n",
       "      dtype='object')"
      ]
     },
     "execution_count": 135,
     "metadata": {},
     "output_type": "execute_result"
    }
   ],
   "source": [
    "movie_content_df.columns"
   ]
  },
  {
   "cell_type": "markdown",
   "metadata": {},
   "source": [
    "The resultant dataframe will be used for the content based filtering. Hence only retaining those fields which can be used for content based filtering."
   ]
  },
  {
   "cell_type": "code",
   "execution_count": 136,
   "metadata": {},
   "outputs": [],
   "source": [
    "movie_content_df = movie_content_df[['imdb_id', 'original_language', 'original_title', 'title', 'overview', 'movie_genre', 'movie_production', 'movie_keywords', 'spoken_language']]"
   ]
  },
  {
   "cell_type": "code",
   "execution_count": 137,
   "metadata": {},
   "outputs": [
    {
     "data": {
      "text/plain": [
       "(44969, 9)"
      ]
     },
     "execution_count": 137,
     "metadata": {},
     "output_type": "execute_result"
    }
   ],
   "source": [
    "movie_content_df.shape"
   ]
  },
  {
   "cell_type": "markdown",
   "metadata": {},
   "source": [
    "Ensuring imdb_ids are unique."
   ]
  },
  {
   "cell_type": "code",
   "execution_count": 138,
   "metadata": {},
   "outputs": [
    {
     "data": {
      "text/plain": [
       "44969"
      ]
     },
     "execution_count": 138,
     "metadata": {},
     "output_type": "execute_result"
    }
   ],
   "source": [
    "movie_content_df.imdb_id.nunique()"
   ]
  },
  {
   "cell_type": "markdown",
   "metadata": {},
   "source": [
    "**FILTERING ONLY THE SUBSET OF MOVIES USED IN RATINGS DATASET**"
   ]
  },
  {
   "cell_type": "markdown",
   "metadata": {},
   "source": [
    "Note that the movie_metadata dataset is an extensive data covering almost 45000 movies. But ratings_small is only capturing the user -moview interaction only for 9000+ movies. Hence we will be considering only those movies which are present in the ratings dataset. We are not considering all the movies in movie_metadata."
   ]
  },
  {
   "cell_type": "code",
   "execution_count": 139,
   "metadata": {},
   "outputs": [],
   "source": [
    "rating_imdb = rating_dataset[['imdbId']]"
   ]
  },
  {
   "cell_type": "code",
   "execution_count": 140,
   "metadata": {},
   "outputs": [
    {
     "data": {
      "text/plain": [
       "(100004, 1)"
      ]
     },
     "execution_count": 140,
     "metadata": {},
     "output_type": "execute_result"
    }
   ],
   "source": [
    "rating_imdb.shape"
   ]
  },
  {
   "cell_type": "markdown",
   "metadata": {},
   "source": [
    "Lets filter only unique movies from the ratings dataset"
   ]
  },
  {
   "cell_type": "code",
   "execution_count": 141,
   "metadata": {},
   "outputs": [
    {
     "data": {
      "text/plain": [
       "(9066, 1)"
      ]
     },
     "execution_count": 141,
     "metadata": {},
     "output_type": "execute_result"
    }
   ],
   "source": [
    "rating_imdb = rating_imdb.drop_duplicates()\n",
    "rating_imdb.shape"
   ]
  },
  {
   "cell_type": "markdown",
   "metadata": {},
   "source": [
    "Perform an inner join between the imdb ids from ratings dataset and movie_metadata df. This is done to ensure that we are considering only those movies which are present in interaction matrix, for  content based filtering as well."
   ]
  },
  {
   "cell_type": "code",
   "execution_count": 142,
   "metadata": {},
   "outputs": [],
   "source": [
    "content_based_dataset = pd.merge(left=movie_content_df, right=rating_imdb, left_on='imdb_id', right_on='imdbId', how = 'inner')"
   ]
  },
  {
   "cell_type": "code",
   "execution_count": 143,
   "metadata": {},
   "outputs": [
    {
     "data": {
      "text/plain": [
       "(8989, 10)"
      ]
     },
     "execution_count": 143,
     "metadata": {},
     "output_type": "execute_result"
    }
   ],
   "source": [
    "content_based_dataset.shape"
   ]
  },
  {
   "cell_type": "markdown",
   "metadata": {},
   "source": [
    "Here we can notice that some of the movies in the ratings dataset is not present in the movie_metadata. We can see after merge we have only 8989 movies, whereas ratings dataset has 9066."
   ]
  },
  {
   "cell_type": "code",
   "execution_count": 144,
   "metadata": {},
   "outputs": [
    {
     "data": {
      "text/plain": [
       "(8989, 9)"
      ]
     },
     "execution_count": 144,
     "metadata": {},
     "output_type": "execute_result"
    }
   ],
   "source": [
    "content_based_dataset = content_based_dataset.drop(columns = ['imdb_id'])\n",
    "content_based_dataset.shape"
   ]
  },
  {
   "cell_type": "code",
   "execution_count": 145,
   "metadata": {},
   "outputs": [
    {
     "data": {
      "text/plain": [
       "Index(['original_language', 'original_title', 'title', 'overview',\n",
       "       'movie_genre', 'movie_production', 'movie_keywords', 'spoken_language',\n",
       "       'imdbId'],\n",
       "      dtype='object')"
      ]
     },
     "execution_count": 145,
     "metadata": {},
     "output_type": "execute_result"
    }
   ],
   "source": [
    "content_based_dataset.columns"
   ]
  },
  {
   "cell_type": "code",
   "execution_count": 146,
   "metadata": {},
   "outputs": [
    {
     "data": {
      "text/plain": [
       "41"
      ]
     },
     "execution_count": 146,
     "metadata": {},
     "output_type": "execute_result"
    }
   ],
   "source": [
    "content_based_dataset.original_language.nunique()"
   ]
  },
  {
   "cell_type": "code",
   "execution_count": 147,
   "metadata": {},
   "outputs": [
    {
     "data": {
      "text/plain": [
       "array(['en', 'fr', 'zh', 'it', 'fa', 'nl', 'cn', 'ru', 'es', 'sv', 'ja',\n",
       "       'de', 'sr', 'bn', 'pt', 'vi', 'cs', 'da', 'nb', 'no', 'el', 'xx',\n",
       "       'bo', 'ko', 'fi', 'sk', 'hu', 'bs', 'hi', 'is', 'he', 'pl', 'tr',\n",
       "       'ps', 'th', 'uk', 'af', 'ro', 'ar', 'et', 'id'], dtype=object)"
      ]
     },
     "execution_count": 147,
     "metadata": {},
     "output_type": "execute_result"
    }
   ],
   "source": [
    "content_based_dataset.original_language.unique()"
   ]
  },
  {
   "cell_type": "markdown",
   "metadata": {},
   "source": [
    "**FINAL RATINGS DATASET: CREATED BY FILTERING ONLY THE RATING CORRESPONDING TO COMMON MOVIES BETWEEN CONTENT AND MOVIE REVIEW DATASET**"
   ]
  },
  {
   "cell_type": "code",
   "execution_count": 148,
   "metadata": {},
   "outputs": [],
   "source": [
    "rating_dataset_final  = rating_dataset[rating_dataset.imdbId.isin(list(content_based_dataset.imdbId.unique()))]"
   ]
  },
  {
   "cell_type": "code",
   "execution_count": 149,
   "metadata": {},
   "outputs": [
    {
     "data": {
      "text/plain": [
       "(99752, 3)"
      ]
     },
     "execution_count": 149,
     "metadata": {},
     "output_type": "execute_result"
    }
   ],
   "source": [
    "rating_dataset_final.shape"
   ]
  },
  {
   "cell_type": "markdown",
   "metadata": {},
   "source": [
    "**Checking the number of users and user interactions**"
   ]
  },
  {
   "cell_type": "code",
   "execution_count": 150,
   "metadata": {},
   "outputs": [
    {
     "data": {
      "text/plain": [
       "671"
      ]
     },
     "execution_count": 150,
     "metadata": {},
     "output_type": "execute_result"
    }
   ],
   "source": [
    "rating_dataset_final.userId.nunique()"
   ]
  },
  {
   "cell_type": "code",
   "execution_count": 151,
   "metadata": {},
   "outputs": [
    {
     "data": {
      "text/plain": [
       "count     671.000000\n",
       "mean      148.661699\n",
       "std       230.468582\n",
       "min        19.000000\n",
       "25%        37.000000\n",
       "50%        71.000000\n",
       "75%       160.000000\n",
       "max      2374.000000\n",
       "Name: imdbId, dtype: float64"
      ]
     },
     "execution_count": 151,
     "metadata": {},
     "output_type": "execute_result"
    }
   ],
   "source": [
    "rating_dataset_final.groupby('userId')['imdbId'].size().describe()"
   ]
  },
  {
   "cell_type": "markdown",
   "metadata": {},
   "source": [
    "We can notice that in final dataset also, for any user the minimum number of intaction is 19. Which is sufficient enough for collaborative filtering."
   ]
  },
  {
   "cell_type": "code",
   "execution_count": 152,
   "metadata": {},
   "outputs": [
    {
     "data": {
      "text/plain": [
       "0.5"
      ]
     },
     "execution_count": 152,
     "metadata": {},
     "output_type": "execute_result"
    }
   ],
   "source": [
    "rating_dataset_final.rating.min()"
   ]
  },
  {
   "cell_type": "code",
   "execution_count": 153,
   "metadata": {},
   "outputs": [
    {
     "data": {
      "text/plain": [
       "5.0"
      ]
     },
     "execution_count": 153,
     "metadata": {},
     "output_type": "execute_result"
    }
   ],
   "source": [
    "rating_dataset_final.rating.max()"
   ]
  },
  {
   "cell_type": "markdown",
   "metadata": {},
   "source": [
    "**STORE THESE FINAL DATASETS TO EXTERNAL CSV FILES**"
   ]
  },
  {
   "cell_type": "code",
   "execution_count": 154,
   "metadata": {},
   "outputs": [],
   "source": [
    "rating_dataset_final.to_csv('RATINGS_DATASET.csv')"
   ]
  },
  {
   "cell_type": "code",
   "execution_count": 155,
   "metadata": {},
   "outputs": [],
   "source": [
    "content_based_dataset.to_csv('MOVIE_CONTENT_DATASET.csv')"
   ]
  },
  {
   "cell_type": "code",
   "execution_count": null,
   "metadata": {},
   "outputs": [],
   "source": []
  }
 ],
 "metadata": {
  "kernelspec": {
   "display_name": "Python 3",
   "language": "python",
   "name": "python3"
  },
  "language_info": {
   "codemirror_mode": {
    "name": "ipython",
    "version": 3
   },
   "file_extension": ".py",
   "mimetype": "text/x-python",
   "name": "python",
   "nbconvert_exporter": "python",
   "pygments_lexer": "ipython3",
   "version": "3.7.1"
  }
 },
 "nbformat": 4,
 "nbformat_minor": 4
}
